{
 "cells": [
  {
   "cell_type": "markdown",
   "metadata": {},
   "source": [
    "# Overview"
   ]
  },
  {
   "cell_type": "markdown",
   "metadata": {},
   "source": [
    "1. Project Instructions & Prerequisites\n",
    "2. Learning Objectives\n",
    "3. Data Preparation\n",
    "4. Create Categorical Features with TF Feature Columns\n",
    "5. Create Continuous/Numerical Features with TF Feature Columns\n",
    "6. Build Deep Learning Regression Model with Sequential API and TF Probability Layers\n",
    "7. Evaluating Potential Model Biases with Aequitas Toolkit\n"
   ]
  },
  {
   "cell_type": "markdown",
   "metadata": {},
   "source": [
    "#  1. Project Instructions & Prerequisites"
   ]
  },
  {
   "cell_type": "markdown",
   "metadata": {},
   "source": [
    "## Project Instructions"
   ]
  },
  {
   "cell_type": "markdown",
   "metadata": {},
   "source": [
    "**Context**: EHR data is becoming a key source of real-world evidence (RWE) for the pharmaceutical industry and regulators to [make decisions on clinical trials](https://www.fda.gov/news-events/speeches-fda-officials/breaking-down-barriers-between-clinical-trials-and-clinical-care-incorporating-real-world-evidence). You are a data scientist for an exciting unicorn healthcare startup that has created a groundbreaking diabetes drug that is ready for clinical trial testing. It is a very unique and sensitive drug that requires administering the drug over at least 5-7 days of time in the hospital with frequent monitoring/testing and patient medication adherence training with a mobile application. You have been provided a patient dataset from a client partner and are tasked with building a predictive model that can identify which type of patients the company should focus their efforts testing this drug on. Target patients are people that are likely to be in the hospital for this duration of time and will not incur significant additional costs for administering this drug to the patient and monitoring.  \n",
    "\n",
    "In order to achieve your goal you must build a regression model that can predict the estimated hospitalization time for a patient and use this to select/filter patients for your study.\n"
   ]
  },
  {
   "cell_type": "markdown",
   "metadata": {},
   "source": [
    "**Expected Hospitalization Time Regression Model:** Utilizing a synthetic dataset(denormalized at the line level augmentation) built off of the UCI Diabetes readmission dataset, students will build a regression model that predicts the expected days of hospitalization time and then convert this to a binary prediction of whether to include or exclude that patient from the clinical trial.\n",
    "\n",
    "This project will demonstrate the importance of building the right data representation at the encounter level, with appropriate filtering and preprocessing/feature engineering of key medical code sets. This project will also require students to analyze and interpret their model for biases across key demographic groups. \n",
    "\n",
    "Please see the project rubric online for more details on the areas your project will be evaluated."
   ]
  },
  {
   "cell_type": "markdown",
   "metadata": {},
   "source": [
    "### Dataset"
   ]
  },
  {
   "cell_type": "markdown",
   "metadata": {},
   "source": [
    "Due to healthcare PHI regulations (HIPAA, HITECH), there are limited number of publicly available datasets and some datasets require training and approval. So, for the purpose of this exercise, we are using a dataset from UC Irvine(https://archive.ics.uci.edu/ml/datasets/Diabetes+130-US+hospitals+for+years+1999-2008) that has been modified for this course. Please note that it is limited in its representation of some key features such as diagnosis codes which are usually an unordered list in 835s/837s (the HL7 standard interchange formats used for claims and remits)."
   ]
  },
  {
   "cell_type": "markdown",
   "metadata": {},
   "source": [
    "**Data Schema**\n",
    "The dataset reference information can be https://github.com/udacity/nd320-c1-emr-data-starter/blob/master/project/data_schema_references/\n",
    ". There are two CSVs that provide more details on the fields and some of the mapped values."
   ]
  },
  {
   "cell_type": "markdown",
   "metadata": {},
   "source": [
    "## Project Submission "
   ]
  },
  {
   "cell_type": "markdown",
   "metadata": {},
   "source": [
    "When submitting this project, make sure to run all the cells before saving the notebook. Save the notebook file as \"student_project_submission.ipynb\" and save another copy as an HTML file by clicking \"File\" -> \"Download as..\"->\"html\". Include the \"utils.py\" and \"student_utils.py\" files in your submission. The student_utils.py should be where you put most of your code that you write and the summary and text explanations should be written inline in the notebook. Once you download these files, compress them into one zip file for submission."
   ]
  },
  {
   "cell_type": "markdown",
   "metadata": {},
   "source": [
    "## Prerequisites "
   ]
  },
  {
   "cell_type": "markdown",
   "metadata": {},
   "source": [
    "- Intermediate level knowledge of Python\n",
    "- Basic knowledge of probability and statistics\n",
    "- Basic knowledge of machine learning concepts\n",
    "- Installation of Tensorflow 2.0 and other dependencies(conda environment.yml or virtualenv requirements.txt file provided)"
   ]
  },
  {
   "cell_type": "markdown",
   "metadata": {},
   "source": [
    "## Environment Setup"
   ]
  },
  {
   "cell_type": "markdown",
   "metadata": {},
   "source": [
    "For step by step instructions on creating your environment, please go to https://github.com/udacity/nd320-c1-emr-data-starter/blob/master/project/README.md."
   ]
  },
  {
   "cell_type": "markdown",
   "metadata": {},
   "source": [
    "# 2.  Learning Objectives"
   ]
  },
  {
   "cell_type": "markdown",
   "metadata": {},
   "source": [
    "By the end of the project, you will be able to \n",
    "   - Use the Tensorflow Dataset API to scalably extract, transform, and load datasets and build datasets aggregated at the line, encounter, and patient data levels(longitudinal)\n",
    "   - Analyze EHR datasets to check for common issues (data leakage, statistical properties, missing values, high cardinality) by performing exploratory data analysis.\n",
    "   - Create categorical features from Key Industry Code Sets (ICD, CPT, NDC) and reduce dimensionality for high cardinality features by using embeddings \n",
    "   - Create derived features(bucketing, cross-features, embeddings) utilizing Tensorflow feature columns on both continuous and categorical input features\n",
    "   - SWBAT use the Tensorflow Probability library to train a model that provides uncertainty range predictions that allow for risk adjustment/prioritization and triaging of predictions\n",
    "   - Analyze and determine biases for a model for key demographic groups by evaluating performance metrics across groups by using the Aequitas framework \n"
   ]
  },
  {
   "cell_type": "markdown",
   "metadata": {},
   "source": [
    "# 3. Data Preparation"
   ]
  },
  {
   "cell_type": "code",
   "execution_count": 4,
   "metadata": {},
   "outputs": [
    {
     "name": "stdout",
     "output_type": "stream",
     "text": [
      "The autoreload extension is already loaded. To reload it, use:\n",
      "  %reload_ext autoreload\n"
     ]
    }
   ],
   "source": [
    "# from __future__ import absolute_import, division, print_function, unicode_literals\n",
    "import os\n",
    "import numpy as np\n",
    "import tensorflow as tf\n",
    "from tensorflow.keras import layers\n",
    "import tensorflow_probability as tfp\n",
    "import matplotlib.pyplot as plt\n",
    "import pandas as pd\n",
    "import aequitas as ae\n",
    "\n",
    "import seaborn as sns\n",
    "import matplotlib.pyplot as plt\n",
    "\n",
    "# Put all of the helper functions in utils\n",
    "from utils import build_vocab_files, show_group_stats_viz, aggregate_dataset, preprocess_df, df_to_dataset, posterior_mean_field, prior_trainable\n",
    "pd.set_option('display.max_columns', 500)\n",
    "# this allows you to make changes and save in student_utils.py and the file is reloaded every time you run a code block\n",
    "%load_ext autoreload\n",
    "%autoreload"
   ]
  },
  {
   "cell_type": "code",
   "execution_count": 5,
   "metadata": {},
   "outputs": [],
   "source": [
    "#OPEN ISSUE ON MAC OSX for TF model training\n",
    "import os\n",
    "os.environ['KMP_DUPLICATE_LIB_OK']='True'"
   ]
  },
  {
   "cell_type": "markdown",
   "metadata": {},
   "source": [
    "## Dataset Loading and Schema Review"
   ]
  },
  {
   "cell_type": "markdown",
   "metadata": {},
   "source": [
    "Load the dataset and view a sample of the dataset along with reviewing the schema reference files to gain a deeper understanding of the dataset. The dataset is located at the following path https://github.com/udacity/nd320-c1-emr-data-starter/blob/master/project/starter_code/data/final_project_dataset.csv. Also, review the information found in the data schema https://github.com/udacity/nd320-c1-emr-data-starter/blob/master/project/data_schema_references/"
   ]
  },
  {
   "cell_type": "code",
   "execution_count": 6,
   "metadata": {},
   "outputs": [
    {
     "data": {
      "text/html": [
       "<div>\n",
       "<style scoped>\n",
       "    .dataframe tbody tr th:only-of-type {\n",
       "        vertical-align: middle;\n",
       "    }\n",
       "\n",
       "    .dataframe tbody tr th {\n",
       "        vertical-align: top;\n",
       "    }\n",
       "\n",
       "    .dataframe thead th {\n",
       "        text-align: right;\n",
       "    }\n",
       "</style>\n",
       "<table border=\"1\" class=\"dataframe\">\n",
       "  <thead>\n",
       "    <tr style=\"text-align: right;\">\n",
       "      <th></th>\n",
       "      <th>encounter_id</th>\n",
       "      <th>patient_nbr</th>\n",
       "      <th>race</th>\n",
       "      <th>gender</th>\n",
       "      <th>age</th>\n",
       "      <th>weight</th>\n",
       "      <th>admission_type_id</th>\n",
       "      <th>discharge_disposition_id</th>\n",
       "      <th>admission_source_id</th>\n",
       "      <th>time_in_hospital</th>\n",
       "      <th>payer_code</th>\n",
       "      <th>medical_specialty</th>\n",
       "      <th>primary_diagnosis_code</th>\n",
       "      <th>other_diagnosis_codes</th>\n",
       "      <th>number_outpatient</th>\n",
       "      <th>number_inpatient</th>\n",
       "      <th>number_emergency</th>\n",
       "      <th>num_lab_procedures</th>\n",
       "      <th>number_diagnoses</th>\n",
       "      <th>num_medications</th>\n",
       "      <th>num_procedures</th>\n",
       "      <th>ndc_code</th>\n",
       "      <th>max_glu_serum</th>\n",
       "      <th>A1Cresult</th>\n",
       "      <th>change</th>\n",
       "      <th>readmitted</th>\n",
       "    </tr>\n",
       "  </thead>\n",
       "  <tbody>\n",
       "    <tr>\n",
       "      <th>1504</th>\n",
       "      <td>8308146</td>\n",
       "      <td>183906</td>\n",
       "      <td>AfricanAmerican</td>\n",
       "      <td>Male</td>\n",
       "      <td>[40-50)</td>\n",
       "      <td>?</td>\n",
       "      <td>1</td>\n",
       "      <td>1</td>\n",
       "      <td>7</td>\n",
       "      <td>13</td>\n",
       "      <td>?</td>\n",
       "      <td>?</td>\n",
       "      <td>358</td>\n",
       "      <td>305|70</td>\n",
       "      <td>0</td>\n",
       "      <td>0</td>\n",
       "      <td>0</td>\n",
       "      <td>79</td>\n",
       "      <td>7</td>\n",
       "      <td>19</td>\n",
       "      <td>2</td>\n",
       "      <td>68071-1701</td>\n",
       "      <td>None</td>\n",
       "      <td>None</td>\n",
       "      <td>Ch</td>\n",
       "      <td>&gt;30</td>\n",
       "    </tr>\n",
       "  </tbody>\n",
       "</table>\n",
       "</div>"
      ],
      "text/plain": [
       "      encounter_id  patient_nbr             race gender      age weight  \\\n",
       "1504       8308146       183906  AfricanAmerican   Male  [40-50)      ?   \n",
       "\n",
       "      admission_type_id  discharge_disposition_id  admission_source_id  \\\n",
       "1504                  1                         1                    7   \n",
       "\n",
       "      time_in_hospital payer_code medical_specialty primary_diagnosis_code  \\\n",
       "1504                13          ?                 ?                    358   \n",
       "\n",
       "     other_diagnosis_codes  number_outpatient  number_inpatient  \\\n",
       "1504                305|70                  0                 0   \n",
       "\n",
       "      number_emergency  num_lab_procedures  number_diagnoses  num_medications  \\\n",
       "1504                 0                  79                 7               19   \n",
       "\n",
       "      num_procedures    ndc_code max_glu_serum A1Cresult change readmitted  \n",
       "1504               2  68071-1701          None      None     Ch        >30  "
      ]
     },
     "execution_count": 6,
     "metadata": {},
     "output_type": "execute_result"
    }
   ],
   "source": [
    "dataset_path = \"./data/final_project_dataset.csv\"\n",
    "df = pd.read_csv(dataset_path)\n",
    "df.sample()"
   ]
  },
  {
   "cell_type": "markdown",
   "metadata": {},
   "source": [
    "## Determine Level of Dataset (Line or Encounter)"
   ]
  },
  {
   "cell_type": "markdown",
   "metadata": {},
   "source": [
    "**Question 1**: Based off of analysis of the data, what level is this dataset? Is it at the line or encounter level? Are there any key fields besides the encounter_id and patient_nbr fields that we should use to aggregate on? Knowing this information will help inform us what level of aggregation is necessary for future steps and is a step that is often overlooked. "
   ]
  },
  {
   "cell_type": "code",
   "execution_count": 7,
   "metadata": {},
   "outputs": [
    {
     "name": "stdout",
     "output_type": "stream",
     "text": [
      "Dataset could be at the line level\n",
      "Dataset is not at the encounter level\n"
     ]
    }
   ],
   "source": [
    "# Line Test\n",
    "try:\n",
    "    assert len(df) > df['encounter_id'].nunique() \n",
    "    print(\"Dataset could be at the line level\")\n",
    "except:\n",
    "    print(\"Dataset is not at the line level\")\n",
    "# Encounter Test\n",
    "try:\n",
    "    assert len(df) == df['encounter_id'].nunique()\n",
    "    print(\"Dataset could be at the encounter level\")\n",
    "except:\n",
    "    print(\"Dataset is not at the encounter level\")"
   ]
  },
  {
   "cell_type": "code",
   "execution_count": 8,
   "metadata": {},
   "outputs": [
    {
     "name": "stdout",
     "output_type": "stream",
     "text": [
      "Encounters by patient\n"
     ]
    },
    {
     "data": {
      "text/plain": [
       "90609804     52\n",
       "89472402     50\n",
       "91751121     50\n",
       "62352252     46\n",
       "84397842     41\n",
       "             ..\n",
       "152901392     1\n",
       "23189256      1\n",
       "9537282       1\n",
       "31037184      1\n",
       "2873403       1\n",
       "Name: patient_nbr, Length: 71518, dtype: int64"
      ]
     },
     "execution_count": 8,
     "metadata": {},
     "output_type": "execute_result"
    }
   ],
   "source": [
    "print('Encounters by patient')\n",
    "df['patient_nbr'].value_counts()"
   ]
  },
  {
   "cell_type": "code",
   "execution_count": 9,
   "metadata": {},
   "outputs": [
    {
     "name": "stdout",
     "output_type": "stream",
     "text": [
      "Unique encounters for patients: [106498890 112676100 117213834 122317860 170842716 199195110 206264388\n",
      " 208532580 222340416 224745156 227515974 237651330 246499866 251326500\n",
      " 281344026 288582600 293348976 330124538 383742416 427965524]\n"
     ]
    },
    {
     "name": "stderr",
     "output_type": "stream",
     "text": [
      "/opt/conda/lib/python3.7/site-packages/ipykernel_launcher.py:5: UserWarning: Boolean Series key will be reindexed to match DataFrame index.\n",
      "  \"\"\"\n"
     ]
    },
    {
     "data": {
      "text/html": [
       "<div>\n",
       "<style scoped>\n",
       "    .dataframe tbody tr th:only-of-type {\n",
       "        vertical-align: middle;\n",
       "    }\n",
       "\n",
       "    .dataframe tbody tr th {\n",
       "        vertical-align: top;\n",
       "    }\n",
       "\n",
       "    .dataframe thead th {\n",
       "        text-align: right;\n",
       "    }\n",
       "</style>\n",
       "<table border=\"1\" class=\"dataframe\">\n",
       "  <thead>\n",
       "    <tr style=\"text-align: right;\">\n",
       "      <th></th>\n",
       "      <th>encounter_id</th>\n",
       "      <th>patient_nbr</th>\n",
       "      <th>race</th>\n",
       "      <th>gender</th>\n",
       "      <th>age</th>\n",
       "      <th>weight</th>\n",
       "      <th>admission_type_id</th>\n",
       "      <th>discharge_disposition_id</th>\n",
       "      <th>admission_source_id</th>\n",
       "      <th>time_in_hospital</th>\n",
       "      <th>payer_code</th>\n",
       "      <th>medical_specialty</th>\n",
       "      <th>primary_diagnosis_code</th>\n",
       "      <th>other_diagnosis_codes</th>\n",
       "      <th>number_outpatient</th>\n",
       "      <th>number_inpatient</th>\n",
       "      <th>number_emergency</th>\n",
       "      <th>num_lab_procedures</th>\n",
       "      <th>number_diagnoses</th>\n",
       "      <th>num_medications</th>\n",
       "      <th>num_procedures</th>\n",
       "      <th>ndc_code</th>\n",
       "      <th>max_glu_serum</th>\n",
       "      <th>A1Cresult</th>\n",
       "      <th>change</th>\n",
       "      <th>readmitted</th>\n",
       "    </tr>\n",
       "  </thead>\n",
       "  <tbody>\n",
       "    <tr>\n",
       "      <th>49546</th>\n",
       "      <td>112676100</td>\n",
       "      <td>90609804</td>\n",
       "      <td>Caucasian</td>\n",
       "      <td>Female</td>\n",
       "      <td>[40-50)</td>\n",
       "      <td>?</td>\n",
       "      <td>3</td>\n",
       "      <td>1</td>\n",
       "      <td>1</td>\n",
       "      <td>3</td>\n",
       "      <td>?</td>\n",
       "      <td>Emergency/Trauma</td>\n",
       "      <td>540</td>\n",
       "      <td>276|311</td>\n",
       "      <td>0</td>\n",
       "      <td>1</td>\n",
       "      <td>1</td>\n",
       "      <td>17</td>\n",
       "      <td>9</td>\n",
       "      <td>14</td>\n",
       "      <td>2</td>\n",
       "      <td>65862-670</td>\n",
       "      <td>None</td>\n",
       "      <td>None</td>\n",
       "      <td>Ch</td>\n",
       "      <td>&gt;30</td>\n",
       "    </tr>\n",
       "    <tr>\n",
       "      <th>49547</th>\n",
       "      <td>112676100</td>\n",
       "      <td>90609804</td>\n",
       "      <td>Caucasian</td>\n",
       "      <td>Female</td>\n",
       "      <td>[40-50)</td>\n",
       "      <td>?</td>\n",
       "      <td>3</td>\n",
       "      <td>1</td>\n",
       "      <td>1</td>\n",
       "      <td>3</td>\n",
       "      <td>?</td>\n",
       "      <td>Emergency/Trauma</td>\n",
       "      <td>540</td>\n",
       "      <td>276|311</td>\n",
       "      <td>0</td>\n",
       "      <td>1</td>\n",
       "      <td>1</td>\n",
       "      <td>17</td>\n",
       "      <td>9</td>\n",
       "      <td>14</td>\n",
       "      <td>2</td>\n",
       "      <td>0049-0178</td>\n",
       "      <td>None</td>\n",
       "      <td>None</td>\n",
       "      <td>Ch</td>\n",
       "      <td>&gt;30</td>\n",
       "    </tr>\n",
       "    <tr>\n",
       "      <th>49548</th>\n",
       "      <td>112676100</td>\n",
       "      <td>90609804</td>\n",
       "      <td>Caucasian</td>\n",
       "      <td>Female</td>\n",
       "      <td>[40-50)</td>\n",
       "      <td>?</td>\n",
       "      <td>3</td>\n",
       "      <td>1</td>\n",
       "      <td>1</td>\n",
       "      <td>3</td>\n",
       "      <td>?</td>\n",
       "      <td>Emergency/Trauma</td>\n",
       "      <td>540</td>\n",
       "      <td>276|311</td>\n",
       "      <td>0</td>\n",
       "      <td>1</td>\n",
       "      <td>1</td>\n",
       "      <td>17</td>\n",
       "      <td>9</td>\n",
       "      <td>14</td>\n",
       "      <td>2</td>\n",
       "      <td>0173-0861</td>\n",
       "      <td>None</td>\n",
       "      <td>None</td>\n",
       "      <td>Ch</td>\n",
       "      <td>&gt;30</td>\n",
       "    </tr>\n",
       "    <tr>\n",
       "      <th>49549</th>\n",
       "      <td>112676100</td>\n",
       "      <td>90609804</td>\n",
       "      <td>Caucasian</td>\n",
       "      <td>Female</td>\n",
       "      <td>[40-50)</td>\n",
       "      <td>?</td>\n",
       "      <td>3</td>\n",
       "      <td>1</td>\n",
       "      <td>1</td>\n",
       "      <td>3</td>\n",
       "      <td>?</td>\n",
       "      <td>Emergency/Trauma</td>\n",
       "      <td>540</td>\n",
       "      <td>276|311</td>\n",
       "      <td>0</td>\n",
       "      <td>1</td>\n",
       "      <td>1</td>\n",
       "      <td>17</td>\n",
       "      <td>9</td>\n",
       "      <td>14</td>\n",
       "      <td>2</td>\n",
       "      <td>68071-1701</td>\n",
       "      <td>None</td>\n",
       "      <td>None</td>\n",
       "      <td>Ch</td>\n",
       "      <td>&gt;30</td>\n",
       "    </tr>\n",
       "  </tbody>\n",
       "</table>\n",
       "</div>"
      ],
      "text/plain": [
       "       encounter_id  patient_nbr       race  gender      age weight  \\\n",
       "49546     112676100     90609804  Caucasian  Female  [40-50)      ?   \n",
       "49547     112676100     90609804  Caucasian  Female  [40-50)      ?   \n",
       "49548     112676100     90609804  Caucasian  Female  [40-50)      ?   \n",
       "49549     112676100     90609804  Caucasian  Female  [40-50)      ?   \n",
       "\n",
       "       admission_type_id  discharge_disposition_id  admission_source_id  \\\n",
       "49546                  3                         1                    1   \n",
       "49547                  3                         1                    1   \n",
       "49548                  3                         1                    1   \n",
       "49549                  3                         1                    1   \n",
       "\n",
       "       time_in_hospital payer_code medical_specialty primary_diagnosis_code  \\\n",
       "49546                 3          ?  Emergency/Trauma                    540   \n",
       "49547                 3          ?  Emergency/Trauma                    540   \n",
       "49548                 3          ?  Emergency/Trauma                    540   \n",
       "49549                 3          ?  Emergency/Trauma                    540   \n",
       "\n",
       "      other_diagnosis_codes  number_outpatient  number_inpatient  \\\n",
       "49546               276|311                  0                 1   \n",
       "49547               276|311                  0                 1   \n",
       "49548               276|311                  0                 1   \n",
       "49549               276|311                  0                 1   \n",
       "\n",
       "       number_emergency  num_lab_procedures  number_diagnoses  \\\n",
       "49546                 1                  17                 9   \n",
       "49547                 1                  17                 9   \n",
       "49548                 1                  17                 9   \n",
       "49549                 1                  17                 9   \n",
       "\n",
       "       num_medications  num_procedures    ndc_code max_glu_serum A1Cresult  \\\n",
       "49546               14               2   65862-670          None      None   \n",
       "49547               14               2   0049-0178          None      None   \n",
       "49548               14               2   0173-0861          None      None   \n",
       "49549               14               2  68071-1701          None      None   \n",
       "\n",
       "      change readmitted  \n",
       "49546     Ch        >30  \n",
       "49547     Ch        >30  \n",
       "49548     Ch        >30  \n",
       "49549     Ch        >30  "
      ]
     },
     "execution_count": 9,
     "metadata": {},
     "output_type": "execute_result"
    }
   ],
   "source": [
    "#Encounters for patient 90609804\n",
    "print('Unique encounters for patients:', df[df['patient_nbr']==90609804]['encounter_id'].unique())\n",
    "\n",
    "#Analize one encounter\n",
    "df[df['patient_nbr']==90609804][df['encounter_id']==112676100]"
   ]
  },
  {
   "cell_type": "markdown",
   "metadata": {},
   "source": [
    "Student Response: \n",
    "\n",
    "**The dataset is on line level, since several records are displayed per encounter. Among the several records of each encounter the only value that changes is the medication code (ndc_code), that is, records are duplicated when several medications are prescribed. For us, it would be easier to have a dataset at the encounter level, so we would aggregate it by patient, encounter and ndc_code.**"
   ]
  },
  {
   "cell_type": "markdown",
   "metadata": {},
   "source": [
    "## Analyze Dataset"
   ]
  },
  {
   "cell_type": "markdown",
   "metadata": {},
   "source": [
    "**Question 2**: Utilizing the library of your choice (recommend Pandas and Seaborn or matplotlib though), perform exploratory data analysis on the dataset. In particular be sure to address the following questions:  \n",
    "    - a. Field(s) with high amount of missing/zero values\n",
    "    - b. Based off the frequency histogram for each numerical field, which numerical field(s) has/have a Gaussian(normal) distribution shape?\n",
    "    - c. Which field(s) have high cardinality and why (HINT: ndc_code is one feature)\n",
    "    - d. Please describe the demographic distributions in the dataset for the age and gender fields.\n",
    "    \n"
   ]
  },
  {
   "cell_type": "markdown",
   "metadata": {},
   "source": [
    "### Missing/Zero Values"
   ]
  },
  {
   "cell_type": "code",
   "execution_count": 10,
   "metadata": {},
   "outputs": [],
   "source": [
    "# Missing/Zero values\n",
    "df = df.replace('?', np.nan)\n",
    "\n",
    "def check_null_values(df):\n",
    "    null_df = pd.DataFrame({'columns': df.columns, \n",
    "                            'percent_null': df.isnull().sum() * 100 / len(df), \n",
    "                           'percent_zero': df.isin([0]).sum() * 100 / len(df)\n",
    "                           } )\n",
    "    return null_df \n",
    "\n",
    "null_df = check_null_values(df)"
   ]
  },
  {
   "cell_type": "code",
   "execution_count": 11,
   "metadata": {},
   "outputs": [
    {
     "data": {
      "text/html": [
       "<div>\n",
       "<style scoped>\n",
       "    .dataframe tbody tr th:only-of-type {\n",
       "        vertical-align: middle;\n",
       "    }\n",
       "\n",
       "    .dataframe tbody tr th {\n",
       "        vertical-align: top;\n",
       "    }\n",
       "\n",
       "    .dataframe thead th {\n",
       "        text-align: right;\n",
       "    }\n",
       "</style>\n",
       "<table border=\"1\" class=\"dataframe\">\n",
       "  <thead>\n",
       "    <tr style=\"text-align: right;\">\n",
       "      <th></th>\n",
       "      <th>percent_null</th>\n",
       "    </tr>\n",
       "  </thead>\n",
       "  <tbody>\n",
       "    <tr>\n",
       "      <th>weight</th>\n",
       "      <td>97.000502</td>\n",
       "    </tr>\n",
       "    <tr>\n",
       "      <th>medical_specialty</th>\n",
       "      <td>48.431922</td>\n",
       "    </tr>\n",
       "    <tr>\n",
       "      <th>payer_code</th>\n",
       "      <td>37.783077</td>\n",
       "    </tr>\n",
       "    <tr>\n",
       "      <th>ndc_code</th>\n",
       "      <td>16.358490</td>\n",
       "    </tr>\n",
       "    <tr>\n",
       "      <th>race</th>\n",
       "      <td>2.307145</td>\n",
       "    </tr>\n",
       "    <tr>\n",
       "      <th>primary_diagnosis_code</th>\n",
       "      <td>0.023009</td>\n",
       "    </tr>\n",
       "  </tbody>\n",
       "</table>\n",
       "</div>"
      ],
      "text/plain": [
       "                        percent_null\n",
       "weight                     97.000502\n",
       "medical_specialty          48.431922\n",
       "payer_code                 37.783077\n",
       "ndc_code                   16.358490\n",
       "race                        2.307145\n",
       "primary_diagnosis_code      0.023009"
      ]
     },
     "execution_count": 11,
     "metadata": {},
     "output_type": "execute_result"
    }
   ],
   "source": [
    "#Report null values\n",
    "null_df[null_df['percent_null'] > 0].sort_values('percent_null', ascending=False).drop(['columns','percent_zero'], axis=1)"
   ]
  },
  {
   "cell_type": "code",
   "execution_count": 12,
   "metadata": {},
   "outputs": [
    {
     "data": {
      "text/html": [
       "<div>\n",
       "<style scoped>\n",
       "    .dataframe tbody tr th:only-of-type {\n",
       "        vertical-align: middle;\n",
       "    }\n",
       "\n",
       "    .dataframe tbody tr th {\n",
       "        vertical-align: top;\n",
       "    }\n",
       "\n",
       "    .dataframe thead th {\n",
       "        text-align: right;\n",
       "    }\n",
       "</style>\n",
       "<table border=\"1\" class=\"dataframe\">\n",
       "  <thead>\n",
       "    <tr style=\"text-align: right;\">\n",
       "      <th></th>\n",
       "      <th>percent_zero</th>\n",
       "    </tr>\n",
       "  </thead>\n",
       "  <tbody>\n",
       "    <tr>\n",
       "      <th>number_emergency</th>\n",
       "      <td>88.858211</td>\n",
       "    </tr>\n",
       "    <tr>\n",
       "      <th>number_outpatient</th>\n",
       "      <td>83.686831</td>\n",
       "    </tr>\n",
       "    <tr>\n",
       "      <th>number_inpatient</th>\n",
       "      <td>67.421073</td>\n",
       "    </tr>\n",
       "    <tr>\n",
       "      <th>num_procedures</th>\n",
       "      <td>45.869589</td>\n",
       "    </tr>\n",
       "  </tbody>\n",
       "</table>\n",
       "</div>"
      ],
      "text/plain": [
       "                   percent_zero\n",
       "number_emergency      88.858211\n",
       "number_outpatient     83.686831\n",
       "number_inpatient      67.421073\n",
       "num_procedures        45.869589"
      ]
     },
     "execution_count": 12,
     "metadata": {},
     "output_type": "execute_result"
    }
   ],
   "source": [
    "#Report zero values\n",
    "null_df[null_df['percent_zero'] > 0].sort_values('percent_zero', ascending=False).drop(['columns','percent_null'], axis=1)"
   ]
  },
  {
   "cell_type": "markdown",
   "metadata": {},
   "source": [
    "**Following features show a high amount (> 35%) of missing values: weight, medical_speciality and payer. So they should not be taken into account in the analysis.**\n",
    "\n",
    "**On the other hand, the features number_emergency, number_outpatient,number_inpatient and num_procedures show a high percentage of zeros, which a priori does not indicate any anomaly in the data.**"
   ]
  },
  {
   "cell_type": "markdown",
   "metadata": {},
   "source": [
    "### Numerical Data distribution"
   ]
  },
  {
   "cell_type": "code",
   "execution_count": 13,
   "metadata": {
    "scrolled": true
   },
   "outputs": [
    {
     "data": {
      "text/html": [
       "<div>\n",
       "<style scoped>\n",
       "    .dataframe tbody tr th:only-of-type {\n",
       "        vertical-align: middle;\n",
       "    }\n",
       "\n",
       "    .dataframe tbody tr th {\n",
       "        vertical-align: top;\n",
       "    }\n",
       "\n",
       "    .dataframe thead th {\n",
       "        text-align: right;\n",
       "    }\n",
       "</style>\n",
       "<table border=\"1\" class=\"dataframe\">\n",
       "  <thead>\n",
       "    <tr style=\"text-align: right;\">\n",
       "      <th></th>\n",
       "      <th>encounter_id</th>\n",
       "      <th>patient_nbr</th>\n",
       "      <th>admission_type_id</th>\n",
       "      <th>discharge_disposition_id</th>\n",
       "      <th>admission_source_id</th>\n",
       "      <th>time_in_hospital</th>\n",
       "      <th>number_outpatient</th>\n",
       "      <th>number_inpatient</th>\n",
       "      <th>number_emergency</th>\n",
       "      <th>num_lab_procedures</th>\n",
       "      <th>number_diagnoses</th>\n",
       "      <th>num_medications</th>\n",
       "      <th>num_procedures</th>\n",
       "    </tr>\n",
       "  </thead>\n",
       "  <tbody>\n",
       "    <tr>\n",
       "      <th>count</th>\n",
       "      <td>1.434240e+05</td>\n",
       "      <td>1.434240e+05</td>\n",
       "      <td>143424.000000</td>\n",
       "      <td>143424.000000</td>\n",
       "      <td>143424.000000</td>\n",
       "      <td>143424.000000</td>\n",
       "      <td>143424.000000</td>\n",
       "      <td>143424.000000</td>\n",
       "      <td>143424.000000</td>\n",
       "      <td>143424.000000</td>\n",
       "      <td>143424.000000</td>\n",
       "      <td>143424.000000</td>\n",
       "      <td>143424.000000</td>\n",
       "    </tr>\n",
       "    <tr>\n",
       "      <th>mean</th>\n",
       "      <td>1.674290e+08</td>\n",
       "      <td>5.493608e+07</td>\n",
       "      <td>2.027694</td>\n",
       "      <td>3.655316</td>\n",
       "      <td>5.701096</td>\n",
       "      <td>4.490190</td>\n",
       "      <td>0.362429</td>\n",
       "      <td>0.600855</td>\n",
       "      <td>0.195086</td>\n",
       "      <td>43.255745</td>\n",
       "      <td>7.424434</td>\n",
       "      <td>16.776035</td>\n",
       "      <td>1.349021</td>\n",
       "    </tr>\n",
       "    <tr>\n",
       "      <th>std</th>\n",
       "      <td>1.019046e+08</td>\n",
       "      <td>3.857840e+07</td>\n",
       "      <td>1.427585</td>\n",
       "      <td>5.219279</td>\n",
       "      <td>4.064532</td>\n",
       "      <td>2.999667</td>\n",
       "      <td>1.249295</td>\n",
       "      <td>1.207934</td>\n",
       "      <td>0.920410</td>\n",
       "      <td>19.657319</td>\n",
       "      <td>1.924872</td>\n",
       "      <td>8.397130</td>\n",
       "      <td>1.719104</td>\n",
       "    </tr>\n",
       "    <tr>\n",
       "      <th>min</th>\n",
       "      <td>1.252200e+04</td>\n",
       "      <td>1.350000e+02</td>\n",
       "      <td>1.000000</td>\n",
       "      <td>1.000000</td>\n",
       "      <td>1.000000</td>\n",
       "      <td>1.000000</td>\n",
       "      <td>0.000000</td>\n",
       "      <td>0.000000</td>\n",
       "      <td>0.000000</td>\n",
       "      <td>1.000000</td>\n",
       "      <td>1.000000</td>\n",
       "      <td>1.000000</td>\n",
       "      <td>0.000000</td>\n",
       "    </tr>\n",
       "    <tr>\n",
       "      <th>25%</th>\n",
       "      <td>8.829596e+07</td>\n",
       "      <td>2.357219e+07</td>\n",
       "      <td>1.000000</td>\n",
       "      <td>1.000000</td>\n",
       "      <td>1.000000</td>\n",
       "      <td>2.000000</td>\n",
       "      <td>0.000000</td>\n",
       "      <td>0.000000</td>\n",
       "      <td>0.000000</td>\n",
       "      <td>32.000000</td>\n",
       "      <td>6.000000</td>\n",
       "      <td>11.000000</td>\n",
       "      <td>0.000000</td>\n",
       "    </tr>\n",
       "    <tr>\n",
       "      <th>50%</th>\n",
       "      <td>1.547637e+08</td>\n",
       "      <td>4.630783e+07</td>\n",
       "      <td>1.000000</td>\n",
       "      <td>1.000000</td>\n",
       "      <td>7.000000</td>\n",
       "      <td>4.000000</td>\n",
       "      <td>0.000000</td>\n",
       "      <td>0.000000</td>\n",
       "      <td>0.000000</td>\n",
       "      <td>44.000000</td>\n",
       "      <td>8.000000</td>\n",
       "      <td>15.000000</td>\n",
       "      <td>1.000000</td>\n",
       "    </tr>\n",
       "    <tr>\n",
       "      <th>75%</th>\n",
       "      <td>2.320897e+08</td>\n",
       "      <td>8.823627e+07</td>\n",
       "      <td>3.000000</td>\n",
       "      <td>3.000000</td>\n",
       "      <td>7.000000</td>\n",
       "      <td>6.000000</td>\n",
       "      <td>0.000000</td>\n",
       "      <td>1.000000</td>\n",
       "      <td>0.000000</td>\n",
       "      <td>57.000000</td>\n",
       "      <td>9.000000</td>\n",
       "      <td>21.000000</td>\n",
       "      <td>2.000000</td>\n",
       "    </tr>\n",
       "    <tr>\n",
       "      <th>max</th>\n",
       "      <td>4.438672e+08</td>\n",
       "      <td>1.895026e+08</td>\n",
       "      <td>8.000000</td>\n",
       "      <td>28.000000</td>\n",
       "      <td>25.000000</td>\n",
       "      <td>14.000000</td>\n",
       "      <td>42.000000</td>\n",
       "      <td>21.000000</td>\n",
       "      <td>76.000000</td>\n",
       "      <td>132.000000</td>\n",
       "      <td>16.000000</td>\n",
       "      <td>81.000000</td>\n",
       "      <td>6.000000</td>\n",
       "    </tr>\n",
       "  </tbody>\n",
       "</table>\n",
       "</div>"
      ],
      "text/plain": [
       "       encounter_id   patient_nbr  admission_type_id  \\\n",
       "count  1.434240e+05  1.434240e+05      143424.000000   \n",
       "mean   1.674290e+08  5.493608e+07           2.027694   \n",
       "std    1.019046e+08  3.857840e+07           1.427585   \n",
       "min    1.252200e+04  1.350000e+02           1.000000   \n",
       "25%    8.829596e+07  2.357219e+07           1.000000   \n",
       "50%    1.547637e+08  4.630783e+07           1.000000   \n",
       "75%    2.320897e+08  8.823627e+07           3.000000   \n",
       "max    4.438672e+08  1.895026e+08           8.000000   \n",
       "\n",
       "       discharge_disposition_id  admission_source_id  time_in_hospital  \\\n",
       "count             143424.000000        143424.000000     143424.000000   \n",
       "mean                   3.655316             5.701096          4.490190   \n",
       "std                    5.219279             4.064532          2.999667   \n",
       "min                    1.000000             1.000000          1.000000   \n",
       "25%                    1.000000             1.000000          2.000000   \n",
       "50%                    1.000000             7.000000          4.000000   \n",
       "75%                    3.000000             7.000000          6.000000   \n",
       "max                   28.000000            25.000000         14.000000   \n",
       "\n",
       "       number_outpatient  number_inpatient  number_emergency  \\\n",
       "count      143424.000000     143424.000000     143424.000000   \n",
       "mean            0.362429          0.600855          0.195086   \n",
       "std             1.249295          1.207934          0.920410   \n",
       "min             0.000000          0.000000          0.000000   \n",
       "25%             0.000000          0.000000          0.000000   \n",
       "50%             0.000000          0.000000          0.000000   \n",
       "75%             0.000000          1.000000          0.000000   \n",
       "max            42.000000         21.000000         76.000000   \n",
       "\n",
       "       num_lab_procedures  number_diagnoses  num_medications  num_procedures  \n",
       "count       143424.000000     143424.000000    143424.000000   143424.000000  \n",
       "mean            43.255745          7.424434        16.776035        1.349021  \n",
       "std             19.657319          1.924872         8.397130        1.719104  \n",
       "min              1.000000          1.000000         1.000000        0.000000  \n",
       "25%             32.000000          6.000000        11.000000        0.000000  \n",
       "50%             44.000000          8.000000        15.000000        1.000000  \n",
       "75%             57.000000          9.000000        21.000000        2.000000  \n",
       "max            132.000000         16.000000        81.000000        6.000000  "
      ]
     },
     "execution_count": 13,
     "metadata": {},
     "output_type": "execute_result"
    }
   ],
   "source": [
    "#Column information\n",
    "df.describe() #include='all')"
   ]
  },
  {
   "cell_type": "code",
   "execution_count": 14,
   "metadata": {},
   "outputs": [],
   "source": [
    "numerical_features = ['time_in_hospital', 'number_outpatient','number_inpatient', 'number_emergency', \n",
    "                      'num_lab_procedures', 'number_diagnoses', 'num_medications', 'num_procedures']                "
   ]
  },
  {
   "cell_type": "code",
   "execution_count": 15,
   "metadata": {},
   "outputs": [
    {
     "name": "stdout",
     "output_type": "stream",
     "text": [
      "Distribution of numerical data\n"
     ]
    },
    {
     "data": {
      "image/png": "[encoded data removed]",
      "text/plain": [
       "<Figure size 720x288 with 1 Axes>"
      ]
     },
     "metadata": {
      "needs_background": "light"
     },
     "output_type": "display_data"
    },
    {
     "data": {
      "image/png": "[encoded data removed]",
      "text/plain": [
       "<Figure size 720x288 with 1 Axes>"
      ]
     },
     "metadata": {
      "needs_background": "light"
     },
     "output_type": "display_data"
    },
    {
     "data": {
      "image/png": "[encoded data removed]",
      "text/plain": [
       "<Figure size 720x288 with 1 Axes>"
      ]
     },
     "metadata": {
      "needs_background": "light"
     },
     "output_type": "display_data"
    },
    {
     "data": {
      "image/png": "[encoded data removed]",
      "text/plain": [
       "<Figure size 720x288 with 1 Axes>"
      ]
     },
     "metadata": {
      "needs_background": "light"
     },
     "output_type": "display_data"
    },
    {
     "data": {
      "image/png": "[encoded data removed]",
      "text/plain": [
       "<Figure size 720x288 with 1 Axes>"
      ]
     },
     "metadata": {
      "needs_background": "light"
     },
     "output_type": "display_data"
    },
    {
     "data": {
      "image/png": "[encoded data removed]",
      "text/plain": [
       "<Figure size 720x288 with 1 Axes>"
      ]
     },
     "metadata": {
      "needs_background": "light"
     },
     "output_type": "display_data"
    },
    {
     "data": {
      "image/png": "[encoded data removed]",
      "text/plain": [
       "<Figure size 720x288 with 1 Axes>"
      ]
     },
     "metadata": {
      "needs_background": "light"
     },
     "output_type": "display_data"
    },
    {
     "data": {
      "image/png": "[encoded data removed]",
      "text/plain": [
       "<Figure size 720x288 with 1 Axes>"
      ]
     },
     "metadata": {
      "needs_background": "light"
     },
     "output_type": "display_data"
    }
   ],
   "source": [
    "print('Distribution of numerical data')\n",
    "for i, col in enumerate(numerical_features):\n",
    "    plt.figure(i, figsize=(10,4))\n",
    "    sns.distplot(df[col])"
   ]
  },
  {
   "cell_type": "markdown",
   "metadata": {},
   "source": [
    "**There are only three features that are normally distributed:**\n",
    "* **time_in_hospital (right skewed)**\n",
    "* **num_lab_procedures**\n",
    "* **num_medications (right skewed)**\n",
    "\n",
    "**Age is normally distributed although it is not a numerical variable**"
   ]
  },
  {
   "cell_type": "markdown",
   "metadata": {},
   "source": [
    "### High Cardinality Analysis"
   ]
  },
  {
   "cell_type": "code",
   "execution_count": 16,
   "metadata": {},
   "outputs": [
    {
     "name": "stdout",
     "output_type": "stream",
     "text": [
      "Cardinality of each feature\n"
     ]
    },
    {
     "data": {
      "text/plain": [
       "other_diagnosis_codes     19374\n",
       "primary_diagnosis_code      716\n",
       "ndc_code                    251\n",
       "medical_specialty            72\n",
       "payer_code                   17\n",
       "age                          10\n",
       "weight                        9\n",
       "race                          5\n",
       "A1Cresult                     4\n",
       "max_glu_serum                 4\n",
       "readmitted                    3\n",
       "gender                        3\n",
       "change                        2\n",
       "Name: unique, dtype: object"
      ]
     },
     "execution_count": 16,
     "metadata": {},
     "output_type": "execute_result"
    }
   ],
   "source": [
    "#High Cardinality\n",
    "print('Cardinality of each feature')\n",
    "df.describe(include='all').transpose()['unique'].dropna().sort_values(ascending=False)"
   ]
  },
  {
   "cell_type": "markdown",
   "metadata": {},
   "source": [
    "**Other_diagnosis_codes, primary_diagnosis_code and ndc_code are fields with high cardinality (>200 unique values). All of them refer to healthcare codes.**"
   ]
  },
  {
   "cell_type": "markdown",
   "metadata": {},
   "source": [
    "### Demographic distribution"
   ]
  },
  {
   "cell_type": "code",
   "execution_count": 17,
   "metadata": {},
   "outputs": [
    {
     "name": "stdout",
     "output_type": "stream",
     "text": [
      "Distribution of samples by age\n"
     ]
    },
    {
     "data": {
      "image/png": "[encoded data removed]",
      "text/plain": [
       "<Figure size 432x288 with 1 Axes>"
      ]
     },
     "metadata": {
      "needs_background": "light"
     },
     "output_type": "display_data"
    }
   ],
   "source": [
    "#Age distribution\n",
    "print('Distribution of samples by age')\n",
    "sns.countplot(x=\"age\", data=df);"
   ]
  },
  {
   "cell_type": "code",
   "execution_count": 18,
   "metadata": {},
   "outputs": [
    {
     "name": "stdout",
     "output_type": "stream",
     "text": [
      "Distribution of samples by gender\n"
     ]
    },
    {
     "data": {
      "text/plain": [
       "Female             0.531187\n",
       "Male               0.468778\n",
       "Unknown/Invalid    0.000035\n",
       "Name: gender, dtype: float64"
      ]
     },
     "execution_count": 18,
     "metadata": {},
     "output_type": "execute_result"
    },
    {
     "data": {
      "image/png": "[encoded data removed]",
      "text/plain": [
       "<Figure size 432x288 with 1 Axes>"
      ]
     },
     "metadata": {
      "needs_background": "light"
     },
     "output_type": "display_data"
    }
   ],
   "source": [
    "print('Distribution of samples by gender')\n",
    "sns.countplot(x=\"gender\", data=df)\n",
    "df['gender'].value_counts(normalize=True)"
   ]
  },
  {
   "cell_type": "code",
   "execution_count": 19,
   "metadata": {},
   "outputs": [
    {
     "name": "stdout",
     "output_type": "stream",
     "text": [
      "Distribution of samples by age, gender\n"
     ]
    },
    {
     "data": {
      "image/png": "[encoded data removed]",
      "text/plain": [
       "<Figure size 432x288 with 1 Axes>"
      ]
     },
     "metadata": {
      "needs_background": "light"
     },
     "output_type": "display_data"
    }
   ],
   "source": [
    "print('Distribution of samples by age, gender')\n",
    "sns.countplot(x=\"age\", hue=\"gender\", data=df);"
   ]
  },
  {
   "cell_type": "code",
   "execution_count": 20,
   "metadata": {},
   "outputs": [
    {
     "name": "stdout",
     "output_type": "stream",
     "text": [
      "Distribution of samples by age, gender and race\n"
     ]
    },
    {
     "data": {
      "image/png": "[encoded data removed]",
      "text/plain": [
       "<Figure size 839.125x1080 with 5 Axes>"
      ]
     },
     "metadata": {
      "needs_background": "light"
     },
     "output_type": "display_data"
    }
   ],
   "source": [
    "#sns.countplot(x=\"race\", hue=\"gender\", data=df)\n",
    "print('Distribution of samples by age, gender and race')\n",
    "g = sns.catplot(x=\"age\", hue=\"gender\", col=\"race\",\n",
    "                data=df, kind=\"count\", col_wrap=2);"
   ]
  },
  {
   "cell_type": "markdown",
   "metadata": {},
   "source": [
    "**Regarding the demographic distribution of the samples we can conclude the following:**\n",
    "* **The age distribution in the samples is normal, with a predominance of ages between 60 and 80.**\n",
    "* **The gender distribution is balanced (53/47), with a small proportion of unknown samples.**\n",
    "* **The age distribution by sex also shows a balanced distribution, although the older samples tend to be predominantly female.**\n",
    "* **With respect to race, Caucasians and African Americans predominate.**"
   ]
  },
  {
   "cell_type": "markdown",
   "metadata": {},
   "source": [
    "**OPTIONAL**: Use the Tensorflow Data Validation and Analysis library to complete. \n",
    "- The Tensorflow Data Validation and Analysis library(https://www.tensorflow.org/tfx/data_validation/get_started) is a useful tool for analyzing and summarizing dataset statistics. It is especially useful because it can scale to large datasets that do not fit into memory. \n",
    "- Note that there are some bugs that are still being resolved with Chrome v80 and we have moved away from using this for the project. "
   ]
  },
  {
   "cell_type": "markdown",
   "metadata": {},
   "source": [
    "**Student Response**: Answer above."
   ]
  },
  {
   "cell_type": "code",
   "execution_count": 21,
   "metadata": {},
   "outputs": [],
   "source": [
    "######NOTE: The visualization will only display in Chrome browser. ########\n",
    "#full_data_stats = tfdv.generate_statistics_from_csv(data_location='./data/final_project_dataset.csv') \n",
    "#tfdv.visualize_statistics(full_data_stats)"
   ]
  },
  {
   "cell_type": "markdown",
   "metadata": {},
   "source": [
    "## Reduce Dimensionality of the NDC Code Feature"
   ]
  },
  {
   "cell_type": "markdown",
   "metadata": {},
   "source": [
    "**Question 3**: NDC codes are a common format to represent the wide variety of drugs that are prescribed for patient care in the United States. The challenge is that there are many codes that map to the same or similar drug. You are provided with the ndc drug lookup file https://github.com/udacity/nd320-c1-emr-data-starter/blob/master/project/data_schema_references/ndc_lookup_table.csv derived from the National Drug Codes List site(https://ndclist.com/). Please use this file to come up with a way to reduce the dimensionality of this field and create a new field in the dataset called \"generic_drug_name\" in the output dataframe. "
   ]
  },
  {
   "cell_type": "code",
   "execution_count": 22,
   "metadata": {},
   "outputs": [],
   "source": [
    "#NDC code lookup file\n",
    "ndc_code_path = \"./medication_lookup_tables/final_ndc_lookup_table\"\n",
    "ndc_code_df = pd.read_csv(ndc_code_path)"
   ]
  },
  {
   "cell_type": "code",
   "execution_count": 23,
   "metadata": {},
   "outputs": [],
   "source": [
    "from student_utils import reduce_dimension_ndc"
   ]
  },
  {
   "cell_type": "code",
   "execution_count": 24,
   "metadata": {},
   "outputs": [],
   "source": [
    "reduce_dim_df = reduce_dimension_ndc(df, ndc_code_df)\n",
    "#reduce_dim_df.columns"
   ]
  },
  {
   "cell_type": "code",
   "execution_count": 25,
   "metadata": {},
   "outputs": [
    {
     "name": "stdout",
     "output_type": "stream",
     "text": [
      "Dimension reduction of NDC code: 251 -> 22\n"
     ]
    }
   ],
   "source": [
    "# Number of unique values should be less for the new output field\n",
    "assert df['ndc_code'].nunique() > reduce_dim_df['generic_drug_name'].nunique()\n",
    "print(\"Dimension reduction of NDC code:\", df['ndc_code'].nunique(), \"->\", reduce_dim_df['generic_drug_name'].nunique())"
   ]
  },
  {
   "cell_type": "markdown",
   "metadata": {},
   "source": [
    "## Select First Encounter for each Patient "
   ]
  },
  {
   "cell_type": "markdown",
   "metadata": {},
   "source": [
    "**Question 4**: In order to simplify the aggregation of data for the model, we will only select the first encounter for each patient in the dataset. This is to reduce the risk of data leakage of future patient encounters and to reduce complexity of the data transformation and modeling steps. We will assume that sorting in numerical order on the encounter_id provides the time horizon for determining which encounters come before and after another."
   ]
  },
  {
   "cell_type": "code",
   "execution_count": 26,
   "metadata": {},
   "outputs": [],
   "source": [
    "%autoreload 2\n",
    "from student_utils import select_first_encounter\n",
    "first_encounter_df = select_first_encounter(reduce_dim_df)"
   ]
  },
  {
   "cell_type": "code",
   "execution_count": 27,
   "metadata": {},
   "outputs": [
    {
     "name": "stdout",
     "output_type": "stream",
     "text": [
      "Number of unique patients:71518\n",
      "Number of unique encounters:71518\n",
      "Tests passed!!\n"
     ]
    }
   ],
   "source": [
    "# unique patients in transformed dataset\n",
    "unique_patients = first_encounter_df['patient_nbr'].nunique()\n",
    "print(\"Number of unique patients:{}\".format(unique_patients))\n",
    "\n",
    "# unique encounters in transformed dataset\n",
    "unique_encounters = first_encounter_df['encounter_id'].nunique()\n",
    "print(\"Number of unique encounters:{}\".format(unique_encounters))\n",
    "\n",
    "original_unique_patient_number = reduce_dim_df['patient_nbr'].nunique()\n",
    "# number of unique patients should be equal to the number of unique encounters and patients in the final dataset\n",
    "assert original_unique_patient_number == unique_patients\n",
    "assert original_unique_patient_number == unique_encounters\n",
    "print(\"Tests passed!!\")"
   ]
  },
  {
   "cell_type": "markdown",
   "metadata": {},
   "source": [
    "**In any case, as previously mentioned, there are several records per encounter when several medications are prescribed, so the dataset is not at the encounter level.**"
   ]
  },
  {
   "cell_type": "code",
   "execution_count": 28,
   "metadata": {},
   "outputs": [
    {
     "data": {
      "text/plain": [
       "58316058     6\n",
       "110310714    6\n",
       "63415968     6\n",
       "60016020     6\n",
       "92148810     5\n",
       "            ..\n",
       "11691306     1\n",
       "201094440    1\n",
       "61867302     1\n",
       "228806856    1\n",
       "173015040    1\n",
       "Name: encounter_id, Length: 71518, dtype: int64"
      ]
     },
     "execution_count": 28,
     "metadata": {},
     "output_type": "execute_result"
    }
   ],
   "source": [
    "first_encounter_df['encounter_id'].value_counts()"
   ]
  },
  {
   "cell_type": "markdown",
   "metadata": {},
   "source": [
    "## Aggregate Dataset to Right Level for Modeling "
   ]
  },
  {
   "cell_type": "markdown",
   "metadata": {},
   "source": [
    "In order to provide a broad scope of the steps and to prevent students from getting stuck with data transformations, we have selected the aggregation columns and provided a function to build the dataset at the appropriate level. The 'aggregate_dataset\" function that you can find in the 'utils.py' file can take the preceding dataframe with the 'generic_drug_name' field and transform the data appropriately for the project. \n",
    "\n",
    "To make it simpler for students, we are creating dummy columns for each unique generic drug name and adding those are input features to the model. There are other options for data representation but this is out of scope for the time constraints of the course."
   ]
  },
  {
   "cell_type": "code",
   "execution_count": 29,
   "metadata": {},
   "outputs": [
    {
     "name": "stderr",
     "output_type": "stream",
     "text": [
      "/home/workspace/starter_code/utils.py:10: FutureWarning: Indexing with multiple keys (implicitly converted to a tuple of keys) will be deprecated, use a list instead.\n",
      "  array_field].apply(lambda x: x[array_field].values.tolist()).reset_index().rename(columns={\n"
     ]
    }
   ],
   "source": [
    "exclusion_list = ['generic_drug_name']\n",
    "grouping_field_list = [c for c in first_encounter_df.columns if c not in exclusion_list]\n",
    "agg_drug_df, ndc_col_list = aggregate_dataset(first_encounter_df, grouping_field_list, 'generic_drug_name')"
   ]
  },
  {
   "cell_type": "code",
   "execution_count": 30,
   "metadata": {},
   "outputs": [],
   "source": [
    "assert len(agg_drug_df) == agg_drug_df['patient_nbr'].nunique() == agg_drug_df['encounter_id'].nunique()"
   ]
  },
  {
   "cell_type": "code",
   "execution_count": 31,
   "metadata": {},
   "outputs": [
    {
     "data": {
      "text/html": [
       "<div>\n",
       "<style scoped>\n",
       "    .dataframe tbody tr th:only-of-type {\n",
       "        vertical-align: middle;\n",
       "    }\n",
       "\n",
       "    .dataframe tbody tr th {\n",
       "        vertical-align: top;\n",
       "    }\n",
       "\n",
       "    .dataframe thead th {\n",
       "        text-align: right;\n",
       "    }\n",
       "</style>\n",
       "<table border=\"1\" class=\"dataframe\">\n",
       "  <thead>\n",
       "    <tr style=\"text-align: right;\">\n",
       "      <th></th>\n",
       "      <th>encounter_id</th>\n",
       "      <th>patient_nbr</th>\n",
       "      <th>race</th>\n",
       "      <th>gender</th>\n",
       "      <th>age</th>\n",
       "      <th>weight</th>\n",
       "      <th>admission_type_id</th>\n",
       "      <th>discharge_disposition_id</th>\n",
       "      <th>admission_source_id</th>\n",
       "      <th>time_in_hospital</th>\n",
       "      <th>payer_code</th>\n",
       "      <th>medical_specialty</th>\n",
       "      <th>primary_diagnosis_code</th>\n",
       "      <th>other_diagnosis_codes</th>\n",
       "      <th>number_outpatient</th>\n",
       "      <th>number_inpatient</th>\n",
       "      <th>number_emergency</th>\n",
       "      <th>num_lab_procedures</th>\n",
       "      <th>number_diagnoses</th>\n",
       "      <th>num_medications</th>\n",
       "      <th>num_procedures</th>\n",
       "      <th>max_glu_serum</th>\n",
       "      <th>A1Cresult</th>\n",
       "      <th>change</th>\n",
       "      <th>readmitted</th>\n",
       "      <th>generic_drug_name_array</th>\n",
       "      <th>Acarbose</th>\n",
       "      <th>Glimepiride</th>\n",
       "      <th>Glipizide</th>\n",
       "      <th>Glyburide</th>\n",
       "      <th>Human_Insulin</th>\n",
       "      <th>Insulin_Human</th>\n",
       "      <th>Metformin_Hcl</th>\n",
       "      <th>Metformin_Hydrochloride</th>\n",
       "      <th>Nateglinide</th>\n",
       "      <th>Pioglitazone</th>\n",
       "      <th>Repaglinide</th>\n",
       "      <th>Rosiglitazone_Maleate</th>\n",
       "    </tr>\n",
       "  </thead>\n",
       "  <tbody>\n",
       "    <tr>\n",
       "      <th>0</th>\n",
       "      <td>88792836</td>\n",
       "      <td>100654011</td>\n",
       "      <td>Caucasian</td>\n",
       "      <td>Female</td>\n",
       "      <td>[70-80)</td>\n",
       "      <td>[75-100)</td>\n",
       "      <td>3</td>\n",
       "      <td>3</td>\n",
       "      <td>1</td>\n",
       "      <td>10</td>\n",
       "      <td>UN</td>\n",
       "      <td>Surgery-General</td>\n",
       "      <td>715</td>\n",
       "      <td>402|428</td>\n",
       "      <td>1</td>\n",
       "      <td>3</td>\n",
       "      <td>1</td>\n",
       "      <td>65</td>\n",
       "      <td>9</td>\n",
       "      <td>28</td>\n",
       "      <td>1</td>\n",
       "      <td>None</td>\n",
       "      <td>None</td>\n",
       "      <td>Ch</td>\n",
       "      <td>&lt;30</td>\n",
       "      <td>[Glipizide, Human Insulin]</td>\n",
       "      <td>0.0</td>\n",
       "      <td>0.0</td>\n",
       "      <td>1.0</td>\n",
       "      <td>0.0</td>\n",
       "      <td>1.0</td>\n",
       "      <td>0.0</td>\n",
       "      <td>0.0</td>\n",
       "      <td>0.0</td>\n",
       "      <td>0.0</td>\n",
       "      <td>0.0</td>\n",
       "      <td>0.0</td>\n",
       "      <td>0.0</td>\n",
       "    </tr>\n",
       "    <tr>\n",
       "      <th>1</th>\n",
       "      <td>88986678</td>\n",
       "      <td>58682736</td>\n",
       "      <td>Caucasian</td>\n",
       "      <td>Male</td>\n",
       "      <td>[80-90)</td>\n",
       "      <td>[50-75)</td>\n",
       "      <td>1</td>\n",
       "      <td>11</td>\n",
       "      <td>5</td>\n",
       "      <td>6</td>\n",
       "      <td>UN</td>\n",
       "      <td>Family/GeneralPractice</td>\n",
       "      <td>250.2</td>\n",
       "      <td>780|403</td>\n",
       "      <td>0</td>\n",
       "      <td>0</td>\n",
       "      <td>0</td>\n",
       "      <td>73</td>\n",
       "      <td>9</td>\n",
       "      <td>16</td>\n",
       "      <td>0</td>\n",
       "      <td>None</td>\n",
       "      <td>None</td>\n",
       "      <td>No</td>\n",
       "      <td>NO</td>\n",
       "      <td>[Human Insulin]</td>\n",
       "      <td>0.0</td>\n",
       "      <td>0.0</td>\n",
       "      <td>0.0</td>\n",
       "      <td>0.0</td>\n",
       "      <td>1.0</td>\n",
       "      <td>0.0</td>\n",
       "      <td>0.0</td>\n",
       "      <td>0.0</td>\n",
       "      <td>0.0</td>\n",
       "      <td>0.0</td>\n",
       "      <td>0.0</td>\n",
       "      <td>0.0</td>\n",
       "    </tr>\n",
       "    <tr>\n",
       "      <th>2</th>\n",
       "      <td>89032962</td>\n",
       "      <td>69250302</td>\n",
       "      <td>Caucasian</td>\n",
       "      <td>Male</td>\n",
       "      <td>[60-70)</td>\n",
       "      <td>[100-125)</td>\n",
       "      <td>1</td>\n",
       "      <td>1</td>\n",
       "      <td>7</td>\n",
       "      <td>2</td>\n",
       "      <td>CP</td>\n",
       "      <td>Cardiology</td>\n",
       "      <td>414</td>\n",
       "      <td>411|401</td>\n",
       "      <td>0</td>\n",
       "      <td>0</td>\n",
       "      <td>0</td>\n",
       "      <td>58</td>\n",
       "      <td>9</td>\n",
       "      <td>12</td>\n",
       "      <td>3</td>\n",
       "      <td>None</td>\n",
       "      <td>None</td>\n",
       "      <td>No</td>\n",
       "      <td>&gt;30</td>\n",
       "      <td>[Pioglitazone]</td>\n",
       "      <td>0.0</td>\n",
       "      <td>0.0</td>\n",
       "      <td>0.0</td>\n",
       "      <td>0.0</td>\n",
       "      <td>0.0</td>\n",
       "      <td>0.0</td>\n",
       "      <td>0.0</td>\n",
       "      <td>0.0</td>\n",
       "      <td>0.0</td>\n",
       "      <td>1.0</td>\n",
       "      <td>0.0</td>\n",
       "      <td>0.0</td>\n",
       "    </tr>\n",
       "    <tr>\n",
       "      <th>3</th>\n",
       "      <td>89277516</td>\n",
       "      <td>30950811</td>\n",
       "      <td>Caucasian</td>\n",
       "      <td>Male</td>\n",
       "      <td>[50-60)</td>\n",
       "      <td>[100-125)</td>\n",
       "      <td>3</td>\n",
       "      <td>1</td>\n",
       "      <td>1</td>\n",
       "      <td>2</td>\n",
       "      <td>BC</td>\n",
       "      <td>Surgery-General</td>\n",
       "      <td>196</td>\n",
       "      <td>199|250</td>\n",
       "      <td>0</td>\n",
       "      <td>0</td>\n",
       "      <td>0</td>\n",
       "      <td>5</td>\n",
       "      <td>7</td>\n",
       "      <td>11</td>\n",
       "      <td>4</td>\n",
       "      <td>None</td>\n",
       "      <td>None</td>\n",
       "      <td>No</td>\n",
       "      <td>&gt;30</td>\n",
       "      <td>[Glyburide]</td>\n",
       "      <td>0.0</td>\n",
       "      <td>0.0</td>\n",
       "      <td>0.0</td>\n",
       "      <td>1.0</td>\n",
       "      <td>0.0</td>\n",
       "      <td>0.0</td>\n",
       "      <td>0.0</td>\n",
       "      <td>0.0</td>\n",
       "      <td>0.0</td>\n",
       "      <td>0.0</td>\n",
       "      <td>0.0</td>\n",
       "      <td>0.0</td>\n",
       "    </tr>\n",
       "    <tr>\n",
       "      <th>4</th>\n",
       "      <td>89307582</td>\n",
       "      <td>58763808</td>\n",
       "      <td>Caucasian</td>\n",
       "      <td>Female</td>\n",
       "      <td>[70-80)</td>\n",
       "      <td>[75-100)</td>\n",
       "      <td>1</td>\n",
       "      <td>3</td>\n",
       "      <td>7</td>\n",
       "      <td>10</td>\n",
       "      <td>MC</td>\n",
       "      <td>InternalMedicine</td>\n",
       "      <td>250.4</td>\n",
       "      <td>403|276</td>\n",
       "      <td>0</td>\n",
       "      <td>0</td>\n",
       "      <td>0</td>\n",
       "      <td>63</td>\n",
       "      <td>9</td>\n",
       "      <td>20</td>\n",
       "      <td>0</td>\n",
       "      <td>None</td>\n",
       "      <td>None</td>\n",
       "      <td>No</td>\n",
       "      <td>&lt;30</td>\n",
       "      <td>[Glipizide]</td>\n",
       "      <td>0.0</td>\n",
       "      <td>0.0</td>\n",
       "      <td>1.0</td>\n",
       "      <td>0.0</td>\n",
       "      <td>0.0</td>\n",
       "      <td>0.0</td>\n",
       "      <td>0.0</td>\n",
       "      <td>0.0</td>\n",
       "      <td>0.0</td>\n",
       "      <td>0.0</td>\n",
       "      <td>0.0</td>\n",
       "      <td>0.0</td>\n",
       "    </tr>\n",
       "  </tbody>\n",
       "</table>\n",
       "</div>"
      ],
      "text/plain": [
       "   encounter_id  patient_nbr       race  gender      age     weight  \\\n",
       "0      88792836    100654011  Caucasian  Female  [70-80)   [75-100)   \n",
       "1      88986678     58682736  Caucasian    Male  [80-90)    [50-75)   \n",
       "2      89032962     69250302  Caucasian    Male  [60-70)  [100-125)   \n",
       "3      89277516     30950811  Caucasian    Male  [50-60)  [100-125)   \n",
       "4      89307582     58763808  Caucasian  Female  [70-80)   [75-100)   \n",
       "\n",
       "   admission_type_id  discharge_disposition_id  admission_source_id  \\\n",
       "0                  3                         3                    1   \n",
       "1                  1                        11                    5   \n",
       "2                  1                         1                    7   \n",
       "3                  3                         1                    1   \n",
       "4                  1                         3                    7   \n",
       "\n",
       "   time_in_hospital payer_code       medical_specialty primary_diagnosis_code  \\\n",
       "0                10         UN         Surgery-General                    715   \n",
       "1                 6         UN  Family/GeneralPractice                  250.2   \n",
       "2                 2         CP              Cardiology                    414   \n",
       "3                 2         BC         Surgery-General                    196   \n",
       "4                10         MC        InternalMedicine                  250.4   \n",
       "\n",
       "  other_diagnosis_codes  number_outpatient  number_inpatient  \\\n",
       "0               402|428                  1                 3   \n",
       "1               780|403                  0                 0   \n",
       "2               411|401                  0                 0   \n",
       "3               199|250                  0                 0   \n",
       "4               403|276                  0                 0   \n",
       "\n",
       "   number_emergency  num_lab_procedures  number_diagnoses  num_medications  \\\n",
       "0                 1                  65                 9               28   \n",
       "1                 0                  73                 9               16   \n",
       "2                 0                  58                 9               12   \n",
       "3                 0                   5                 7               11   \n",
       "4                 0                  63                 9               20   \n",
       "\n",
       "   num_procedures max_glu_serum A1Cresult change readmitted  \\\n",
       "0               1          None      None     Ch        <30   \n",
       "1               0          None      None     No         NO   \n",
       "2               3          None      None     No        >30   \n",
       "3               4          None      None     No        >30   \n",
       "4               0          None      None     No        <30   \n",
       "\n",
       "      generic_drug_name_array  Acarbose  Glimepiride  Glipizide  Glyburide  \\\n",
       "0  [Glipizide, Human Insulin]       0.0          0.0        1.0        0.0   \n",
       "1             [Human Insulin]       0.0          0.0        0.0        0.0   \n",
       "2              [Pioglitazone]       0.0          0.0        0.0        0.0   \n",
       "3                 [Glyburide]       0.0          0.0        0.0        1.0   \n",
       "4                 [Glipizide]       0.0          0.0        1.0        0.0   \n",
       "\n",
       "   Human_Insulin  Insulin_Human  Metformin_Hcl  Metformin_Hydrochloride  \\\n",
       "0            1.0            0.0            0.0                      0.0   \n",
       "1            1.0            0.0            0.0                      0.0   \n",
       "2            0.0            0.0            0.0                      0.0   \n",
       "3            0.0            0.0            0.0                      0.0   \n",
       "4            0.0            0.0            0.0                      0.0   \n",
       "\n",
       "   Nateglinide  Pioglitazone  Repaglinide  Rosiglitazone_Maleate  \n",
       "0          0.0           0.0          0.0                    0.0  \n",
       "1          0.0           0.0          0.0                    0.0  \n",
       "2          0.0           1.0          0.0                    0.0  \n",
       "3          0.0           0.0          0.0                    0.0  \n",
       "4          0.0           0.0          0.0                    0.0  "
      ]
     },
     "execution_count": 31,
     "metadata": {},
     "output_type": "execute_result"
    }
   ],
   "source": [
    "agg_drug_df.head()"
   ]
  },
  {
   "cell_type": "markdown",
   "metadata": {},
   "source": [
    "## Prepare Fields and Cast Dataset "
   ]
  },
  {
   "cell_type": "markdown",
   "metadata": {},
   "source": [
    "### Feature Selection"
   ]
  },
  {
   "cell_type": "markdown",
   "metadata": {},
   "source": [
    "**Question 5**: After you have aggregated the dataset to the right level, we can do feature selection (we will include the ndc_col_list, dummy column features too). In the block below, please select the categorical and numerical features that you will use for the model, so that we can create a dataset subset. \n",
    "\n",
    "For the payer_code and weight fields, please provide whether you think we should include/exclude the field in our model and give a justification/rationale for this based off of the statistics of the data. Feel free to use visualizations or summary statistics to support your choice."
   ]
  },
  {
   "cell_type": "code",
   "execution_count": 32,
   "metadata": {},
   "outputs": [
    {
     "data": {
      "text/html": [
       "<div>\n",
       "<style scoped>\n",
       "    .dataframe tbody tr th:only-of-type {\n",
       "        vertical-align: middle;\n",
       "    }\n",
       "\n",
       "    .dataframe tbody tr th {\n",
       "        vertical-align: top;\n",
       "    }\n",
       "\n",
       "    .dataframe thead th {\n",
       "        text-align: right;\n",
       "    }\n",
       "</style>\n",
       "<table border=\"1\" class=\"dataframe\">\n",
       "  <thead>\n",
       "    <tr style=\"text-align: right;\">\n",
       "      <th></th>\n",
       "      <th>encounter_id</th>\n",
       "      <th>patient_nbr</th>\n",
       "      <th>race</th>\n",
       "      <th>gender</th>\n",
       "      <th>age</th>\n",
       "      <th>weight</th>\n",
       "      <th>admission_type_id</th>\n",
       "      <th>discharge_disposition_id</th>\n",
       "      <th>admission_source_id</th>\n",
       "      <th>time_in_hospital</th>\n",
       "      <th>payer_code</th>\n",
       "      <th>medical_specialty</th>\n",
       "      <th>primary_diagnosis_code</th>\n",
       "      <th>other_diagnosis_codes</th>\n",
       "      <th>number_outpatient</th>\n",
       "      <th>number_inpatient</th>\n",
       "      <th>number_emergency</th>\n",
       "      <th>num_lab_procedures</th>\n",
       "      <th>number_diagnoses</th>\n",
       "      <th>num_medications</th>\n",
       "      <th>num_procedures</th>\n",
       "      <th>max_glu_serum</th>\n",
       "      <th>A1Cresult</th>\n",
       "      <th>change</th>\n",
       "      <th>readmitted</th>\n",
       "    </tr>\n",
       "  </thead>\n",
       "  <tbody>\n",
       "    <tr>\n",
       "      <th>count</th>\n",
       "      <td>9.240000e+02</td>\n",
       "      <td>9.240000e+02</td>\n",
       "      <td>924</td>\n",
       "      <td>924</td>\n",
       "      <td>924</td>\n",
       "      <td>924</td>\n",
       "      <td>924.000000</td>\n",
       "      <td>924.000000</td>\n",
       "      <td>924.000000</td>\n",
       "      <td>924.000000</td>\n",
       "      <td>924</td>\n",
       "      <td>924</td>\n",
       "      <td>924</td>\n",
       "      <td>924</td>\n",
       "      <td>924.000000</td>\n",
       "      <td>924.000000</td>\n",
       "      <td>924.000000</td>\n",
       "      <td>924.000000</td>\n",
       "      <td>924.000000</td>\n",
       "      <td>924.000000</td>\n",
       "      <td>924.000000</td>\n",
       "      <td>924</td>\n",
       "      <td>924</td>\n",
       "      <td>924</td>\n",
       "      <td>924</td>\n",
       "    </tr>\n",
       "    <tr>\n",
       "      <th>unique</th>\n",
       "      <td>NaN</td>\n",
       "      <td>NaN</td>\n",
       "      <td>4</td>\n",
       "      <td>2</td>\n",
       "      <td>10</td>\n",
       "      <td>8</td>\n",
       "      <td>NaN</td>\n",
       "      <td>NaN</td>\n",
       "      <td>NaN</td>\n",
       "      <td>NaN</td>\n",
       "      <td>11</td>\n",
       "      <td>8</td>\n",
       "      <td>189</td>\n",
       "      <td>624</td>\n",
       "      <td>NaN</td>\n",
       "      <td>NaN</td>\n",
       "      <td>NaN</td>\n",
       "      <td>NaN</td>\n",
       "      <td>NaN</td>\n",
       "      <td>NaN</td>\n",
       "      <td>NaN</td>\n",
       "      <td>1</td>\n",
       "      <td>4</td>\n",
       "      <td>2</td>\n",
       "      <td>3</td>\n",
       "    </tr>\n",
       "    <tr>\n",
       "      <th>top</th>\n",
       "      <td>NaN</td>\n",
       "      <td>NaN</td>\n",
       "      <td>Caucasian</td>\n",
       "      <td>Female</td>\n",
       "      <td>[70-80)</td>\n",
       "      <td>[75-100)</td>\n",
       "      <td>NaN</td>\n",
       "      <td>NaN</td>\n",
       "      <td>NaN</td>\n",
       "      <td>NaN</td>\n",
       "      <td>MC</td>\n",
       "      <td>Cardiology</td>\n",
       "      <td>414</td>\n",
       "      <td>401|250</td>\n",
       "      <td>NaN</td>\n",
       "      <td>NaN</td>\n",
       "      <td>NaN</td>\n",
       "      <td>NaN</td>\n",
       "      <td>NaN</td>\n",
       "      <td>NaN</td>\n",
       "      <td>NaN</td>\n",
       "      <td>None</td>\n",
       "      <td>None</td>\n",
       "      <td>No</td>\n",
       "      <td>NO</td>\n",
       "    </tr>\n",
       "    <tr>\n",
       "      <th>freq</th>\n",
       "      <td>NaN</td>\n",
       "      <td>NaN</td>\n",
       "      <td>881</td>\n",
       "      <td>464</td>\n",
       "      <td>273</td>\n",
       "      <td>383</td>\n",
       "      <td>NaN</td>\n",
       "      <td>NaN</td>\n",
       "      <td>NaN</td>\n",
       "      <td>NaN</td>\n",
       "      <td>463</td>\n",
       "      <td>328</td>\n",
       "      <td>90</td>\n",
       "      <td>39</td>\n",
       "      <td>NaN</td>\n",
       "      <td>NaN</td>\n",
       "      <td>NaN</td>\n",
       "      <td>NaN</td>\n",
       "      <td>NaN</td>\n",
       "      <td>NaN</td>\n",
       "      <td>NaN</td>\n",
       "      <td>924</td>\n",
       "      <td>830</td>\n",
       "      <td>664</td>\n",
       "      <td>437</td>\n",
       "    </tr>\n",
       "    <tr>\n",
       "      <th>mean</th>\n",
       "      <td>1.817010e+08</td>\n",
       "      <td>7.101416e+07</td>\n",
       "      <td>NaN</td>\n",
       "      <td>NaN</td>\n",
       "      <td>NaN</td>\n",
       "      <td>NaN</td>\n",
       "      <td>1.791126</td>\n",
       "      <td>2.425325</td>\n",
       "      <td>4.239177</td>\n",
       "      <td>4.351732</td>\n",
       "      <td>NaN</td>\n",
       "      <td>NaN</td>\n",
       "      <td>NaN</td>\n",
       "      <td>NaN</td>\n",
       "      <td>1.400433</td>\n",
       "      <td>0.435065</td>\n",
       "      <td>0.209957</td>\n",
       "      <td>52.857143</td>\n",
       "      <td>8.177489</td>\n",
       "      <td>16.081169</td>\n",
       "      <td>1.783550</td>\n",
       "      <td>NaN</td>\n",
       "      <td>NaN</td>\n",
       "      <td>NaN</td>\n",
       "      <td>NaN</td>\n",
       "    </tr>\n",
       "    <tr>\n",
       "      <th>std</th>\n",
       "      <td>8.789056e+07</td>\n",
       "      <td>3.149188e+07</td>\n",
       "      <td>NaN</td>\n",
       "      <td>NaN</td>\n",
       "      <td>NaN</td>\n",
       "      <td>NaN</td>\n",
       "      <td>0.900636</td>\n",
       "      <td>2.471911</td>\n",
       "      <td>2.893962</td>\n",
       "      <td>2.766204</td>\n",
       "      <td>NaN</td>\n",
       "      <td>NaN</td>\n",
       "      <td>NaN</td>\n",
       "      <td>NaN</td>\n",
       "      <td>2.075978</td>\n",
       "      <td>0.880205</td>\n",
       "      <td>0.697673</td>\n",
       "      <td>19.269856</td>\n",
       "      <td>1.464973</td>\n",
       "      <td>7.404057</td>\n",
       "      <td>1.892195</td>\n",
       "      <td>NaN</td>\n",
       "      <td>NaN</td>\n",
       "      <td>NaN</td>\n",
       "      <td>NaN</td>\n",
       "    </tr>\n",
       "    <tr>\n",
       "      <th>min</th>\n",
       "      <td>8.879284e+07</td>\n",
       "      <td>8.946900e+04</td>\n",
       "      <td>NaN</td>\n",
       "      <td>NaN</td>\n",
       "      <td>NaN</td>\n",
       "      <td>NaN</td>\n",
       "      <td>1.000000</td>\n",
       "      <td>1.000000</td>\n",
       "      <td>1.000000</td>\n",
       "      <td>1.000000</td>\n",
       "      <td>NaN</td>\n",
       "      <td>NaN</td>\n",
       "      <td>NaN</td>\n",
       "      <td>NaN</td>\n",
       "      <td>0.000000</td>\n",
       "      <td>0.000000</td>\n",
       "      <td>0.000000</td>\n",
       "      <td>1.000000</td>\n",
       "      <td>1.000000</td>\n",
       "      <td>1.000000</td>\n",
       "      <td>0.000000</td>\n",
       "      <td>NaN</td>\n",
       "      <td>NaN</td>\n",
       "      <td>NaN</td>\n",
       "      <td>NaN</td>\n",
       "    </tr>\n",
       "    <tr>\n",
       "      <th>25%</th>\n",
       "      <td>1.161904e+08</td>\n",
       "      <td>5.234716e+07</td>\n",
       "      <td>NaN</td>\n",
       "      <td>NaN</td>\n",
       "      <td>NaN</td>\n",
       "      <td>NaN</td>\n",
       "      <td>1.000000</td>\n",
       "      <td>1.000000</td>\n",
       "      <td>1.000000</td>\n",
       "      <td>2.000000</td>\n",
       "      <td>NaN</td>\n",
       "      <td>NaN</td>\n",
       "      <td>NaN</td>\n",
       "      <td>NaN</td>\n",
       "      <td>0.000000</td>\n",
       "      <td>0.000000</td>\n",
       "      <td>0.000000</td>\n",
       "      <td>39.750000</td>\n",
       "      <td>8.000000</td>\n",
       "      <td>11.000000</td>\n",
       "      <td>0.000000</td>\n",
       "      <td>NaN</td>\n",
       "      <td>NaN</td>\n",
       "      <td>NaN</td>\n",
       "      <td>NaN</td>\n",
       "    </tr>\n",
       "    <tr>\n",
       "      <th>50%</th>\n",
       "      <td>1.509350e+08</td>\n",
       "      <td>7.597012e+07</td>\n",
       "      <td>NaN</td>\n",
       "      <td>NaN</td>\n",
       "      <td>NaN</td>\n",
       "      <td>NaN</td>\n",
       "      <td>1.000000</td>\n",
       "      <td>1.000000</td>\n",
       "      <td>6.000000</td>\n",
       "      <td>4.000000</td>\n",
       "      <td>NaN</td>\n",
       "      <td>NaN</td>\n",
       "      <td>NaN</td>\n",
       "      <td>NaN</td>\n",
       "      <td>1.000000</td>\n",
       "      <td>0.000000</td>\n",
       "      <td>0.000000</td>\n",
       "      <td>55.000000</td>\n",
       "      <td>9.000000</td>\n",
       "      <td>15.000000</td>\n",
       "      <td>1.000000</td>\n",
       "      <td>NaN</td>\n",
       "      <td>NaN</td>\n",
       "      <td>NaN</td>\n",
       "      <td>NaN</td>\n",
       "    </tr>\n",
       "    <tr>\n",
       "      <th>75%</th>\n",
       "      <td>2.277805e+08</td>\n",
       "      <td>9.665521e+07</td>\n",
       "      <td>NaN</td>\n",
       "      <td>NaN</td>\n",
       "      <td>NaN</td>\n",
       "      <td>NaN</td>\n",
       "      <td>3.000000</td>\n",
       "      <td>3.000000</td>\n",
       "      <td>7.000000</td>\n",
       "      <td>6.000000</td>\n",
       "      <td>NaN</td>\n",
       "      <td>NaN</td>\n",
       "      <td>NaN</td>\n",
       "      <td>NaN</td>\n",
       "      <td>2.000000</td>\n",
       "      <td>1.000000</td>\n",
       "      <td>0.000000</td>\n",
       "      <td>69.000000</td>\n",
       "      <td>9.000000</td>\n",
       "      <td>20.000000</td>\n",
       "      <td>3.000000</td>\n",
       "      <td>NaN</td>\n",
       "      <td>NaN</td>\n",
       "      <td>NaN</td>\n",
       "      <td>NaN</td>\n",
       "    </tr>\n",
       "    <tr>\n",
       "      <th>max</th>\n",
       "      <td>4.396065e+08</td>\n",
       "      <td>1.842748e+08</td>\n",
       "      <td>NaN</td>\n",
       "      <td>NaN</td>\n",
       "      <td>NaN</td>\n",
       "      <td>NaN</td>\n",
       "      <td>5.000000</td>\n",
       "      <td>18.000000</td>\n",
       "      <td>17.000000</td>\n",
       "      <td>14.000000</td>\n",
       "      <td>NaN</td>\n",
       "      <td>NaN</td>\n",
       "      <td>NaN</td>\n",
       "      <td>NaN</td>\n",
       "      <td>15.000000</td>\n",
       "      <td>10.000000</td>\n",
       "      <td>11.000000</td>\n",
       "      <td>93.000000</td>\n",
       "      <td>9.000000</td>\n",
       "      <td>58.000000</td>\n",
       "      <td>6.000000</td>\n",
       "      <td>NaN</td>\n",
       "      <td>NaN</td>\n",
       "      <td>NaN</td>\n",
       "      <td>NaN</td>\n",
       "    </tr>\n",
       "  </tbody>\n",
       "</table>\n",
       "</div>"
      ],
      "text/plain": [
       "        encounter_id   patient_nbr       race  gender      age    weight  \\\n",
       "count   9.240000e+02  9.240000e+02        924     924      924       924   \n",
       "unique           NaN           NaN          4       2       10         8   \n",
       "top              NaN           NaN  Caucasian  Female  [70-80)  [75-100)   \n",
       "freq             NaN           NaN        881     464      273       383   \n",
       "mean    1.817010e+08  7.101416e+07        NaN     NaN      NaN       NaN   \n",
       "std     8.789056e+07  3.149188e+07        NaN     NaN      NaN       NaN   \n",
       "min     8.879284e+07  8.946900e+04        NaN     NaN      NaN       NaN   \n",
       "25%     1.161904e+08  5.234716e+07        NaN     NaN      NaN       NaN   \n",
       "50%     1.509350e+08  7.597012e+07        NaN     NaN      NaN       NaN   \n",
       "75%     2.277805e+08  9.665521e+07        NaN     NaN      NaN       NaN   \n",
       "max     4.396065e+08  1.842748e+08        NaN     NaN      NaN       NaN   \n",
       "\n",
       "        admission_type_id  discharge_disposition_id  admission_source_id  \\\n",
       "count          924.000000                924.000000           924.000000   \n",
       "unique                NaN                       NaN                  NaN   \n",
       "top                   NaN                       NaN                  NaN   \n",
       "freq                  NaN                       NaN                  NaN   \n",
       "mean             1.791126                  2.425325             4.239177   \n",
       "std              0.900636                  2.471911             2.893962   \n",
       "min              1.000000                  1.000000             1.000000   \n",
       "25%              1.000000                  1.000000             1.000000   \n",
       "50%              1.000000                  1.000000             6.000000   \n",
       "75%              3.000000                  3.000000             7.000000   \n",
       "max              5.000000                 18.000000            17.000000   \n",
       "\n",
       "        time_in_hospital payer_code medical_specialty primary_diagnosis_code  \\\n",
       "count         924.000000        924               924                    924   \n",
       "unique               NaN         11                 8                    189   \n",
       "top                  NaN         MC        Cardiology                    414   \n",
       "freq                 NaN        463               328                     90   \n",
       "mean            4.351732        NaN               NaN                    NaN   \n",
       "std             2.766204        NaN               NaN                    NaN   \n",
       "min             1.000000        NaN               NaN                    NaN   \n",
       "25%             2.000000        NaN               NaN                    NaN   \n",
       "50%             4.000000        NaN               NaN                    NaN   \n",
       "75%             6.000000        NaN               NaN                    NaN   \n",
       "max            14.000000        NaN               NaN                    NaN   \n",
       "\n",
       "       other_diagnosis_codes  number_outpatient  number_inpatient  \\\n",
       "count                    924         924.000000        924.000000   \n",
       "unique                   624                NaN               NaN   \n",
       "top                  401|250                NaN               NaN   \n",
       "freq                      39                NaN               NaN   \n",
       "mean                     NaN           1.400433          0.435065   \n",
       "std                      NaN           2.075978          0.880205   \n",
       "min                      NaN           0.000000          0.000000   \n",
       "25%                      NaN           0.000000          0.000000   \n",
       "50%                      NaN           1.000000          0.000000   \n",
       "75%                      NaN           2.000000          1.000000   \n",
       "max                      NaN          15.000000         10.000000   \n",
       "\n",
       "        number_emergency  num_lab_procedures  number_diagnoses  \\\n",
       "count         924.000000          924.000000        924.000000   \n",
       "unique               NaN                 NaN               NaN   \n",
       "top                  NaN                 NaN               NaN   \n",
       "freq                 NaN                 NaN               NaN   \n",
       "mean            0.209957           52.857143          8.177489   \n",
       "std             0.697673           19.269856          1.464973   \n",
       "min             0.000000            1.000000          1.000000   \n",
       "25%             0.000000           39.750000          8.000000   \n",
       "50%             0.000000           55.000000          9.000000   \n",
       "75%             0.000000           69.000000          9.000000   \n",
       "max            11.000000           93.000000          9.000000   \n",
       "\n",
       "        num_medications  num_procedures max_glu_serum A1Cresult change  \\\n",
       "count        924.000000      924.000000           924       924    924   \n",
       "unique              NaN             NaN             1         4      2   \n",
       "top                 NaN             NaN          None      None     No   \n",
       "freq                NaN             NaN           924       830    664   \n",
       "mean          16.081169        1.783550           NaN       NaN    NaN   \n",
       "std            7.404057        1.892195           NaN       NaN    NaN   \n",
       "min            1.000000        0.000000           NaN       NaN    NaN   \n",
       "25%           11.000000        0.000000           NaN       NaN    NaN   \n",
       "50%           15.000000        1.000000           NaN       NaN    NaN   \n",
       "75%           20.000000        3.000000           NaN       NaN    NaN   \n",
       "max           58.000000        6.000000           NaN       NaN    NaN   \n",
       "\n",
       "       readmitted  \n",
       "count         924  \n",
       "unique          3  \n",
       "top            NO  \n",
       "freq          437  \n",
       "mean          NaN  \n",
       "std           NaN  \n",
       "min           NaN  \n",
       "25%           NaN  \n",
       "50%           NaN  \n",
       "75%           NaN  \n",
       "max           NaN  "
      ]
     },
     "execution_count": 32,
     "metadata": {},
     "output_type": "execute_result"
    }
   ],
   "source": [
    "agg_drug_df.drop(ndc_col_list + ['generic_drug_name_array'], axis=1).describe(include='all')"
   ]
  },
  {
   "cell_type": "code",
   "execution_count": 33,
   "metadata": {},
   "outputs": [
    {
     "name": "stdout",
     "output_type": "stream",
     "text": [
      "Counters for admission_source_id 17=Null\n"
     ]
    },
    {
     "data": {
      "text/plain": [
       "7     429\n",
       "1     397\n",
       "5      44\n",
       "6      34\n",
       "4      19\n",
       "17      1\n",
       "Name: admission_source_id, dtype: int64"
      ]
     },
     "execution_count": 33,
     "metadata": {},
     "output_type": "execute_result"
    }
   ],
   "source": [
    "print('Counters for admission_source_id', '17=Null')\n",
    "agg_drug_df['admission_source_id'].value_counts(dropna=False)"
   ]
  },
  {
   "cell_type": "code",
   "execution_count": 34,
   "metadata": {},
   "outputs": [
    {
     "name": "stdout",
     "output_type": "stream",
     "text": [
      "Counters for discharge_disposition_id 18=Null\n"
     ]
    },
    {
     "data": {
      "text/plain": [
       "1     613\n",
       "6     157\n",
       "3     111\n",
       "5      12\n",
       "13      9\n",
       "11      6\n",
       "4       5\n",
       "7       4\n",
       "2       4\n",
       "18      3\n",
       "Name: discharge_disposition_id, dtype: int64"
      ]
     },
     "execution_count": 34,
     "metadata": {},
     "output_type": "execute_result"
    }
   ],
   "source": [
    "print('Counters for discharge_disposition_id', '18=Null')\n",
    "agg_drug_df['discharge_disposition_id'].value_counts(dropna=False)"
   ]
  },
  {
   "cell_type": "code",
   "execution_count": 35,
   "metadata": {},
   "outputs": [
    {
     "name": "stdout",
     "output_type": "stream",
     "text": [
      "Counters for admission_type_id 5/6=Null\n"
     ]
    },
    {
     "data": {
      "text/plain": [
       "1    488\n",
       "3    292\n",
       "2    143\n",
       "5      1\n",
       "Name: admission_type_id, dtype: int64"
      ]
     },
     "execution_count": 35,
     "metadata": {},
     "output_type": "execute_result"
    }
   ],
   "source": [
    "print('Counters for admission_type_id', '5/6=Null')\n",
    "agg_drug_df['admission_type_id'].value_counts(dropna=False)"
   ]
  },
  {
   "cell_type": "code",
   "execution_count": 36,
   "metadata": {},
   "outputs": [
    {
     "name": "stdout",
     "output_type": "stream",
     "text": [
      "Counters for primary_diagnosis_code\n",
      "Could be a good idea to agregate diagnosis codes\n"
     ]
    },
    {
     "data": {
      "text/plain": [
       "414    90\n",
       "715    82\n",
       "427    56\n",
       "428    53\n",
       "786    45\n",
       "       ..\n",
       "430     1\n",
       "664     1\n",
       "490     1\n",
       "351     1\n",
       "965     1\n",
       "Name: primary_diagnosis_code, Length: 189, dtype: int64"
      ]
     },
     "execution_count": 36,
     "metadata": {},
     "output_type": "execute_result"
    }
   ],
   "source": [
    "print('Counters for primary_diagnosis_code')\n",
    "print('Could be a good idea to agregate diagnosis codes')\n",
    "agg_drug_df['primary_diagnosis_code'].value_counts(dropna = False)"
   ]
  },
  {
   "cell_type": "markdown",
   "metadata": {},
   "source": [
    "Student response: \n",
    "* **'weight' is excluded because of high percent of null values (97%).**\n",
    "* **'payer_code' is excluded because of high percent of null values (37%) and probably will not be relevant.**\n",
    "* **'medical_specialty' is excluded because of high percent of null values (48%). Maybe I could be relevant for prediction but some default value should be defined.**\n",
    "* **'other_diagnosis_codes' is excluded because of the high cardinality (>600 unique values). On the other 'primary_diagnosis_code' should be included since it could be more relevant.**\n",
    "* **'number_outpatient', 'number_inpatient', 'number_emergency' are excluded because of the high percent of zero values. This seems to lead a problem in building the model**"
   ]
  },
  {
   "cell_type": "code",
   "execution_count": 37,
   "metadata": {},
   "outputs": [],
   "source": [
    "'''\n",
    "Please update the list to include the features you think are appropriate for the model \n",
    "and the field that we will be using to train the model. There are three required demographic features for the model \n",
    "and I have inserted a list with them already in the categorical list. \n",
    "These will be required for later steps when analyzing data splits and model biases.\n",
    "'''\n",
    "required_demo_col_list = ['race', 'gender', 'age']\n",
    "student_categorical_col_list = [ 'admission_type_id', 'discharge_disposition_id', 'admission_source_id',\n",
    "    'primary_diagnosis_code', 'max_glu_serum', 'A1Cresult', 'change', 'readmitted' \n",
    "                               ] + required_demo_col_list + ndc_col_list\n",
    "student_numerical_col_list = [ 'num_lab_procedures', 'number_diagnoses', 'num_medications', 'num_procedures' ]\n",
    "#'number_outpatient', 'number_inpatient', 'number_emergency',\n",
    "PREDICTOR_FIELD = 'time_in_hospital'"
   ]
  },
  {
   "cell_type": "code",
   "execution_count": 38,
   "metadata": {},
   "outputs": [],
   "source": [
    "def select_model_features(df, categorical_col_list, numerical_col_list, PREDICTOR_FIELD, grouping_key='patient_nbr'):\n",
    "    selected_col_list = [grouping_key] + [PREDICTOR_FIELD] + categorical_col_list + numerical_col_list   \n",
    "    return agg_drug_df[selected_col_list]\n"
   ]
  },
  {
   "cell_type": "code",
   "execution_count": 39,
   "metadata": {},
   "outputs": [],
   "source": [
    "selected_features_df = select_model_features(agg_drug_df, student_categorical_col_list, student_numerical_col_list,\n",
    "                                            PREDICTOR_FIELD)"
   ]
  },
  {
   "cell_type": "code",
   "execution_count": 40,
   "metadata": {},
   "outputs": [
    {
     "data": {
      "text/html": [
       "<div>\n",
       "<style scoped>\n",
       "    .dataframe tbody tr th:only-of-type {\n",
       "        vertical-align: middle;\n",
       "    }\n",
       "\n",
       "    .dataframe tbody tr th {\n",
       "        vertical-align: top;\n",
       "    }\n",
       "\n",
       "    .dataframe thead th {\n",
       "        text-align: right;\n",
       "    }\n",
       "</style>\n",
       "<table border=\"1\" class=\"dataframe\">\n",
       "  <thead>\n",
       "    <tr style=\"text-align: right;\">\n",
       "      <th></th>\n",
       "      <th>patient_nbr</th>\n",
       "      <th>time_in_hospital</th>\n",
       "      <th>admission_type_id</th>\n",
       "      <th>discharge_disposition_id</th>\n",
       "      <th>admission_source_id</th>\n",
       "      <th>primary_diagnosis_code</th>\n",
       "      <th>max_glu_serum</th>\n",
       "      <th>A1Cresult</th>\n",
       "      <th>change</th>\n",
       "      <th>readmitted</th>\n",
       "      <th>race</th>\n",
       "      <th>gender</th>\n",
       "      <th>age</th>\n",
       "      <th>Acarbose</th>\n",
       "      <th>Glimepiride</th>\n",
       "      <th>Glipizide</th>\n",
       "      <th>Glyburide</th>\n",
       "      <th>Human_Insulin</th>\n",
       "      <th>Insulin_Human</th>\n",
       "      <th>Metformin_Hcl</th>\n",
       "      <th>Metformin_Hydrochloride</th>\n",
       "      <th>Nateglinide</th>\n",
       "      <th>Pioglitazone</th>\n",
       "      <th>Repaglinide</th>\n",
       "      <th>Rosiglitazone_Maleate</th>\n",
       "      <th>num_lab_procedures</th>\n",
       "      <th>number_diagnoses</th>\n",
       "      <th>num_medications</th>\n",
       "      <th>num_procedures</th>\n",
       "    </tr>\n",
       "  </thead>\n",
       "  <tbody>\n",
       "    <tr>\n",
       "      <th>0</th>\n",
       "      <td>100654011</td>\n",
       "      <td>10</td>\n",
       "      <td>3</td>\n",
       "      <td>3</td>\n",
       "      <td>1</td>\n",
       "      <td>715</td>\n",
       "      <td>None</td>\n",
       "      <td>None</td>\n",
       "      <td>Ch</td>\n",
       "      <td>&lt;30</td>\n",
       "      <td>Caucasian</td>\n",
       "      <td>Female</td>\n",
       "      <td>[70-80)</td>\n",
       "      <td>0.0</td>\n",
       "      <td>0.0</td>\n",
       "      <td>1.0</td>\n",
       "      <td>0.0</td>\n",
       "      <td>1.0</td>\n",
       "      <td>0.0</td>\n",
       "      <td>0.0</td>\n",
       "      <td>0.0</td>\n",
       "      <td>0.0</td>\n",
       "      <td>0.0</td>\n",
       "      <td>0.0</td>\n",
       "      <td>0.0</td>\n",
       "      <td>65</td>\n",
       "      <td>9</td>\n",
       "      <td>28</td>\n",
       "      <td>1</td>\n",
       "    </tr>\n",
       "    <tr>\n",
       "      <th>1</th>\n",
       "      <td>58682736</td>\n",
       "      <td>6</td>\n",
       "      <td>1</td>\n",
       "      <td>11</td>\n",
       "      <td>5</td>\n",
       "      <td>250.2</td>\n",
       "      <td>None</td>\n",
       "      <td>None</td>\n",
       "      <td>No</td>\n",
       "      <td>NO</td>\n",
       "      <td>Caucasian</td>\n",
       "      <td>Male</td>\n",
       "      <td>[80-90)</td>\n",
       "      <td>0.0</td>\n",
       "      <td>0.0</td>\n",
       "      <td>0.0</td>\n",
       "      <td>0.0</td>\n",
       "      <td>1.0</td>\n",
       "      <td>0.0</td>\n",
       "      <td>0.0</td>\n",
       "      <td>0.0</td>\n",
       "      <td>0.0</td>\n",
       "      <td>0.0</td>\n",
       "      <td>0.0</td>\n",
       "      <td>0.0</td>\n",
       "      <td>73</td>\n",
       "      <td>9</td>\n",
       "      <td>16</td>\n",
       "      <td>0</td>\n",
       "    </tr>\n",
       "    <tr>\n",
       "      <th>2</th>\n",
       "      <td>69250302</td>\n",
       "      <td>2</td>\n",
       "      <td>1</td>\n",
       "      <td>1</td>\n",
       "      <td>7</td>\n",
       "      <td>414</td>\n",
       "      <td>None</td>\n",
       "      <td>None</td>\n",
       "      <td>No</td>\n",
       "      <td>&gt;30</td>\n",
       "      <td>Caucasian</td>\n",
       "      <td>Male</td>\n",
       "      <td>[60-70)</td>\n",
       "      <td>0.0</td>\n",
       "      <td>0.0</td>\n",
       "      <td>0.0</td>\n",
       "      <td>0.0</td>\n",
       "      <td>0.0</td>\n",
       "      <td>0.0</td>\n",
       "      <td>0.0</td>\n",
       "      <td>0.0</td>\n",
       "      <td>0.0</td>\n",
       "      <td>1.0</td>\n",
       "      <td>0.0</td>\n",
       "      <td>0.0</td>\n",
       "      <td>58</td>\n",
       "      <td>9</td>\n",
       "      <td>12</td>\n",
       "      <td>3</td>\n",
       "    </tr>\n",
       "    <tr>\n",
       "      <th>3</th>\n",
       "      <td>30950811</td>\n",
       "      <td>2</td>\n",
       "      <td>3</td>\n",
       "      <td>1</td>\n",
       "      <td>1</td>\n",
       "      <td>196</td>\n",
       "      <td>None</td>\n",
       "      <td>None</td>\n",
       "      <td>No</td>\n",
       "      <td>&gt;30</td>\n",
       "      <td>Caucasian</td>\n",
       "      <td>Male</td>\n",
       "      <td>[50-60)</td>\n",
       "      <td>0.0</td>\n",
       "      <td>0.0</td>\n",
       "      <td>0.0</td>\n",
       "      <td>1.0</td>\n",
       "      <td>0.0</td>\n",
       "      <td>0.0</td>\n",
       "      <td>0.0</td>\n",
       "      <td>0.0</td>\n",
       "      <td>0.0</td>\n",
       "      <td>0.0</td>\n",
       "      <td>0.0</td>\n",
       "      <td>0.0</td>\n",
       "      <td>5</td>\n",
       "      <td>7</td>\n",
       "      <td>11</td>\n",
       "      <td>4</td>\n",
       "    </tr>\n",
       "    <tr>\n",
       "      <th>4</th>\n",
       "      <td>58763808</td>\n",
       "      <td>10</td>\n",
       "      <td>1</td>\n",
       "      <td>3</td>\n",
       "      <td>7</td>\n",
       "      <td>250.4</td>\n",
       "      <td>None</td>\n",
       "      <td>None</td>\n",
       "      <td>No</td>\n",
       "      <td>&lt;30</td>\n",
       "      <td>Caucasian</td>\n",
       "      <td>Female</td>\n",
       "      <td>[70-80)</td>\n",
       "      <td>0.0</td>\n",
       "      <td>0.0</td>\n",
       "      <td>1.0</td>\n",
       "      <td>0.0</td>\n",
       "      <td>0.0</td>\n",
       "      <td>0.0</td>\n",
       "      <td>0.0</td>\n",
       "      <td>0.0</td>\n",
       "      <td>0.0</td>\n",
       "      <td>0.0</td>\n",
       "      <td>0.0</td>\n",
       "      <td>0.0</td>\n",
       "      <td>63</td>\n",
       "      <td>9</td>\n",
       "      <td>20</td>\n",
       "      <td>0</td>\n",
       "    </tr>\n",
       "  </tbody>\n",
       "</table>\n",
       "</div>"
      ],
      "text/plain": [
       "   patient_nbr  time_in_hospital  admission_type_id  discharge_disposition_id  \\\n",
       "0    100654011                10                  3                         3   \n",
       "1     58682736                 6                  1                        11   \n",
       "2     69250302                 2                  1                         1   \n",
       "3     30950811                 2                  3                         1   \n",
       "4     58763808                10                  1                         3   \n",
       "\n",
       "   admission_source_id primary_diagnosis_code max_glu_serum A1Cresult change  \\\n",
       "0                    1                    715          None      None     Ch   \n",
       "1                    5                  250.2          None      None     No   \n",
       "2                    7                    414          None      None     No   \n",
       "3                    1                    196          None      None     No   \n",
       "4                    7                  250.4          None      None     No   \n",
       "\n",
       "  readmitted       race  gender      age  Acarbose  Glimepiride  Glipizide  \\\n",
       "0        <30  Caucasian  Female  [70-80)       0.0          0.0        1.0   \n",
       "1         NO  Caucasian    Male  [80-90)       0.0          0.0        0.0   \n",
       "2        >30  Caucasian    Male  [60-70)       0.0          0.0        0.0   \n",
       "3        >30  Caucasian    Male  [50-60)       0.0          0.0        0.0   \n",
       "4        <30  Caucasian  Female  [70-80)       0.0          0.0        1.0   \n",
       "\n",
       "   Glyburide  Human_Insulin  Insulin_Human  Metformin_Hcl  \\\n",
       "0        0.0            1.0            0.0            0.0   \n",
       "1        0.0            1.0            0.0            0.0   \n",
       "2        0.0            0.0            0.0            0.0   \n",
       "3        1.0            0.0            0.0            0.0   \n",
       "4        0.0            0.0            0.0            0.0   \n",
       "\n",
       "   Metformin_Hydrochloride  Nateglinide  Pioglitazone  Repaglinide  \\\n",
       "0                      0.0          0.0           0.0          0.0   \n",
       "1                      0.0          0.0           0.0          0.0   \n",
       "2                      0.0          0.0           1.0          0.0   \n",
       "3                      0.0          0.0           0.0          0.0   \n",
       "4                      0.0          0.0           0.0          0.0   \n",
       "\n",
       "   Rosiglitazone_Maleate  num_lab_procedures  number_diagnoses  \\\n",
       "0                    0.0                  65                 9   \n",
       "1                    0.0                  73                 9   \n",
       "2                    0.0                  58                 9   \n",
       "3                    0.0                   5                 7   \n",
       "4                    0.0                  63                 9   \n",
       "\n",
       "   num_medications  num_procedures  \n",
       "0               28               1  \n",
       "1               16               0  \n",
       "2               12               3  \n",
       "3               11               4  \n",
       "4               20               0  "
      ]
     },
     "execution_count": 40,
     "metadata": {},
     "output_type": "execute_result"
    }
   ],
   "source": [
    "selected_features_df.head()"
   ]
  },
  {
   "cell_type": "markdown",
   "metadata": {},
   "source": [
    "### Preprocess Dataset - Casting and Imputing  "
   ]
  },
  {
   "cell_type": "markdown",
   "metadata": {},
   "source": [
    "We will cast and impute the dataset before splitting so that we do not have to repeat these steps across the splits in the next step. For imputing, there can be deeper analysis into which features to impute and how to impute but for the sake of time, we are taking a general strategy of imputing zero for only numerical features. \n",
    "\n",
    "OPTIONAL: What are some potential issues with this approach? Can you recommend a better way and also implement it?"
   ]
  },
  {
   "cell_type": "code",
   "execution_count": 41,
   "metadata": {},
   "outputs": [
    {
     "name": "stderr",
     "output_type": "stream",
     "text": [
      "/home/workspace/starter_code/utils.py:29: SettingWithCopyWarning: \n",
      "A value is trying to be set on a copy of a slice from a DataFrame.\n",
      "Try using .loc[row_indexer,col_indexer] = value instead\n",
      "\n",
      "See the caveats in the documentation: https://pandas.pydata.org/pandas-docs/stable/user_guide/indexing.html#returning-a-view-versus-a-copy\n",
      "  df[predictor] = df[predictor].astype(float)\n",
      "/home/workspace/starter_code/utils.py:31: SettingWithCopyWarning: \n",
      "A value is trying to be set on a copy of a slice from a DataFrame.\n",
      "Try using .loc[row_indexer,col_indexer] = value instead\n",
      "\n",
      "See the caveats in the documentation: https://pandas.pydata.org/pandas-docs/stable/user_guide/indexing.html#returning-a-view-versus-a-copy\n",
      "  df[c] = cast_df(df, c, d_type=str)\n",
      "/home/workspace/starter_code/utils.py:33: SettingWithCopyWarning: \n",
      "A value is trying to be set on a copy of a slice from a DataFrame.\n",
      "Try using .loc[row_indexer,col_indexer] = value instead\n",
      "\n",
      "See the caveats in the documentation: https://pandas.pydata.org/pandas-docs/stable/user_guide/indexing.html#returning-a-view-versus-a-copy\n",
      "  df[numerical_column] = impute_df(df, numerical_column, numerical_impute_value)\n"
     ]
    }
   ],
   "source": [
    "processed_df = preprocess_df(selected_features_df, student_categorical_col_list, \n",
    "        student_numerical_col_list, PREDICTOR_FIELD, categorical_impute_value='nan', numerical_impute_value=0)"
   ]
  },
  {
   "cell_type": "markdown",
   "metadata": {},
   "source": [
    "## Split Dataset into Train, Validation, and Test Partitions"
   ]
  },
  {
   "cell_type": "markdown",
   "metadata": {},
   "source": [
    "**Question 6**: In order to prepare the data for being trained and evaluated by a deep learning model, we will split the dataset into three partitions, with the validation partition used for optimizing the model hyperparameters during training. One of the key parts is that we need to be sure that the data does not accidently leak across partitions.\n",
    "\n",
    "Please complete the function below to split the input dataset into three partitions(train, validation, test) with the following requirements.\n",
    "- Approximately 60%/20%/20%  train/validation/test split\n",
    "- Randomly sample different patients into each data partition\n",
    "- **IMPORTANT** Make sure that a patient's data is not in more than one partition, so that we can avoid possible data leakage.\n",
    "- Make sure that the total number of unique patients across the splits is equal to the total number of unique patients in the original dataset\n",
    "- Total number of rows in original dataset = sum of rows across all three dataset partitions"
   ]
  },
  {
   "cell_type": "code",
   "execution_count": 42,
   "metadata": {},
   "outputs": [],
   "source": [
    "%autoreload 2\n",
    "from student_utils import patient_dataset_splitter\n",
    "d_train, d_val, d_test = patient_dataset_splitter(processed_df, 'patient_nbr')"
   ]
  },
  {
   "cell_type": "code",
   "execution_count": 43,
   "metadata": {},
   "outputs": [
    {
     "name": "stdout",
     "output_type": "stream",
     "text": [
      "Test passed for patient data leakage!\n"
     ]
    }
   ],
   "source": [
    "assert set(d_train['patient_nbr']) & set(d_val['patient_nbr']) == set()\n",
    "assert set(d_train['patient_nbr']) & set(d_test['patient_nbr']) == set()\n",
    "print(\"Test passed for patient data leakage!\")"
   ]
  },
  {
   "cell_type": "code",
   "execution_count": 44,
   "metadata": {},
   "outputs": [
    {
     "name": "stdout",
     "output_type": "stream",
     "text": [
      "#Train: 554 #Val: 185 #Test: 185\n",
      "Test passed for number of total rows equal!\n"
     ]
    }
   ],
   "source": [
    "print('#Train:', len(d_train), '#Val:', len(d_val), '#Test:', len(d_test))\n",
    "assert len(d_train) + len(d_val) + len(d_test) == len(processed_df)\n",
    "print(\"Test passed for number of total rows equal!\")"
   ]
  },
  {
   "cell_type": "code",
   "execution_count": 45,
   "metadata": {},
   "outputs": [
    {
     "name": "stdout",
     "output_type": "stream",
     "text": [
      "Test passed for number of unique patients being equal!\n"
     ]
    }
   ],
   "source": [
    "assert (d_train['patient_nbr'].nunique() + d_val['patient_nbr'].nunique() + d_test['patient_nbr'].nunique()) == agg_drug_df['patient_nbr'].nunique()\n",
    "print(\"Test passed for number of unique patients being equal!\")"
   ]
  },
  {
   "cell_type": "markdown",
   "metadata": {},
   "source": [
    "## Demographic Representation Analysis of Split"
   ]
  },
  {
   "cell_type": "markdown",
   "metadata": {},
   "source": [
    "After the split, we should check to see the distribution of key features/groups and make sure that there is representative samples across the partitions. The show_group_stats_viz function in the utils.py file can be used to group and visualize different groups and dataframe partitions."
   ]
  },
  {
   "cell_type": "markdown",
   "metadata": {},
   "source": [
    "### Label Distribution Across Partitions"
   ]
  },
  {
   "cell_type": "markdown",
   "metadata": {},
   "source": [
    "Below you can see the distributution of the label across your splits. Are the histogram distribution shapes similar across partitions?"
   ]
  },
  {
   "cell_type": "code",
   "execution_count": 46,
   "metadata": {},
   "outputs": [
    {
     "name": "stdout",
     "output_type": "stream",
     "text": [
      "time_in_hospital\n",
      "1.0      95\n",
      "2.0     159\n",
      "3.0     188\n",
      "4.0     145\n",
      "5.0      87\n",
      "6.0      74\n",
      "7.0      54\n",
      "8.0      37\n",
      "9.0      27\n",
      "10.0     15\n",
      "11.0     15\n",
      "12.0     14\n",
      "13.0     11\n",
      "14.0      3\n",
      "dtype: int64\n",
      "AxesSubplot(0.125,0.125;0.775x0.755)\n"
     ]
    },
    {
     "data": {
      "image/png": "[encoded data removed]",
      "text/plain": [
       "<Figure size 432x288 with 1 Axes>"
      ]
     },
     "metadata": {
      "needs_background": "light"
     },
     "output_type": "display_data"
    }
   ],
   "source": [
    "show_group_stats_viz(processed_df, PREDICTOR_FIELD)"
   ]
  },
  {
   "cell_type": "code",
   "execution_count": 47,
   "metadata": {},
   "outputs": [
    {
     "name": "stdout",
     "output_type": "stream",
     "text": [
      "time_in_hospital\n",
      "1.0      52\n",
      "2.0     100\n",
      "3.0     115\n",
      "4.0      93\n",
      "5.0      55\n",
      "6.0      43\n",
      "7.0      26\n",
      "8.0      22\n",
      "9.0      16\n",
      "10.0     11\n",
      "11.0      8\n",
      "12.0      6\n",
      "13.0      5\n",
      "14.0      2\n",
      "dtype: int64\n",
      "AxesSubplot(0.125,0.125;0.775x0.755)\n"
     ]
    },
    {
     "data": {
      "image/png": "[encoded data removed]",
      "text/plain": [
       "<Figure size 432x288 with 1 Axes>"
      ]
     },
     "metadata": {
      "needs_background": "light"
     },
     "output_type": "display_data"
    }
   ],
   "source": [
    "show_group_stats_viz(d_train, PREDICTOR_FIELD)"
   ]
  },
  {
   "cell_type": "code",
   "execution_count": 48,
   "metadata": {},
   "outputs": [
    {
     "name": "stdout",
     "output_type": "stream",
     "text": [
      "time_in_hospital\n",
      "1.0     21\n",
      "2.0     28\n",
      "3.0     39\n",
      "4.0     23\n",
      "5.0     18\n",
      "6.0     19\n",
      "7.0      8\n",
      "8.0      9\n",
      "9.0      8\n",
      "10.0     2\n",
      "11.0     5\n",
      "12.0     1\n",
      "13.0     4\n",
      "dtype: int64\n",
      "AxesSubplot(0.125,0.125;0.775x0.755)\n"
     ]
    },
    {
     "data": {
      "image/png": "[encoded data removed]",
      "text/plain": [
       "<Figure size 432x288 with 1 Axes>"
      ]
     },
     "metadata": {
      "needs_background": "light"
     },
     "output_type": "display_data"
    }
   ],
   "source": [
    "show_group_stats_viz(d_test, PREDICTOR_FIELD)"
   ]
  },
  {
   "cell_type": "markdown",
   "metadata": {},
   "source": [
    "**Label seems well distributed accross partitions.**"
   ]
  },
  {
   "cell_type": "markdown",
   "metadata": {},
   "source": [
    "## Demographic Group Analysis"
   ]
  },
  {
   "cell_type": "markdown",
   "metadata": {},
   "source": [
    "We should check that our partitions/splits of the dataset are similar in terms of their demographic profiles. Below you can see how we might visualize and analyze the full dataset vs. the partitions."
   ]
  },
  {
   "cell_type": "code",
   "execution_count": 49,
   "metadata": {},
   "outputs": [
    {
     "name": "stdout",
     "output_type": "stream",
     "text": [
      "gender\n",
      "Female    464\n",
      "Male      460\n",
      "dtype: int64\n",
      "AxesSubplot(0.125,0.125;0.775x0.755)\n"
     ]
    },
    {
     "data": {
      "image/png": "[encoded data removed]",
      "text/plain": [
       "<Figure size 432x288 with 1 Axes>"
      ]
     },
     "metadata": {
      "needs_background": "light"
     },
     "output_type": "display_data"
    }
   ],
   "source": [
    "# Full dataset before splitting\n",
    "patient_demo_features = ['race', 'gender', 'age', 'patient_nbr']\n",
    "patient_group_analysis_df = processed_df[patient_demo_features].groupby('patient_nbr').head(1).reset_index(drop=True)\n",
    "show_group_stats_viz(patient_group_analysis_df, 'gender')"
   ]
  },
  {
   "cell_type": "code",
   "execution_count": 50,
   "metadata": {},
   "outputs": [
    {
     "name": "stdout",
     "output_type": "stream",
     "text": [
      "gender\n",
      "Female    272\n",
      "Male      282\n",
      "dtype: int64\n",
      "AxesSubplot(0.125,0.125;0.775x0.755)\n"
     ]
    },
    {
     "data": {
      "image/png": "[encoded data removed]",
      "text/plain": [
       "<Figure size 432x288 with 1 Axes>"
      ]
     },
     "metadata": {
      "needs_background": "light"
     },
     "output_type": "display_data"
    }
   ],
   "source": [
    "# Training partition\n",
    "show_group_stats_viz(d_train, 'gender')"
   ]
  },
  {
   "cell_type": "code",
   "execution_count": 51,
   "metadata": {},
   "outputs": [
    {
     "name": "stdout",
     "output_type": "stream",
     "text": [
      "gender\n",
      "Female    89\n",
      "Male      96\n",
      "dtype: int64\n",
      "AxesSubplot(0.125,0.125;0.775x0.755)\n"
     ]
    },
    {
     "data": {
      "image/png": "[encoded data removed]",
      "text/plain": [
       "<Figure size 432x288 with 1 Axes>"
      ]
     },
     "metadata": {
      "needs_background": "light"
     },
     "output_type": "display_data"
    }
   ],
   "source": [
    "# Test partition\n",
    "show_group_stats_viz(d_test, 'gender')"
   ]
  },
  {
   "cell_type": "code",
   "execution_count": 52,
   "metadata": {},
   "outputs": [
    {
     "name": "stdout",
     "output_type": "stream",
     "text": [
      "race\n",
      "AfricanAmerican     19\n",
      "Caucasian          529\n",
      "Other                6\n",
      "dtype: int64\n",
      "AxesSubplot(0.125,0.125;0.775x0.755)\n"
     ]
    },
    {
     "data": {
      "image/png": "[encoded data removed]",
      "text/plain": [
       "<Figure size 432x288 with 1 Axes>"
      ]
     },
     "metadata": {
      "needs_background": "light"
     },
     "output_type": "display_data"
    }
   ],
   "source": [
    "show_group_stats_viz(d_train, 'race')"
   ]
  },
  {
   "cell_type": "code",
   "execution_count": 53,
   "metadata": {},
   "outputs": [
    {
     "name": "stdout",
     "output_type": "stream",
     "text": [
      "race\n",
      "AfricanAmerican      6\n",
      "Caucasian          175\n",
      "Other                4\n",
      "dtype: int64\n",
      "AxesSubplot(0.125,0.125;0.775x0.755)\n"
     ]
    },
    {
     "data": {
      "image/png": "[encoded data removed]",
      "text/plain": [
       "<Figure size 432x288 with 1 Axes>"
      ]
     },
     "metadata": {
      "needs_background": "light"
     },
     "output_type": "display_data"
    }
   ],
   "source": [
    "show_group_stats_viz(d_test, 'race')"
   ]
  },
  {
   "cell_type": "code",
   "execution_count": 54,
   "metadata": {},
   "outputs": [
    {
     "name": "stdout",
     "output_type": "stream",
     "text": [
      "race\n",
      "AfricanAmerican      6\n",
      "Asian                1\n",
      "Caucasian          177\n",
      "Other                1\n",
      "dtype: int64\n",
      "AxesSubplot(0.125,0.125;0.775x0.755)\n"
     ]
    },
    {
     "data": {
      "image/png": "[encoded data removed]",
      "text/plain": [
       "<Figure size 432x288 with 1 Axes>"
      ]
     },
     "metadata": {
      "needs_background": "light"
     },
     "output_type": "display_data"
    }
   ],
   "source": [
    "show_group_stats_viz(d_val, 'race')"
   ]
  },
  {
   "cell_type": "code",
   "execution_count": 55,
   "metadata": {},
   "outputs": [
    {
     "name": "stdout",
     "output_type": "stream",
     "text": [
      "age\n",
      "[10-20)       2\n",
      "[20-30)       6\n",
      "[30-40)      12\n",
      "[40-50)      40\n",
      "[50-60)      78\n",
      "[60-70)     149\n",
      "[70-80)     169\n",
      "[80-90)      85\n",
      "[90-100)     13\n",
      "dtype: int64\n",
      "AxesSubplot(0.125,0.125;0.775x0.755)\n"
     ]
    },
    {
     "data": {
      "image/png": "[encoded data removed]",
      "text/plain": [
       "<Figure size 432x288 with 1 Axes>"
      ]
     },
     "metadata": {
      "needs_background": "light"
     },
     "output_type": "display_data"
    }
   ],
   "source": [
    "show_group_stats_viz(d_train, 'age')"
   ]
  },
  {
   "cell_type": "code",
   "execution_count": 56,
   "metadata": {},
   "outputs": [
    {
     "name": "stdout",
     "output_type": "stream",
     "text": [
      "age\n",
      "[10-20)      2\n",
      "[20-30)      4\n",
      "[30-40)      7\n",
      "[40-50)      5\n",
      "[50-60)     35\n",
      "[60-70)     47\n",
      "[70-80)     49\n",
      "[80-90)     32\n",
      "[90-100)     4\n",
      "dtype: int64\n",
      "AxesSubplot(0.125,0.125;0.775x0.755)\n"
     ]
    },
    {
     "data": {
      "image/png": "[encoded data removed]",
      "text/plain": [
       "<Figure size 432x288 with 1 Axes>"
      ]
     },
     "metadata": {
      "needs_background": "light"
     },
     "output_type": "display_data"
    }
   ],
   "source": [
    "show_group_stats_viz(d_test, 'age')"
   ]
  },
  {
   "cell_type": "code",
   "execution_count": 57,
   "metadata": {},
   "outputs": [
    {
     "name": "stdout",
     "output_type": "stream",
     "text": [
      "age\n",
      "[0-10)       1\n",
      "[10-20)      1\n",
      "[20-30)      4\n",
      "[30-40)      2\n",
      "[40-50)     14\n",
      "[50-60)     44\n",
      "[60-70)     33\n",
      "[70-80)     55\n",
      "[80-90)     28\n",
      "[90-100)     3\n",
      "dtype: int64\n",
      "AxesSubplot(0.125,0.125;0.775x0.755)\n"
     ]
    },
    {
     "data": {
      "image/png": "[encoded data removed]",
      "text/plain": [
       "<Figure size 432x288 with 1 Axes>"
      ]
     },
     "metadata": {
      "needs_background": "light"
     },
     "output_type": "display_data"
    }
   ],
   "source": [
    "show_group_stats_viz(d_val, 'age')"
   ]
  },
  {
   "cell_type": "markdown",
   "metadata": {},
   "source": [
    "## Convert Dataset Splits to TF Dataset"
   ]
  },
  {
   "cell_type": "markdown",
   "metadata": {},
   "source": [
    "We have provided you the function to convert the Pandas dataframe to TF tensors using the TF Dataset API. \n",
    "Please note that this is not a scalable method and for larger datasets, the 'make_csv_dataset' method is recommended -https://www.tensorflow.org/api_docs/python/tf/data/experimental/make_csv_dataset."
   ]
  },
  {
   "cell_type": "code",
   "execution_count": 58,
   "metadata": {},
   "outputs": [],
   "source": [
    "# Convert dataset from Pandas dataframes to TF dataset \n",
    "batch_size = 128\n",
    "diabetes_train_ds = df_to_dataset(d_train, PREDICTOR_FIELD, batch_size=batch_size)\n",
    "diabetes_val_ds = df_to_dataset(d_val, PREDICTOR_FIELD, batch_size=batch_size)\n",
    "diabetes_test_ds = df_to_dataset(d_test, PREDICTOR_FIELD, batch_size=batch_size)"
   ]
  },
  {
   "cell_type": "code",
   "execution_count": 59,
   "metadata": {},
   "outputs": [],
   "source": [
    "# We use this sample of the dataset to show transformations later\n",
    "diabetes_batch = next(iter(diabetes_train_ds))[0]\n",
    "def demo(feature_column, example_batch):\n",
    "    feature_layer = layers.DenseFeatures(feature_column)\n",
    "    print(feature_layer(example_batch))"
   ]
  },
  {
   "cell_type": "markdown",
   "metadata": {},
   "source": [
    "# 4. Create Categorical Features with TF Feature Columns"
   ]
  },
  {
   "cell_type": "markdown",
   "metadata": {},
   "source": [
    "## Build Vocabulary for Categorical Features"
   ]
  },
  {
   "cell_type": "markdown",
   "metadata": {},
   "source": [
    "Before we can create the TF categorical features, we must first create the vocab files with the unique values for a given field that are from the **training** dataset. Below we have provided a function that you can use that only requires providing the pandas train dataset partition and the list of the categorical columns in a list format. The output variable 'vocab_file_list' will be a list of the file paths that can be used in the next step for creating the categorical features."
   ]
  },
  {
   "cell_type": "code",
   "execution_count": 60,
   "metadata": {},
   "outputs": [],
   "source": [
    "vocab_file_list = build_vocab_files(d_train, student_categorical_col_list)"
   ]
  },
  {
   "cell_type": "markdown",
   "metadata": {},
   "source": [
    "## Create Categorical Features with Tensorflow Feature Column API"
   ]
  },
  {
   "cell_type": "markdown",
   "metadata": {},
   "source": [
    "**Question 7**: Using the vocab file list from above that was derived from the features you selected earlier, please create categorical features with the Tensorflow Feature Column API, https://www.tensorflow.org/api_docs/python/tf/feature_column. Below is a function to help guide you."
   ]
  },
  {
   "cell_type": "code",
   "execution_count": 61,
   "metadata": {},
   "outputs": [
    {
     "name": "stdout",
     "output_type": "stream",
     "text": [
      "INFO:tensorflow:vocabulary_size = 4 in admission_type_id is inferred from the number of elements in the vocabulary_file ./diabetes_vocab/admission_type_id_vocab.txt.\n",
      "INFO:tensorflow:vocabulary_size = 11 in discharge_disposition_id is inferred from the number of elements in the vocabulary_file ./diabetes_vocab/discharge_disposition_id_vocab.txt.\n",
      "INFO:tensorflow:vocabulary_size = 7 in admission_source_id is inferred from the number of elements in the vocabulary_file ./diabetes_vocab/admission_source_id_vocab.txt.\n",
      "INFO:tensorflow:vocabulary_size = 147 in primary_diagnosis_code is inferred from the number of elements in the vocabulary_file ./diabetes_vocab/primary_diagnosis_code_vocab.txt.\n",
      "INFO:tensorflow:vocabulary_size = 2 in max_glu_serum is inferred from the number of elements in the vocabulary_file ./diabetes_vocab/max_glu_serum_vocab.txt.\n",
      "INFO:tensorflow:vocabulary_size = 5 in A1Cresult is inferred from the number of elements in the vocabulary_file ./diabetes_vocab/A1Cresult_vocab.txt.\n",
      "INFO:tensorflow:vocabulary_size = 3 in change is inferred from the number of elements in the vocabulary_file ./diabetes_vocab/change_vocab.txt.\n",
      "INFO:tensorflow:vocabulary_size = 4 in readmitted is inferred from the number of elements in the vocabulary_file ./diabetes_vocab/readmitted_vocab.txt.\n",
      "INFO:tensorflow:vocabulary_size = 4 in race is inferred from the number of elements in the vocabulary_file ./diabetes_vocab/race_vocab.txt.\n",
      "INFO:tensorflow:vocabulary_size = 3 in gender is inferred from the number of elements in the vocabulary_file ./diabetes_vocab/gender_vocab.txt.\n",
      "INFO:tensorflow:vocabulary_size = 10 in age is inferred from the number of elements in the vocabulary_file ./diabetes_vocab/age_vocab.txt.\n",
      "INFO:tensorflow:vocabulary_size = 4 in Acarbose is inferred from the number of elements in the vocabulary_file ./diabetes_vocab/Acarbose_vocab.txt.\n",
      "INFO:tensorflow:vocabulary_size = 4 in Glimepiride is inferred from the number of elements in the vocabulary_file ./diabetes_vocab/Glimepiride_vocab.txt.\n",
      "INFO:tensorflow:vocabulary_size = 4 in Glipizide is inferred from the number of elements in the vocabulary_file ./diabetes_vocab/Glipizide_vocab.txt.\n",
      "INFO:tensorflow:vocabulary_size = 4 in Glyburide is inferred from the number of elements in the vocabulary_file ./diabetes_vocab/Glyburide_vocab.txt.\n",
      "INFO:tensorflow:vocabulary_size = 4 in Human_Insulin is inferred from the number of elements in the vocabulary_file ./diabetes_vocab/Human_Insulin_vocab.txt.\n",
      "INFO:tensorflow:vocabulary_size = 4 in Insulin_Human is inferred from the number of elements in the vocabulary_file ./diabetes_vocab/Insulin_Human_vocab.txt.\n",
      "INFO:tensorflow:vocabulary_size = 4 in Metformin_Hcl is inferred from the number of elements in the vocabulary_file ./diabetes_vocab/Metformin_Hcl_vocab.txt.\n",
      "INFO:tensorflow:vocabulary_size = 4 in Metformin_Hydrochloride is inferred from the number of elements in the vocabulary_file ./diabetes_vocab/Metformin_Hydrochloride_vocab.txt.\n",
      "INFO:tensorflow:vocabulary_size = 4 in Nateglinide is inferred from the number of elements in the vocabulary_file ./diabetes_vocab/Nateglinide_vocab.txt.\n",
      "INFO:tensorflow:vocabulary_size = 4 in Pioglitazone is inferred from the number of elements in the vocabulary_file ./diabetes_vocab/Pioglitazone_vocab.txt.\n",
      "INFO:tensorflow:vocabulary_size = 4 in Repaglinide is inferred from the number of elements in the vocabulary_file ./diabetes_vocab/Repaglinide_vocab.txt.\n",
      "INFO:tensorflow:vocabulary_size = 4 in Rosiglitazone_Maleate is inferred from the number of elements in the vocabulary_file ./diabetes_vocab/Rosiglitazone_Maleate_vocab.txt.\n"
     ]
    }
   ],
   "source": [
    "%autoreload 2\n",
    "from student_utils import create_tf_categorical_feature_cols\n",
    "tf_cat_col_list = create_tf_categorical_feature_cols(student_categorical_col_list)"
   ]
  },
  {
   "cell_type": "code",
   "execution_count": 62,
   "metadata": {},
   "outputs": [
    {
     "name": "stdout",
     "output_type": "stream",
     "text": [
      "Example categorical field:\n",
      "EmbeddingColumn(categorical_column=VocabularyFileCategoricalColumn(key='admission_type_id', vocabulary_file='./diabetes_vocab/admission_type_id_vocab.txt', vocabulary_size=4, num_oov_buckets=1, dtype=tf.string, default_value=-1), dimension=10, combiner='mean', initializer=<tensorflow.python.ops.init_ops.TruncatedNormal object at 0x7f0874cd3b50>, ckpt_to_load_from=None, tensor_name_in_ckpt=None, max_norm=None, trainable=True)\n",
      "tf.Tensor(\n",
      "[[ 0.2214566  -0.0661213  -0.4671332  ...  0.62348294 -0.49508774\n",
      "   0.33564028]\n",
      " [ 0.1486745   0.27798414 -0.50703317 ...  0.51509345 -0.3833992\n",
      "  -0.15560628]\n",
      " [ 0.2214566  -0.0661213  -0.4671332  ...  0.62348294 -0.49508774\n",
      "   0.33564028]\n",
      " ...\n",
      " [-0.15466042 -0.28308102 -0.16084012 ...  0.08433478 -0.3667989\n",
      "  -0.19891514]\n",
      " [-0.15466042 -0.28308102 -0.16084012 ...  0.08433478 -0.3667989\n",
      "  -0.19891514]\n",
      " [ 0.1486745   0.27798414 -0.50703317 ...  0.51509345 -0.3833992\n",
      "  -0.15560628]], shape=(128, 10), dtype=float32)\n"
     ]
    }
   ],
   "source": [
    "test_cat_var1 = tf_cat_col_list[0]\n",
    "print(\"Example categorical field:\\n{}\".format(test_cat_var1))\n",
    "demo(test_cat_var1, diabetes_batch)"
   ]
  },
  {
   "cell_type": "markdown",
   "metadata": {},
   "source": [
    "# 5. Create Numerical Features with TF Feature Columns"
   ]
  },
  {
   "cell_type": "markdown",
   "metadata": {},
   "source": [
    "**Question 8**: Using the TF Feature Column API(https://www.tensorflow.org/api_docs/python/tf/feature_column/), please create normalized Tensorflow numeric features for the model. Try to use the z-score normalizer function below to help as well as the 'calculate_stats_from_train_data' function."
   ]
  },
  {
   "cell_type": "code",
   "execution_count": 63,
   "metadata": {},
   "outputs": [],
   "source": [
    "%autoreload 2\n",
    "from student_utils import create_tf_numeric_feature"
   ]
  },
  {
   "cell_type": "markdown",
   "metadata": {},
   "source": [
    "For simplicity the create_tf_numerical_feature_cols function below uses the same normalizer function across all features(z-score normalization) but if you have time feel free to analyze and adapt the normalizer based off the statistical distributions. You may find this as a good resource in determining which transformation fits best for the data https://developers.google.com/machine-learning/data-prep/transform/normalization.\n"
   ]
  },
  {
   "cell_type": "code",
   "execution_count": 64,
   "metadata": {},
   "outputs": [],
   "source": [
    "def calculate_stats_from_train_data(df, col):\n",
    "    mean = df[col].describe()['mean']\n",
    "    std = df[col].describe()['std']\n",
    "    return mean, std\n",
    "\n",
    "def create_tf_numerical_feature_cols(numerical_col_list, train_df):\n",
    "    tf_numeric_col_list = []\n",
    "    for c in numerical_col_list:\n",
    "        mean, std = calculate_stats_from_train_data(train_df, c)\n",
    "        tf_numeric_feature = create_tf_numeric_feature(c, mean, std)\n",
    "        tf_numeric_col_list.append(tf_numeric_feature)\n",
    "    return tf_numeric_col_list"
   ]
  },
  {
   "cell_type": "code",
   "execution_count": 65,
   "metadata": {},
   "outputs": [],
   "source": [
    "tf_cont_col_list = create_tf_numerical_feature_cols(student_numerical_col_list, d_train)"
   ]
  },
  {
   "cell_type": "code",
   "execution_count": 66,
   "metadata": {},
   "outputs": [
    {
     "name": "stdout",
     "output_type": "stream",
     "text": [
      "Example continuous field:\n",
      "NumericColumn(key='num_lab_procedures', shape=(1,), default_value=(0,), dtype=tf.float64, normalizer_fn=functools.partial(<function normalize_numeric_with_zscore at 0x7f0875819200>, mean=53.04693140794224, std=18.87001217444337))\n",
      "\n",
      "tf.Tensor(\n",
      "[[ 0.6111111 ]\n",
      " [-0.7777778 ]\n",
      " [-2.7222223 ]\n",
      " [-0.6666667 ]\n",
      " [ 1.2222222 ]\n",
      " [ 0.8888889 ]\n",
      " [ 0.22222222]\n",
      " [-0.44444445]\n",
      " [ 0.6666667 ]\n",
      " [ 0.6666667 ]\n",
      " [ 1.        ]\n",
      " [ 0.05555556]\n",
      " [-1.9444444 ]\n",
      " [-0.33333334]\n",
      " [-2.1666667 ]\n",
      " [ 0.8333333 ]\n",
      " [-1.8333334 ]\n",
      " [-0.05555556]\n",
      " [ 1.2777778 ]\n",
      " [-1.3333334 ]\n",
      " [ 0.8888889 ]\n",
      " [ 0.3888889 ]\n",
      " [ 1.8888888 ]\n",
      " [ 0.16666667]\n",
      " [ 0.        ]\n",
      " [ 0.7777778 ]\n",
      " [-0.9444444 ]\n",
      " [ 0.44444445]\n",
      " [-2.6666667 ]\n",
      " [ 0.8333333 ]\n",
      " [-1.6111112 ]\n",
      " [-0.8333333 ]\n",
      " [ 1.7777778 ]\n",
      " [ 0.16666667]\n",
      " [ 0.6666667 ]\n",
      " [-1.        ]\n",
      " [ 0.3888889 ]\n",
      " [-0.44444445]\n",
      " [ 0.5       ]\n",
      " [-0.05555556]\n",
      " [-1.1666666 ]\n",
      " [-2.7222223 ]\n",
      " [-0.5555556 ]\n",
      " [-1.2222222 ]\n",
      " [-0.7222222 ]\n",
      " [ 0.7222222 ]\n",
      " [-0.44444445]\n",
      " [ 0.8888889 ]\n",
      " [-1.3888888 ]\n",
      " [ 0.8888889 ]\n",
      " [ 1.4444444 ]\n",
      " [ 0.3888889 ]\n",
      " [-1.9444444 ]\n",
      " [ 0.05555556]\n",
      " [-0.05555556]\n",
      " [-0.8888889 ]\n",
      " [ 1.        ]\n",
      " [ 0.5555556 ]\n",
      " [-2.0555556 ]\n",
      " [ 1.1111112 ]\n",
      " [ 0.6111111 ]\n",
      " [ 0.9444444 ]\n",
      " [ 0.33333334]\n",
      " [ 0.11111111]\n",
      " [ 0.11111111]\n",
      " [ 0.7222222 ]\n",
      " [ 1.        ]\n",
      " [ 0.8888889 ]\n",
      " [ 1.1666666 ]\n",
      " [-0.11111111]\n",
      " [ 1.2777778 ]\n",
      " [-0.22222222]\n",
      " [-0.5555556 ]\n",
      " [-0.16666667]\n",
      " [ 1.1111112 ]\n",
      " [ 1.4444444 ]\n",
      " [ 0.7777778 ]\n",
      " [ 1.0555556 ]\n",
      " [-1.1666666 ]\n",
      " [ 0.8888889 ]\n",
      " [ 0.05555556]\n",
      " [-1.2222222 ]\n",
      " [-0.5555556 ]\n",
      " [-0.22222222]\n",
      " [ 0.        ]\n",
      " [-0.6111111 ]\n",
      " [-1.2777778 ]\n",
      " [ 0.2777778 ]\n",
      " [ 0.9444444 ]\n",
      " [ 0.6111111 ]\n",
      " [ 0.8888889 ]\n",
      " [ 1.2777778 ]\n",
      " [ 0.7222222 ]\n",
      " [ 0.9444444 ]\n",
      " [ 1.6111112 ]\n",
      " [-0.8888889 ]\n",
      " [ 0.5555556 ]\n",
      " [ 1.4444444 ]\n",
      " [-0.11111111]\n",
      " [ 0.44444445]\n",
      " [-1.5555556 ]\n",
      " [-0.9444444 ]\n",
      " [ 0.6666667 ]\n",
      " [ 0.        ]\n",
      " [-0.33333334]\n",
      " [ 1.        ]\n",
      " [ 0.7222222 ]\n",
      " [ 1.2777778 ]\n",
      " [-0.3888889 ]\n",
      " [-0.5       ]\n",
      " [-2.7222223 ]\n",
      " [-0.7222222 ]\n",
      " [-1.        ]\n",
      " [-2.8888888 ]\n",
      " [-2.8888888 ]\n",
      " [-1.2777778 ]\n",
      " [-0.3888889 ]\n",
      " [-2.3333333 ]\n",
      " [-1.9444444 ]\n",
      " [ 1.0555556 ]\n",
      " [-0.3888889 ]\n",
      " [-2.7222223 ]\n",
      " [-1.3333334 ]\n",
      " [ 1.1666666 ]\n",
      " [-0.22222222]\n",
      " [ 0.16666667]\n",
      " [ 0.7222222 ]\n",
      " [-2.6666667 ]], shape=(128, 1), dtype=float32)\n"
     ]
    }
   ],
   "source": [
    "test_cont_var1 = tf_cont_col_list[0]\n",
    "print(\"Example continuous field:\\n{}\\n\".format(test_cont_var1))\n",
    "demo(test_cont_var1, diabetes_batch)"
   ]
  },
  {
   "cell_type": "markdown",
   "metadata": {},
   "source": [
    "# 6. Build Deep Learning Regression Model with Sequential API and TF Probability Layers"
   ]
  },
  {
   "cell_type": "markdown",
   "metadata": {},
   "source": [
    "## Use DenseFeatures to combine features for model"
   ]
  },
  {
   "cell_type": "markdown",
   "metadata": {},
   "source": [
    "Now that we have prepared categorical and numerical features using Tensorflow's Feature Column API, we can combine them into a dense vector representation for the model. Below we will create this new input layer, which we will call 'claim_feature_layer'."
   ]
  },
  {
   "cell_type": "code",
   "execution_count": 67,
   "metadata": {},
   "outputs": [],
   "source": [
    "claim_feature_columns = tf_cat_col_list + tf_cont_col_list\n",
    "claim_feature_layer = tf.keras.layers.DenseFeatures(claim_feature_columns)"
   ]
  },
  {
   "cell_type": "markdown",
   "metadata": {},
   "source": [
    "## Build Sequential API Model from DenseFeatures and TF Probability Layers"
   ]
  },
  {
   "cell_type": "markdown",
   "metadata": {},
   "source": [
    "Below we have provided some boilerplate code for building a model that connects the Sequential API, DenseFeatures, and Tensorflow Probability layers into a deep learning model. There are many opportunities to further optimize and explore different architectures through benchmarking and testing approaches in various research papers, loss and evaluation metrics, learning curves, hyperparameter tuning, TF probability layers, etc. Feel free to modify and explore as you wish."
   ]
  },
  {
   "cell_type": "markdown",
   "metadata": {},
   "source": [
    "**OPTIONAL**: Come up with a more optimal neural network architecture and hyperparameters. Share the process in discovering the architecture and hyperparameters."
   ]
  },
  {
   "cell_type": "code",
   "execution_count": 68,
   "metadata": {},
   "outputs": [],
   "source": [
    "def build_sequential_model(feature_layer):\n",
    "    model = tf.keras.Sequential([\n",
    "        feature_layer,\n",
    "        #tf.keras.layers.Dense(512, activation='relu'),\n",
    "        tf.keras.layers.Dense(150, activation='relu'),\n",
    "        tf.keras.layers.Dense(75, activation='relu'),\n",
    "        tfp.layers.DenseVariational(1+1, posterior_mean_field, prior_trainable),\n",
    "        tfp.layers.DistributionLambda(\n",
    "            lambda t:tfp.distributions.Normal(loc=t[..., :1],\n",
    "                                             scale=1e-3 + tf.math.softplus(0.01 * t[...,1:])\n",
    "                                             )\n",
    "        ),\n",
    "    ])\n",
    "    return model\n",
    "\n",
    "def build_diabetes_model(train_ds, val_ds,  feature_layer,  epochs=5, loss_metric='mse'):\n",
    "    model = build_sequential_model(feature_layer)\n",
    "    optimizer = tf.optimizers.Adam(learning_rate=0.01)\n",
    "    #optimizer = 'rmsprop'\n",
    "    #negloglik = lambda y, rv_y: -rv_y.log_prob(y)\n",
    "    loss = loss_metric #negloglik\n",
    "    model.compile(optimizer=optimizer, loss=loss, metrics=[loss_metric])\n",
    "    early_stop = tf.keras.callbacks.EarlyStopping(monitor=loss_metric, patience=30)     \n",
    "    history = model.fit(train_ds, validation_data=val_ds,\n",
    "                        callbacks=[early_stop],\n",
    "                        epochs=epochs)\n",
    "    return model, history "
   ]
  },
  {
   "cell_type": "code",
   "execution_count": 69,
   "metadata": {},
   "outputs": [
    {
     "name": "stdout",
     "output_type": "stream",
     "text": [
      "Train for 5 steps, validate for 2 steps\n",
      "Epoch 1/200\n",
      "5/5 [==============================] - 10s 2s/step - loss: 91.6228 - mse: 78.4883 - val_loss: 12.3842 - val_mse: 13.2862\n",
      "Epoch 2/200\n",
      "5/5 [==============================] - 0s 68ms/step - loss: 79.6070 - mse: 88.0235 - val_loss: 104.7917 - val_mse: 122.5575\n",
      "Epoch 3/200\n",
      "5/5 [==============================] - 0s 69ms/step - loss: 31.5094 - mse: 31.3132 - val_loss: 18.8016 - val_mse: 19.6430\n",
      "Epoch 4/200\n",
      "5/5 [==============================] - 0s 68ms/step - loss: 30.4441 - mse: 32.2216 - val_loss: 28.2515 - val_mse: 33.3655\n",
      "Epoch 5/200\n",
      "5/5 [==============================] - 0s 68ms/step - loss: 18.0214 - mse: 14.5120 - val_loss: 31.2348 - val_mse: 24.7684\n",
      "Epoch 6/200\n",
      "5/5 [==============================] - 0s 68ms/step - loss: 24.8797 - mse: 23.2176 - val_loss: 45.7114 - val_mse: 57.8460\n",
      "Epoch 7/200\n",
      "5/5 [==============================] - 0s 67ms/step - loss: 28.8793 - mse: 30.1234 - val_loss: 25.8188 - val_mse: 30.5391\n",
      "Epoch 8/200\n",
      "5/5 [==============================] - 0s 68ms/step - loss: 19.5409 - mse: 17.4502 - val_loss: 21.5262 - val_mse: 17.5878\n",
      "Epoch 9/200\n",
      "5/5 [==============================] - 0s 67ms/step - loss: 26.9864 - mse: 24.4684 - val_loss: 11.3301 - val_mse: 8.8447\n",
      "Epoch 10/200\n",
      "5/5 [==============================] - 0s 70ms/step - loss: 31.4226 - mse: 27.6438 - val_loss: 18.7183 - val_mse: 21.8097\n",
      "Epoch 11/200\n",
      "5/5 [==============================] - 0s 70ms/step - loss: 25.3804 - mse: 26.2358 - val_loss: 27.1618 - val_mse: 27.6635\n",
      "Epoch 12/200\n",
      "5/5 [==============================] - 0s 68ms/step - loss: 10.9965 - mse: 9.1881 - val_loss: 13.3313 - val_mse: 10.0084\n",
      "Epoch 13/200\n",
      "5/5 [==============================] - 0s 68ms/step - loss: 10.6178 - mse: 9.3217 - val_loss: 16.3836 - val_mse: 15.7079\n",
      "Epoch 14/200\n",
      "5/5 [==============================] - 0s 66ms/step - loss: 11.2691 - mse: 9.1278 - val_loss: 16.2942 - val_mse: 12.7224\n",
      "Epoch 15/200\n",
      "5/5 [==============================] - 0s 67ms/step - loss: 8.9061 - mse: 7.4544 - val_loss: 10.7326 - val_mse: 8.5035\n",
      "Epoch 16/200\n",
      "5/5 [==============================] - 0s 67ms/step - loss: 21.4549 - mse: 20.1724 - val_loss: 16.1187 - val_mse: 11.9928\n",
      "Epoch 17/200\n",
      "5/5 [==============================] - 0s 67ms/step - loss: 15.1715 - mse: 12.9426 - val_loss: 18.0617 - val_mse: 20.3571\n",
      "Epoch 18/200\n",
      "5/5 [==============================] - 0s 67ms/step - loss: 9.5778 - mse: 7.7628 - val_loss: 14.5738 - val_mse: 14.1211\n",
      "Epoch 19/200\n",
      "5/5 [==============================] - 0s 67ms/step - loss: 13.7237 - mse: 11.7330 - val_loss: 11.1420 - val_mse: 9.7568\n",
      "Epoch 20/200\n",
      "5/5 [==============================] - 0s 67ms/step - loss: 8.8992 - mse: 6.4002 - val_loss: 13.4379 - val_mse: 10.6053\n",
      "Epoch 21/200\n",
      "5/5 [==============================] - 0s 68ms/step - loss: 12.5512 - mse: 10.1541 - val_loss: 13.0272 - val_mse: 8.3849\n",
      "Epoch 22/200\n",
      "5/5 [==============================] - 0s 66ms/step - loss: 18.4731 - mse: 17.4850 - val_loss: 10.7940 - val_mse: 12.1514\n",
      "Epoch 23/200\n",
      "5/5 [==============================] - 0s 67ms/step - loss: 18.1697 - mse: 18.4516 - val_loss: 7.5347 - val_mse: 6.2850\n",
      "Epoch 24/200\n",
      "5/5 [==============================] - 0s 67ms/step - loss: 11.7334 - mse: 10.7922 - val_loss: 11.8630 - val_mse: 11.6701\n",
      "Epoch 25/200\n",
      "5/5 [==============================] - 0s 66ms/step - loss: 14.3090 - mse: 14.4894 - val_loss: 8.4118 - val_mse: 8.5899\n",
      "Epoch 26/200\n",
      "5/5 [==============================] - 0s 66ms/step - loss: 12.0792 - mse: 11.4530 - val_loss: 11.3961 - val_mse: 9.4487\n",
      "Epoch 27/200\n",
      "5/5 [==============================] - 0s 68ms/step - loss: 6.6701 - mse: 4.2764 - val_loss: 12.9093 - val_mse: 12.1991\n",
      "Epoch 28/200\n",
      "5/5 [==============================] - 0s 68ms/step - loss: 9.1831 - mse: 8.2430 - val_loss: 12.0104 - val_mse: 10.1093\n",
      "Epoch 29/200\n",
      "5/5 [==============================] - 0s 68ms/step - loss: 15.0500 - mse: 13.5611 - val_loss: 13.0897 - val_mse: 9.9658\n",
      "Epoch 30/200\n",
      "5/5 [==============================] - 0s 68ms/step - loss: 7.5373 - mse: 5.9204 - val_loss: 8.8468 - val_mse: 9.8630\n",
      "Epoch 31/200\n",
      "5/5 [==============================] - 0s 68ms/step - loss: 11.4310 - mse: 10.1423 - val_loss: 9.9237 - val_mse: 11.1046\n",
      "Epoch 32/200\n",
      "5/5 [==============================] - 0s 68ms/step - loss: 7.9632 - mse: 7.9572 - val_loss: 10.8923 - val_mse: 11.3090\n",
      "Epoch 33/200\n",
      "5/5 [==============================] - 0s 68ms/step - loss: 13.4430 - mse: 12.5135 - val_loss: 12.7704 - val_mse: 11.6548\n",
      "Epoch 34/200\n",
      "5/5 [==============================] - 0s 67ms/step - loss: 6.4888 - mse: 5.5813 - val_loss: 11.8873 - val_mse: 9.5027\n",
      "Epoch 35/200\n",
      "5/5 [==============================] - 0s 67ms/step - loss: 8.3409 - mse: 7.8653 - val_loss: 10.6876 - val_mse: 10.7749\n",
      "Epoch 36/200\n",
      "5/5 [==============================] - 0s 67ms/step - loss: 19.5661 - mse: 20.1730 - val_loss: 24.8563 - val_mse: 23.2736\n",
      "Epoch 37/200\n",
      "5/5 [==============================] - 0s 67ms/step - loss: 7.6286 - mse: 5.8345 - val_loss: 16.3573 - val_mse: 12.6695\n",
      "Epoch 38/200\n",
      "5/5 [==============================] - 0s 66ms/step - loss: 4.8485 - mse: 3.6809 - val_loss: 8.3218 - val_mse: 6.4278\n",
      "Epoch 39/200\n",
      "5/5 [==============================] - 0s 68ms/step - loss: 8.8568 - mse: 6.1749 - val_loss: 11.9469 - val_mse: 9.0048\n",
      "Epoch 40/200\n",
      "5/5 [==============================] - 0s 67ms/step - loss: 9.2537 - mse: 8.4923 - val_loss: 14.8396 - val_mse: 10.3578\n",
      "Epoch 41/200\n",
      "5/5 [==============================] - 0s 67ms/step - loss: 7.5088 - mse: 6.2956 - val_loss: 11.2445 - val_mse: 9.6980\n",
      "Epoch 42/200\n",
      "5/5 [==============================] - 0s 66ms/step - loss: 12.0755 - mse: 12.3462 - val_loss: 10.7311 - val_mse: 7.7921\n",
      "Epoch 43/200\n",
      "5/5 [==============================] - 0s 67ms/step - loss: 17.3201 - mse: 16.5868 - val_loss: 7.8653 - val_mse: 8.3194\n",
      "Epoch 44/200\n",
      "5/5 [==============================] - 0s 66ms/step - loss: 7.7097 - mse: 5.1862 - val_loss: 11.0964 - val_mse: 9.2831\n",
      "Epoch 45/200\n",
      "5/5 [==============================] - 0s 69ms/step - loss: 10.7422 - mse: 8.2226 - val_loss: 9.3269 - val_mse: 7.9488\n",
      "Epoch 46/200\n",
      "5/5 [==============================] - 0s 68ms/step - loss: 11.4852 - mse: 11.8491 - val_loss: 9.7449 - val_mse: 7.9313\n",
      "Epoch 47/200\n",
      "5/5 [==============================] - 0s 68ms/step - loss: 7.4129 - mse: 6.3496 - val_loss: 11.5788 - val_mse: 10.3153\n",
      "Epoch 48/200\n",
      "5/5 [==============================] - 0s 79ms/step - loss: 6.9225 - mse: 5.6747 - val_loss: 10.1177 - val_mse: 10.0746\n",
      "Epoch 49/200\n",
      "5/5 [==============================] - 0s 69ms/step - loss: 6.2150 - mse: 4.2351 - val_loss: 9.6332 - val_mse: 7.8232\n",
      "Epoch 50/200\n",
      "5/5 [==============================] - 0s 68ms/step - loss: 4.7998 - mse: 3.1580 - val_loss: 11.6184 - val_mse: 10.4545\n",
      "Epoch 51/200\n",
      "5/5 [==============================] - 0s 67ms/step - loss: 8.4044 - mse: 7.2969 - val_loss: 11.9604 - val_mse: 8.7558\n",
      "Epoch 52/200\n",
      "5/5 [==============================] - 0s 66ms/step - loss: 6.7833 - mse: 4.6617 - val_loss: 10.5530 - val_mse: 13.4929\n",
      "Epoch 53/200\n",
      "5/5 [==============================] - 0s 66ms/step - loss: 8.0198 - mse: 5.5617 - val_loss: 7.4638 - val_mse: 6.5452\n",
      "Epoch 54/200\n",
      "5/5 [==============================] - 0s 66ms/step - loss: 7.0086 - mse: 6.2352 - val_loss: 13.0635 - val_mse: 11.7144\n",
      "Epoch 55/200\n",
      "5/5 [==============================] - 0s 67ms/step - loss: 6.9633 - mse: 5.4441 - val_loss: 14.6856 - val_mse: 12.3056\n",
      "Epoch 56/200\n",
      "5/5 [==============================] - 0s 66ms/step - loss: 8.1841 - mse: 8.4573 - val_loss: 6.5813 - val_mse: 5.8355\n",
      "Epoch 57/200\n",
      "5/5 [==============================] - 0s 67ms/step - loss: 4.2809 - mse: 3.0572 - val_loss: 13.0114 - val_mse: 11.1735\n",
      "Epoch 58/200\n",
      "5/5 [==============================] - 0s 67ms/step - loss: 7.9588 - mse: 6.3941 - val_loss: 13.5771 - val_mse: 12.9098\n",
      "Epoch 59/200\n",
      "5/5 [==============================] - 0s 66ms/step - loss: 6.0880 - mse: 3.5796 - val_loss: 13.0282 - val_mse: 12.4571\n",
      "Epoch 60/200\n",
      "5/5 [==============================] - 0s 66ms/step - loss: 4.3124 - mse: 2.7389 - val_loss: 10.7239 - val_mse: 7.9719\n",
      "Epoch 61/200\n",
      "5/5 [==============================] - 0s 65ms/step - loss: 5.2591 - mse: 5.5325 - val_loss: 10.0275 - val_mse: 7.4735\n",
      "Epoch 62/200\n",
      "5/5 [==============================] - 0s 67ms/step - loss: 4.5441 - mse: 2.8338 - val_loss: 14.3254 - val_mse: 11.4949\n",
      "Epoch 63/200\n",
      "5/5 [==============================] - 0s 67ms/step - loss: 7.4234 - mse: 5.9777 - val_loss: 13.8050 - val_mse: 9.5162\n",
      "Epoch 64/200\n",
      "5/5 [==============================] - 0s 65ms/step - loss: 6.7684 - mse: 5.6228 - val_loss: 12.5813 - val_mse: 11.1508\n",
      "Epoch 65/200\n",
      "5/5 [==============================] - 0s 67ms/step - loss: 5.2218 - mse: 3.6387 - val_loss: 9.3926 - val_mse: 7.0080\n",
      "Epoch 66/200\n",
      "5/5 [==============================] - 0s 65ms/step - loss: 4.5558 - mse: 2.9478 - val_loss: 10.3694 - val_mse: 9.7448\n",
      "Epoch 67/200\n",
      "5/5 [==============================] - 0s 65ms/step - loss: 6.3696 - mse: 4.5656 - val_loss: 12.4394 - val_mse: 11.1262\n",
      "Epoch 68/200\n",
      "5/5 [==============================] - 0s 68ms/step - loss: 6.4353 - mse: 5.3185 - val_loss: 7.6810 - val_mse: 6.4685\n",
      "Epoch 69/200\n",
      "5/5 [==============================] - 0s 66ms/step - loss: 5.2877 - mse: 5.0561 - val_loss: 8.6177 - val_mse: 7.8147\n",
      "Epoch 70/200\n",
      "5/5 [==============================] - 0s 66ms/step - loss: 4.8757 - mse: 2.5212 - val_loss: 8.2068 - val_mse: 7.9278\n",
      "Epoch 71/200\n",
      "5/5 [==============================] - 0s 66ms/step - loss: 4.1150 - mse: 3.0446 - val_loss: 7.4687 - val_mse: 5.8869\n",
      "Epoch 72/200\n",
      "5/5 [==============================] - 0s 66ms/step - loss: 3.8337 - mse: 2.6262 - val_loss: 9.6340 - val_mse: 6.4908\n",
      "Epoch 73/200\n",
      "5/5 [==============================] - 0s 66ms/step - loss: 7.3820 - mse: 5.6777 - val_loss: 10.0890 - val_mse: 9.8527\n",
      "Epoch 74/200\n",
      "5/5 [==============================] - 0s 66ms/step - loss: 7.9947 - mse: 5.7687 - val_loss: 8.3445 - val_mse: 5.9557\n",
      "Epoch 75/200\n",
      "5/5 [==============================] - 0s 66ms/step - loss: 2.6883 - mse: 2.2227 - val_loss: 8.4896 - val_mse: 7.0217\n",
      "Epoch 76/200\n",
      "5/5 [==============================] - 0s 67ms/step - loss: 4.5608 - mse: 3.3578 - val_loss: 9.2475 - val_mse: 8.0801\n",
      "Epoch 77/200\n",
      "5/5 [==============================] - 0s 66ms/step - loss: 5.4794 - mse: 3.8475 - val_loss: 7.1173 - val_mse: 6.1166\n",
      "Epoch 78/200\n",
      "5/5 [==============================] - 0s 66ms/step - loss: 6.3155 - mse: 5.0501 - val_loss: 8.8630 - val_mse: 6.4369\n",
      "Epoch 79/200\n",
      "5/5 [==============================] - 0s 66ms/step - loss: 5.7996 - mse: 4.2397 - val_loss: 10.0044 - val_mse: 7.0978\n",
      "Epoch 80/200\n",
      "5/5 [==============================] - 0s 67ms/step - loss: 5.5537 - mse: 4.4560 - val_loss: 9.8415 - val_mse: 8.2726\n",
      "Epoch 81/200\n",
      "5/5 [==============================] - 0s 67ms/step - loss: 2.7997 - mse: 3.8592 - val_loss: 9.4434 - val_mse: 6.3137\n",
      "Epoch 82/200\n",
      "5/5 [==============================] - 0s 66ms/step - loss: 5.5503 - mse: 3.7674 - val_loss: 10.2427 - val_mse: 8.2062\n",
      "Epoch 83/200\n",
      "5/5 [==============================] - 0s 67ms/step - loss: 4.8094 - mse: 3.2654 - val_loss: 8.0492 - val_mse: 6.6803\n",
      "Epoch 84/200\n",
      "5/5 [==============================] - 0s 68ms/step - loss: 8.0457 - mse: 6.9463 - val_loss: 12.8519 - val_mse: 11.4621\n",
      "Epoch 85/200\n",
      "5/5 [==============================] - 0s 68ms/step - loss: 4.9403 - mse: 2.9296 - val_loss: 10.7736 - val_mse: 8.7315\n",
      "Epoch 86/200\n",
      "5/5 [==============================] - 0s 67ms/step - loss: 4.6386 - mse: 3.2143 - val_loss: 12.4519 - val_mse: 9.6046\n",
      "Epoch 87/200\n",
      "5/5 [==============================] - 0s 68ms/step - loss: 5.5892 - mse: 3.2587 - val_loss: 9.2723 - val_mse: 10.7575\n",
      "Epoch 88/200\n",
      "5/5 [==============================] - 0s 67ms/step - loss: 2.6588 - mse: 2.3082 - val_loss: 7.2307 - val_mse: 6.1830\n",
      "Epoch 89/200\n",
      "5/5 [==============================] - 0s 68ms/step - loss: 4.8971 - mse: 3.5842 - val_loss: 11.1962 - val_mse: 6.6176\n",
      "Epoch 90/200\n",
      "5/5 [==============================] - 0s 68ms/step - loss: 4.9948 - mse: 2.9642 - val_loss: 8.0850 - val_mse: 6.2289\n",
      "Epoch 91/200\n",
      "5/5 [==============================] - 0s 68ms/step - loss: 5.4822 - mse: 3.8447 - val_loss: 10.2971 - val_mse: 11.4460\n",
      "Epoch 92/200\n",
      "5/5 [==============================] - 0s 68ms/step - loss: 6.3375 - mse: 4.7950 - val_loss: 11.4889 - val_mse: 7.6547\n",
      "Epoch 93/200\n",
      "5/5 [==============================] - 0s 67ms/step - loss: 4.9228 - mse: 3.8088 - val_loss: 8.3018 - val_mse: 6.6413\n",
      "Epoch 94/200\n",
      "5/5 [==============================] - 0s 67ms/step - loss: 5.8642 - mse: 3.8507 - val_loss: 9.7123 - val_mse: 8.3162\n",
      "Epoch 95/200\n",
      "5/5 [==============================] - 0s 69ms/step - loss: 5.8920 - mse: 4.3720 - val_loss: 12.7623 - val_mse: 9.0374\n",
      "Epoch 96/200\n",
      "5/5 [==============================] - 0s 68ms/step - loss: 8.7390 - mse: 7.2960 - val_loss: 16.9969 - val_mse: 13.6757\n",
      "Epoch 97/200\n",
      "5/5 [==============================] - 0s 67ms/step - loss: 10.2539 - mse: 7.9498 - val_loss: 7.8915 - val_mse: 7.6682\n",
      "Epoch 98/200\n",
      "5/5 [==============================] - 0s 66ms/step - loss: 5.0417 - mse: 3.5947 - val_loss: 15.9257 - val_mse: 13.7979\n",
      "Epoch 99/200\n",
      "5/5 [==============================] - 0s 67ms/step - loss: 7.2993 - mse: 5.5022 - val_loss: 11.7273 - val_mse: 8.8184\n",
      "Epoch 100/200\n",
      "5/5 [==============================] - 0s 65ms/step - loss: 5.7551 - mse: 4.9523 - val_loss: 12.4216 - val_mse: 10.6776\n",
      "Epoch 101/200\n",
      "5/5 [==============================] - 0s 66ms/step - loss: 7.3105 - mse: 4.9184 - val_loss: 9.8717 - val_mse: 8.1276\n",
      "Epoch 102/200\n",
      "5/5 [==============================] - 0s 67ms/step - loss: 3.8689 - mse: 2.5232 - val_loss: 10.0676 - val_mse: 8.9106\n",
      "Epoch 103/200\n",
      "5/5 [==============================] - 0s 67ms/step - loss: 6.6187 - mse: 5.6801 - val_loss: 11.4722 - val_mse: 8.0934\n",
      "Epoch 104/200\n",
      "5/5 [==============================] - 0s 67ms/step - loss: 4.4200 - mse: 2.6466 - val_loss: 9.7363 - val_mse: 7.7908\n",
      "Epoch 105/200\n",
      "5/5 [==============================] - 0s 67ms/step - loss: 5.1331 - mse: 3.0661 - val_loss: 8.5946 - val_mse: 7.1246\n"
     ]
    }
   ],
   "source": [
    "diabetes_model, history = build_diabetes_model(diabetes_train_ds, diabetes_val_ds,  claim_feature_layer,  epochs=200)"
   ]
  },
  {
   "cell_type": "code",
   "execution_count": 70,
   "metadata": {},
   "outputs": [
    {
     "name": "stdout",
     "output_type": "stream",
     "text": [
      "Model: \"sequential\"\n",
      "_________________________________________________________________\n",
      "Layer (type)                 Output Shape              Param #   \n",
      "=================================================================\n",
      "dense_features_2 (DenseFeatu multiple                  2710      \n",
      "_________________________________________________________________\n",
      "dense (Dense)                multiple                  35250     \n",
      "_________________________________________________________________\n",
      "dense_1 (Dense)              multiple                  11325     \n",
      "_________________________________________________________________\n",
      "dense_variational (DenseVari multiple                  456       \n",
      "_________________________________________________________________\n",
      "distribution_lambda (Distrib multiple                  0         \n",
      "=================================================================\n",
      "Total params: 49,741\n",
      "Trainable params: 49,741\n",
      "Non-trainable params: 0\n",
      "_________________________________________________________________\n"
     ]
    }
   ],
   "source": [
    "diabetes_model.summary()"
   ]
  },
  {
   "cell_type": "code",
   "execution_count": 71,
   "metadata": {},
   "outputs": [
    {
     "name": "stdout",
     "output_type": "stream",
     "text": [
      "2/2 - 0s - loss: 8.7286 - mse: 6.8161\n"
     ]
    }
   ],
   "source": [
    "loss, mse = diabetes_model.evaluate(diabetes_val_ds, verbose=2)"
   ]
  },
  {
   "cell_type": "code",
   "execution_count": 72,
   "metadata": {},
   "outputs": [
    {
     "data": {
      "image/png": "[encoded data removed]",
      "text/plain": [
       "<Figure size 432x288 with 1 Axes>"
      ]
     },
     "metadata": {
      "needs_background": "light"
     },
     "output_type": "display_data"
    }
   ],
   "source": [
    "def plot_loss(history):\n",
    "    plt.plot(history.history['loss'], label='loss')\n",
    "    plt.plot(history.history['val_loss'], label='val_loss')\n",
    "    plt.xlabel('Epoch')\n",
    "    plt.ylabel('Error')\n",
    "    plt.legend()\n",
    "    plt.grid(True)\n",
    "    \n",
    "plot_loss(history)"
   ]
  },
  {
   "cell_type": "markdown",
   "metadata": {},
   "source": [
    "## Show Model Uncertainty Range with TF Probability"
   ]
  },
  {
   "cell_type": "markdown",
   "metadata": {},
   "source": [
    "**Question 9**: Now that we have trained a model with TF Probability layers, we can extract the mean and standard deviation for each prediction. Please fill in the answer for the m and s variables below. The code for getting the predictions is provided for you below."
   ]
  },
  {
   "cell_type": "code",
   "execution_count": 73,
   "metadata": {},
   "outputs": [],
   "source": [
    "feature_list = student_categorical_col_list + student_numerical_col_list\n",
    "diabetes_x_tst = dict(d_test[feature_list])\n",
    "diabetes_yhat = diabetes_model(diabetes_x_tst)\n",
    "preds = diabetes_model.predict(diabetes_test_ds)"
   ]
  },
  {
   "cell_type": "code",
   "execution_count": 74,
   "metadata": {},
   "outputs": [],
   "source": [
    "%autoreload 2\n",
    "from student_utils import get_mean_std_from_preds\n",
    "m, s = get_mean_std_from_preds(diabetes_yhat)"
   ]
  },
  {
   "cell_type": "markdown",
   "metadata": {},
   "source": [
    "## Show Prediction Output "
   ]
  },
  {
   "cell_type": "code",
   "execution_count": 75,
   "metadata": {},
   "outputs": [],
   "source": [
    "prob_outputs = {\n",
    "    \"pred\": preds.flatten(),\n",
    "    \"actual_value\": d_test['time_in_hospital'].values,\n",
    "    \"pred_mean\": m.numpy().flatten(),\n",
    "    \"pred_std\": s.numpy().flatten()\n",
    "}\n",
    "prob_output_df = pd.DataFrame(prob_outputs)"
   ]
  },
  {
   "cell_type": "code",
   "execution_count": 76,
   "metadata": {},
   "outputs": [
    {
     "data": {
      "text/html": [
       "<div>\n",
       "<style scoped>\n",
       "    .dataframe tbody tr th:only-of-type {\n",
       "        vertical-align: middle;\n",
       "    }\n",
       "\n",
       "    .dataframe tbody tr th {\n",
       "        vertical-align: top;\n",
       "    }\n",
       "\n",
       "    .dataframe thead th {\n",
       "        text-align: right;\n",
       "    }\n",
       "</style>\n",
       "<table border=\"1\" class=\"dataframe\">\n",
       "  <thead>\n",
       "    <tr style=\"text-align: right;\">\n",
       "      <th></th>\n",
       "      <th>pred</th>\n",
       "      <th>actual_value</th>\n",
       "      <th>pred_mean</th>\n",
       "      <th>pred_std</th>\n",
       "    </tr>\n",
       "  </thead>\n",
       "  <tbody>\n",
       "    <tr>\n",
       "      <th>0</th>\n",
       "      <td>1.294044</td>\n",
       "      <td>2.0</td>\n",
       "      <td>3.300519</td>\n",
       "      <td>0.683393</td>\n",
       "    </tr>\n",
       "    <tr>\n",
       "      <th>1</th>\n",
       "      <td>2.872603</td>\n",
       "      <td>6.0</td>\n",
       "      <td>3.523642</td>\n",
       "      <td>0.682723</td>\n",
       "    </tr>\n",
       "    <tr>\n",
       "      <th>2</th>\n",
       "      <td>3.365496</td>\n",
       "      <td>1.0</td>\n",
       "      <td>2.569900</td>\n",
       "      <td>0.685450</td>\n",
       "    </tr>\n",
       "    <tr>\n",
       "      <th>3</th>\n",
       "      <td>1.592914</td>\n",
       "      <td>6.0</td>\n",
       "      <td>4.341516</td>\n",
       "      <td>0.679950</td>\n",
       "    </tr>\n",
       "    <tr>\n",
       "      <th>4</th>\n",
       "      <td>4.009753</td>\n",
       "      <td>5.0</td>\n",
       "      <td>10.582529</td>\n",
       "      <td>0.662444</td>\n",
       "    </tr>\n",
       "    <tr>\n",
       "      <th>...</th>\n",
       "      <td>...</td>\n",
       "      <td>...</td>\n",
       "      <td>...</td>\n",
       "      <td>...</td>\n",
       "    </tr>\n",
       "    <tr>\n",
       "      <th>180</th>\n",
       "      <td>2.547861</td>\n",
       "      <td>4.0</td>\n",
       "      <td>2.717684</td>\n",
       "      <td>0.685117</td>\n",
       "    </tr>\n",
       "    <tr>\n",
       "      <th>181</th>\n",
       "      <td>3.230429</td>\n",
       "      <td>2.0</td>\n",
       "      <td>3.311471</td>\n",
       "      <td>0.683337</td>\n",
       "    </tr>\n",
       "    <tr>\n",
       "      <th>182</th>\n",
       "      <td>2.406777</td>\n",
       "      <td>8.0</td>\n",
       "      <td>4.985921</td>\n",
       "      <td>0.678984</td>\n",
       "    </tr>\n",
       "    <tr>\n",
       "      <th>183</th>\n",
       "      <td>5.995303</td>\n",
       "      <td>7.0</td>\n",
       "      <td>11.659613</td>\n",
       "      <td>0.656623</td>\n",
       "    </tr>\n",
       "    <tr>\n",
       "      <th>184</th>\n",
       "      <td>2.097971</td>\n",
       "      <td>11.0</td>\n",
       "      <td>5.166830</td>\n",
       "      <td>0.678380</td>\n",
       "    </tr>\n",
       "  </tbody>\n",
       "</table>\n",
       "<p>185 rows × 4 columns</p>\n",
       "</div>"
      ],
      "text/plain": [
       "         pred  actual_value  pred_mean  pred_std\n",
       "0    1.294044           2.0   3.300519  0.683393\n",
       "1    2.872603           6.0   3.523642  0.682723\n",
       "2    3.365496           1.0   2.569900  0.685450\n",
       "3    1.592914           6.0   4.341516  0.679950\n",
       "4    4.009753           5.0  10.582529  0.662444\n",
       "..        ...           ...        ...       ...\n",
       "180  2.547861           4.0   2.717684  0.685117\n",
       "181  3.230429           2.0   3.311471  0.683337\n",
       "182  2.406777           8.0   4.985921  0.678984\n",
       "183  5.995303           7.0  11.659613  0.656623\n",
       "184  2.097971          11.0   5.166830  0.678380\n",
       "\n",
       "[185 rows x 4 columns]"
      ]
     },
     "execution_count": 76,
     "metadata": {},
     "output_type": "execute_result"
    }
   ],
   "source": [
    "prob_output_df"
   ]
  },
  {
   "cell_type": "markdown",
   "metadata": {},
   "source": [
    "## Convert Regression Output to Classification Output for Patient Selection"
   ]
  },
  {
   "cell_type": "markdown",
   "metadata": {},
   "source": [
    "**Question 10**: Given the output predictions, convert it to a binary label for whether the patient meets the time criteria or does not (HINT: use the mean prediction numpy array). The expected output is a numpy array with a 1 or 0 based off if the prediction meets or doesnt meet the criteria."
   ]
  },
  {
   "cell_type": "code",
   "execution_count": 119,
   "metadata": {},
   "outputs": [],
   "source": [
    "from student_utils import get_student_binary_prediction\n",
    "student_binary_prediction = get_student_binary_prediction(prob_output_df, 'pred_mean', thr=5)"
   ]
  },
  {
   "cell_type": "markdown",
   "metadata": {},
   "source": [
    "### Add Binary Prediction to Test Dataframe"
   ]
  },
  {
   "cell_type": "markdown",
   "metadata": {},
   "source": [
    "Using the student_binary_prediction output that is a numpy array with binary labels, we can use this to add to a dataframe to better visualize and also to prepare the data for the Aequitas toolkit. The Aequitas toolkit requires that the predictions be mapped to a binary label for the predictions (called 'score' field) and the actual value (called 'label_value')."
   ]
  },
  {
   "cell_type": "code",
   "execution_count": 120,
   "metadata": {},
   "outputs": [],
   "source": [
    "def add_pred_to_test(test_df, pred_np, demo_col_list):\n",
    "    for c in demo_col_list:\n",
    "        test_df[c] = test_df[c].astype(str)\n",
    "    test_df['score'] = pred_np\n",
    "    test_df['label_value'] = test_df['time_in_hospital'].apply(lambda x: 1 if x >=5 else 0)\n",
    "    return test_df\n",
    "\n",
    "pred_test_df = add_pred_to_test(d_test, student_binary_prediction, ['race', 'gender'])"
   ]
  },
  {
   "cell_type": "code",
   "execution_count": 121,
   "metadata": {},
   "outputs": [
    {
     "data": {
      "text/html": [
       "<div>\n",
       "<style scoped>\n",
       "    .dataframe tbody tr th:only-of-type {\n",
       "        vertical-align: middle;\n",
       "    }\n",
       "\n",
       "    .dataframe tbody tr th {\n",
       "        vertical-align: top;\n",
       "    }\n",
       "\n",
       "    .dataframe thead th {\n",
       "        text-align: right;\n",
       "    }\n",
       "</style>\n",
       "<table border=\"1\" class=\"dataframe\">\n",
       "  <thead>\n",
       "    <tr style=\"text-align: right;\">\n",
       "      <th></th>\n",
       "      <th>patient_nbr</th>\n",
       "      <th>gender</th>\n",
       "      <th>race</th>\n",
       "      <th>time_in_hospital</th>\n",
       "      <th>score</th>\n",
       "      <th>label_value</th>\n",
       "    </tr>\n",
       "  </thead>\n",
       "  <tbody>\n",
       "    <tr>\n",
       "      <th>0</th>\n",
       "      <td>80690850</td>\n",
       "      <td>Female</td>\n",
       "      <td>Caucasian</td>\n",
       "      <td>2.0</td>\n",
       "      <td>0</td>\n",
       "      <td>0</td>\n",
       "    </tr>\n",
       "    <tr>\n",
       "      <th>1</th>\n",
       "      <td>102998124</td>\n",
       "      <td>Male</td>\n",
       "      <td>Caucasian</td>\n",
       "      <td>6.0</td>\n",
       "      <td>0</td>\n",
       "      <td>1</td>\n",
       "    </tr>\n",
       "    <tr>\n",
       "      <th>2</th>\n",
       "      <td>60242445</td>\n",
       "      <td>Male</td>\n",
       "      <td>Caucasian</td>\n",
       "      <td>1.0</td>\n",
       "      <td>0</td>\n",
       "      <td>0</td>\n",
       "    </tr>\n",
       "    <tr>\n",
       "      <th>3</th>\n",
       "      <td>83842281</td>\n",
       "      <td>Male</td>\n",
       "      <td>Caucasian</td>\n",
       "      <td>6.0</td>\n",
       "      <td>0</td>\n",
       "      <td>1</td>\n",
       "    </tr>\n",
       "    <tr>\n",
       "      <th>4</th>\n",
       "      <td>87737328</td>\n",
       "      <td>Male</td>\n",
       "      <td>Caucasian</td>\n",
       "      <td>5.0</td>\n",
       "      <td>1</td>\n",
       "      <td>1</td>\n",
       "    </tr>\n",
       "  </tbody>\n",
       "</table>\n",
       "</div>"
      ],
      "text/plain": [
       "   patient_nbr  gender       race  time_in_hospital  score  label_value\n",
       "0     80690850  Female  Caucasian               2.0      0            0\n",
       "1    102998124    Male  Caucasian               6.0      0            1\n",
       "2     60242445    Male  Caucasian               1.0      0            0\n",
       "3     83842281    Male  Caucasian               6.0      0            1\n",
       "4     87737328    Male  Caucasian               5.0      1            1"
      ]
     },
     "execution_count": 121,
     "metadata": {},
     "output_type": "execute_result"
    }
   ],
   "source": [
    "pred_test_df[['patient_nbr', 'gender', 'race', 'time_in_hospital', 'score', 'label_value']].head()"
   ]
  },
  {
   "cell_type": "code",
   "execution_count": 122,
   "metadata": {},
   "outputs": [
    {
     "data": {
      "text/plain": [
       "0    109\n",
       "1     76\n",
       "Name: score, dtype: int64"
      ]
     },
     "execution_count": 122,
     "metadata": {},
     "output_type": "execute_result"
    }
   ],
   "source": [
    "pred_test_df['score'].value_counts()"
   ]
  },
  {
   "cell_type": "markdown",
   "metadata": {},
   "source": [
    "## Model Evaluation Metrics "
   ]
  },
  {
   "cell_type": "markdown",
   "metadata": {},
   "source": [
    "**Question 11**: Now it is time to use the newly created binary labels in the 'pred_test_df' dataframe to evaluate the model with some common classification metrics. Please create a report summary of the performance of the model and be sure to give the ROC AUC, F1 score(weighted), class precision and recall scores. "
   ]
  },
  {
   "cell_type": "markdown",
   "metadata": {},
   "source": [
    "For the report please be sure to include the following three parts:\n",
    "- With a non-technical audience in mind, explain the precision-recall tradeoff in regard to how you have optimized your model.\n",
    "\n",
    "**In a binary classification system, it is usually not possible to obtain a 100% success rate, there are always classification errors (false positives - FP or false negatives - FN). The classification errors are complementary, increasing one usually reduces the other, so depending on the problem, we are interested in maximizing one of them. For this, there are the Precision (PF) and Recall (FN) metrics. In our project, we want to predict stays of more than 5 days in the hospital, so we are interested in obtaining a high Recall score, that is, minimizing the FP. To do this, we manually adjust the classification threshold to obtain a balance rate between Precision and Recall.**\n",
    "\n",
    "- What are some areas of improvement for future iterations?\n",
    "* **Further EDA and Data preprocessing.**\n",
    "* **Try to change the model architecture, optimizers, metrics, regularization, ...**\n",
    "* **Tune threshold**"
   ]
  },
  {
   "cell_type": "code",
   "execution_count": 123,
   "metadata": {},
   "outputs": [],
   "source": [
    "from sklearn.metrics import accuracy_score, f1_score, classification_report, roc_auc_score, confusion_matrix, roc_curve"
   ]
  },
  {
   "cell_type": "code",
   "execution_count": 124,
   "metadata": {},
   "outputs": [
    {
     "data": {
      "text/plain": [
       "0.6432432432432432"
      ]
     },
     "execution_count": 124,
     "metadata": {},
     "output_type": "execute_result"
    }
   ],
   "source": [
    "# AUC, F1, precision and recall\n",
    "# Summary\n",
    "y_true = pred_test_df['label_value'].values \n",
    "y_pred = pred_test_df['score'].values\n",
    "accuracy_score(y_true, y_pred)"
   ]
  },
  {
   "cell_type": "code",
   "execution_count": 125,
   "metadata": {},
   "outputs": [
    {
     "name": "stdout",
     "output_type": "stream",
     "text": [
      "              precision    recall  f1-score   support\n",
      "\n",
      "           0       0.71      0.69      0.70       111\n",
      "           1       0.55      0.57      0.56        74\n",
      "\n",
      "    accuracy                           0.64       185\n",
      "   macro avg       0.63      0.63      0.63       185\n",
      "weighted avg       0.64      0.64      0.64       185\n",
      "\n"
     ]
    }
   ],
   "source": [
    "print(classification_report(y_true, y_pred))"
   ]
  },
  {
   "cell_type": "code",
   "execution_count": 126,
   "metadata": {},
   "outputs": [
    {
     "data": {
      "text/plain": [
       "0.6306306306306306"
      ]
     },
     "execution_count": 126,
     "metadata": {},
     "output_type": "execute_result"
    }
   ],
   "source": [
    "roc_auc_score(y_true, y_pred)"
   ]
  },
  {
   "cell_type": "code",
   "execution_count": 127,
   "metadata": {},
   "outputs": [
    {
     "data": {
      "image/png": "[encoded data removed]",
      "text/plain": [
       "<Figure size 432x288 with 1 Axes>"
      ]
     },
     "metadata": {
      "needs_background": "light"
     },
     "output_type": "display_data"
    }
   ],
   "source": [
    "fpr, tpr, thresholds = roc_curve(y_true, y_pred)\n",
    "plt.plot(fpr, tpr)\n",
    "plt.title(\"ROC Curve\")\n",
    "plt.xlabel(\"False Positive Rate\")\n",
    "plt.ylabel(\"True Positive Rate\")\n",
    "plt.show()"
   ]
  },
  {
   "cell_type": "code",
   "execution_count": 128,
   "metadata": {},
   "outputs": [
    {
     "data": {
      "text/plain": [
       "<matplotlib.axes._subplots.AxesSubplot at 0x7f079dc2af50>"
      ]
     },
     "execution_count": 128,
     "metadata": {},
     "output_type": "execute_result"
    },
    {
     "data": {
      "image/png": "[encoded data removed]",
      "text/plain": [
       "<Figure size 432x288 with 2 Axes>"
      ]
     },
     "metadata": {
      "needs_background": "light"
     },
     "output_type": "display_data"
    }
   ],
   "source": [
    "cf_matrix = confusion_matrix(y_true, y_pred)\n",
    "sns.heatmap(cf_matrix, annot=True)"
   ]
  },
  {
   "cell_type": "markdown",
   "metadata": {},
   "source": [
    "**The precision-recall tradeoff**\n",
    "\n",
    "**In a binary classification system, it is usually not possible to obtain a 100% success rate, there are always classification errors (false positives - FP or false negatives - FN). The classification errors are complementary, increasing one usually reduces the other, so depending on the problem, we are interested in maximizing one of them. For this, there are the Precision (PF) and Recall (FN) metrics. In our project, we want to predict stays of more than 5 days in the hospital, so we are interested in obtaining a high Recall score, that is, minimizing the FP. To do this, we manually adjust the classification threshold to obtain a balance rate between Precision and Recall.**"
   ]
  },
  {
   "cell_type": "code",
   "execution_count": null,
   "metadata": {},
   "outputs": [],
   "source": []
  },
  {
   "cell_type": "markdown",
   "metadata": {},
   "source": [
    "# 7. Evaluating Potential Model Biases with Aequitas Toolkit"
   ]
  },
  {
   "cell_type": "markdown",
   "metadata": {},
   "source": [
    "## Prepare Data For Aequitas Bias Toolkit "
   ]
  },
  {
   "cell_type": "markdown",
   "metadata": {},
   "source": [
    "Using the gender and race fields, we will prepare the data for the Aequitas Toolkit."
   ]
  },
  {
   "cell_type": "code",
   "execution_count": 129,
   "metadata": {},
   "outputs": [
    {
     "name": "stderr",
     "output_type": "stream",
     "text": [
      "/opt/conda/lib/python3.7/site-packages/aequitas/group.py:143: SettingWithCopyWarning: \n",
      "A value is trying to be set on a copy of a slice from a DataFrame.\n",
      "Try using .loc[row_indexer,col_indexer] = value instead\n",
      "\n",
      "See the caveats in the documentation: https://pandas.pydata.org/pandas-docs/stable/user_guide/indexing.html#returning-a-view-versus-a-copy\n",
      "  df['score'] = df['score'].astype(float)\n",
      "/opt/conda/lib/python3.7/site-packages/aequitas/group.py:30: FutureWarning: The pandas.np module is deprecated and will be removed from pandas in a future version. Import numpy directly instead\n",
      "  divide = lambda x, y: x / y if y != 0 else pd.np.nan\n"
     ]
    },
    {
     "name": "stdout",
     "output_type": "stream",
     "text": [
      "model_id, score_thresholds 1 {'rank_abs': [76]}\n"
     ]
    }
   ],
   "source": [
    "# Aequitas\n",
    "from aequitas.preprocessing import preprocess_input_df\n",
    "from aequitas.group import Group\n",
    "from aequitas.plotting import Plot\n",
    "from aequitas.bias import Bias\n",
    "from aequitas.fairness import Fairness\n",
    "\n",
    "ae_subset_df = pred_test_df[['race', 'gender', 'score', 'label_value']]\n",
    "ae_df, _ = preprocess_input_df(ae_subset_df)\n",
    "g = Group()\n",
    "xtab, _ = g.get_crosstabs(ae_df)\n",
    "absolute_metrics = g.list_absolute_metrics(xtab)\n",
    "clean_xtab = xtab.fillna(-1)\n",
    "aqp = Plot()\n",
    "b = Bias()\n"
   ]
  },
  {
   "cell_type": "markdown",
   "metadata": {},
   "source": [
    "## Reference Group Selection"
   ]
  },
  {
   "cell_type": "markdown",
   "metadata": {},
   "source": [
    "Below we have chosen the reference group for our analysis but feel free to select another one."
   ]
  },
  {
   "cell_type": "code",
   "execution_count": 130,
   "metadata": {},
   "outputs": [
    {
     "name": "stdout",
     "output_type": "stream",
     "text": [
      "get_disparity_predefined_group()\n"
     ]
    },
    {
     "name": "stderr",
     "output_type": "stream",
     "text": [
      "/opt/conda/lib/python3.7/site-packages/aequitas/bias.py:368: FutureWarning: The pandas.np module is deprecated and will be removed from pandas in a future version. Import numpy directly instead\n",
      "  df = df.replace(pd.np.inf, fill_divbyzero)\n",
      "/opt/conda/lib/python3.7/site-packages/aequitas/fairness.py:32: FutureWarning: The pandas.np module is deprecated and will be removed from pandas in a future version. Import numpy directly instead\n",
      "  self.fair_eval = lambda tau: lambda x: pd.np.nan if pd.np.isnan(x) else \\\n",
      "/opt/conda/lib/python3.7/site-packages/aequitas/fairness.py:45: FutureWarning: The pandas.np module is deprecated and will be removed from pandas in a future version. Import numpy directly instead\n",
      "  self.high_level_pair_eval = lambda col1, col2: lambda x: pd.np.nan if (pd.np.isnan(x[col1]) and pd.np.isnan(x[col2])) \\\n"
     ]
    }
   ],
   "source": [
    "# test reference group with Caucasian Male\n",
    "bdf = b.get_disparity_predefined_groups(clean_xtab, \n",
    "                    original_df=ae_df, \n",
    "                    ref_groups_dict={'race':'Caucasian', 'gender':'Male'\n",
    "                                     }, \n",
    "                    alpha=0.05, \n",
    "                    check_significance=False)\n",
    "\n",
    "\n",
    "f = Fairness()\n",
    "fdf = f.get_group_value_fairness(bdf)"
   ]
  },
  {
   "cell_type": "markdown",
   "metadata": {},
   "source": [
    "## Race and Gender Bias Analysis for Patient Selection"
   ]
  },
  {
   "cell_type": "markdown",
   "metadata": {},
   "source": [
    "**Question 12**: For the gender and race fields, please plot two metrics that are important for patient selection below and state whether there is a significant bias in your model across any of the groups along with justification for your statement."
   ]
  },
  {
   "cell_type": "code",
   "execution_count": 135,
   "metadata": {},
   "outputs": [
    {
     "data": {
      "image/png": "[encoded data removed]",
      "text/plain": [
       "<Figure size 1800x432 with 2 Axes>"
      ]
     },
     "metadata": {
      "needs_background": "light"
     },
     "output_type": "display_data"
    }
   ],
   "source": [
    "# Plot two metrics\n",
    "\n",
    "p = aqp.plot_group_metric_all(xtab, metrics=['fpr', 'ppr'], ncols=2)\n",
    "\n",
    "# Is there significant bias in your model for either race or gender?"
   ]
  },
  {
   "cell_type": "markdown",
   "metadata": {},
   "source": [
    "**We can see that the largest race group, Caucasian, are predicted more often than any other race gorup (predicted positive rate PPR of 0.97), although number of samples in rest of groups could not be significant.\n",
    "About gender, we can see any significant bias in our meodel.**"
   ]
  },
  {
   "cell_type": "markdown",
   "metadata": {},
   "source": [
    "## Fairness Analysis Example - Relative to a Reference Group "
   ]
  },
  {
   "cell_type": "markdown",
   "metadata": {},
   "source": [
    "**Question 13**: Earlier we defined our reference group and then calculated disparity metrics relative to this grouping. Please provide a visualization of the fairness evaluation for this reference group and analyze whether there is disparity."
   ]
  },
  {
   "cell_type": "code",
   "execution_count": 138,
   "metadata": {},
   "outputs": [
    {
     "data": {
      "image/png": "[encoded data removed]",
      "text/plain": [
       "<Figure size 360x288 with 2 Axes>"
      ]
     },
     "metadata": {
      "needs_background": "light"
     },
     "output_type": "display_data"
    }
   ],
   "source": [
    "# Reference group fairness plot\n",
    "aqp.plot_disparity(bdf, group_metric='fpr_disparity', attribute_name='race')"
   ]
  },
  {
   "cell_type": "markdown",
   "metadata": {},
   "source": [
    "**There is no evidence that any race could be more likely to be falsely identified with respect to reference group (caucasian), although AfricanAmericans tend to be more likely to be correctly identified.**\n"
   ]
  },
  {
   "cell_type": "code",
   "execution_count": 133,
   "metadata": {},
   "outputs": [
    {
     "data": {
      "image/png": "[encoded data removed]",
      "text/plain": [
       "<Figure size 360x288 with 2 Axes>"
      ]
     },
     "metadata": {
      "needs_background": "light"
     },
     "output_type": "display_data"
    }
   ],
   "source": [
    "aqp.plot_disparity(bdf, group_metric='fpr_disparity', attribute_name='gender')"
   ]
  },
  {
   "cell_type": "markdown",
   "metadata": {},
   "source": [
    "**Female gender samples are slightly more likely to be falsely identified (just a x1.32 times) with respect to reference group (males)**"
   ]
  }
 ],
 "metadata": {
  "kernelspec": {
   "display_name": "Python 3",
   "language": "python",
   "name": "python3"
  },
  "language_info": {
   "codemirror_mode": {
    "name": "ipython",
    "version": 3
   },
   "file_extension": ".py",
   "mimetype": "text/x-python",
   "name": "python",
   "nbconvert_exporter": "python",
   "pygments_lexer": "ipython3",
   "version": "3.7.6"
  }
 },
 "nbformat": 4,
 "nbformat_minor": 2
}
