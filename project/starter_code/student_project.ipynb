{
 "cells": [
  {
   "cell_type": "markdown",
   "metadata": {},
   "source": [
    "# Overview"
   ]
  },
  {
   "cell_type": "markdown",
   "metadata": {},
   "source": [
    "1. Project Instructions & Prerequisites\n",
    "2. Learning Objectives\n",
    "3. Data Preparation\n",
    "4. Create Categorical Features with TF Feature Columns\n",
    "5. Create Continuous/Numerical Features with TF Feature Columns\n",
    "6. Build Deep Learning Regression Model with Sequential API and TF Probability Layers\n",
    "7. Evaluating Potential Model Biases with Aequitas Toolkit\n"
   ]
  },
  {
   "cell_type": "markdown",
   "metadata": {},
   "source": [
    "#  1. Project Instructions & Prerequisites"
   ]
  },
  {
   "cell_type": "markdown",
   "metadata": {},
   "source": [
    "## Project Instructions"
   ]
  },
  {
   "cell_type": "markdown",
   "metadata": {},
   "source": [
    "**Context**: EHR data is becoming a key source of real-world evidence (RWE) for the pharmaceutical industry and regulators to [make decisions on clinical trials](https://www.fda.gov/news-events/speeches-fda-officials/breaking-down-barriers-between-clinical-trials-and-clinical-care-incorporating-real-world-evidence). You are a data scientist for an exciting unicorn healthcare startup that has created a groundbreaking diabetes drug that is ready for clinical trial testing. It is a very unique and sensitive drug that requires administering the drug over at least 5-7 days of time in the hospital with frequent monitoring/testing and patient medication adherence training with a mobile application. You have been provided a patient dataset from a client partner and are tasked with building a predictive model that can identify which type of patients the company should focus their efforts testing this drug on. Target patients are people that are likely to be in the hospital for this duration of time and will not incur significant additional costs for administering this drug to the patient and monitoring.  \n",
    "\n",
    "In order to achieve your goal you must build a regression model that can predict the estimated hospitalization time for a patient and use this to select/filter patients for your study.\n"
   ]
  },
  {
   "cell_type": "markdown",
   "metadata": {},
   "source": [
    "**Expected Hospitalization Time Regression Model:** Utilizing a synthetic dataset(denormalized at the line level augmentation) built off of the UCI Diabetes readmission dataset, students will build a regression model that predicts the expected days of hospitalization time and then convert this to a binary prediction of whether to include or exclude that patient from the clinical trial.\n",
    "\n",
    "This project will demonstrate the importance of building the right data representation at the encounter level, with appropriate filtering and preprocessing/feature engineering of key medical code sets. This project will also require students to analyze and interpret their model for biases across key demographic groups. \n",
    "\n",
    "Please see the project rubric online for more details on the areas your project will be evaluated."
   ]
  },
  {
   "cell_type": "markdown",
   "metadata": {},
   "source": [
    "### Dataset"
   ]
  },
  {
   "cell_type": "markdown",
   "metadata": {},
   "source": [
    "Due to healthcare PHI regulations (HIPAA, HITECH), there are limited number of publicly available datasets and some datasets require training and approval. So, for the purpose of this exercise, we are using a dataset from UC Irvine(https://archive.ics.uci.edu/ml/datasets/Diabetes+130-US+hospitals+for+years+1999-2008) that has been modified for this course. Please note that it is limited in its representation of some key features such as diagnosis codes which are usually an unordered list in 835s/837s (the HL7 standard interchange formats used for claims and remits)."
   ]
  },
  {
   "cell_type": "markdown",
   "metadata": {},
   "source": [
    "**Data Schema**\n",
    "The dataset reference information can be https://github.com/udacity/nd320-c1-emr-data-starter/blob/master/project/data_schema_references/\n",
    ". There are two CSVs that provide more details on the fields and some of the mapped values."
   ]
  },
  {
   "cell_type": "markdown",
   "metadata": {},
   "source": [
    "## Project Submission "
   ]
  },
  {
   "cell_type": "markdown",
   "metadata": {},
   "source": [
    "When submitting this project, make sure to run all the cells before saving the notebook. Save the notebook file as \"student_project_submission.ipynb\" and save another copy as an HTML file by clicking \"File\" -> \"Download as..\"->\"html\". Include the \"utils.py\" and \"student_utils.py\" files in your submission. The student_utils.py should be where you put most of your code that you write and the summary and text explanations should be written inline in the notebook. Once you download these files, compress them into one zip file for submission."
   ]
  },
  {
   "cell_type": "markdown",
   "metadata": {},
   "source": [
    "## Prerequisites "
   ]
  },
  {
   "cell_type": "markdown",
   "metadata": {},
   "source": [
    "- Intermediate level knowledge of Python\n",
    "- Basic knowledge of probability and statistics\n",
    "- Basic knowledge of machine learning concepts\n",
    "- Installation of Tensorflow 2.0 and other dependencies(conda environment.yml or virtualenv requirements.txt file provided)"
   ]
  },
  {
   "cell_type": "markdown",
   "metadata": {},
   "source": [
    "## Environment Setup"
   ]
  },
  {
   "cell_type": "markdown",
   "metadata": {},
   "source": [
    "For step by step instructions on creating your environment, please go to https://github.com/udacity/nd320-c1-emr-data-starter/blob/master/project/README.md."
   ]
  },
  {
   "cell_type": "markdown",
   "metadata": {},
   "source": [
    "# 2.  Learning Objectives"
   ]
  },
  {
   "cell_type": "markdown",
   "metadata": {},
   "source": [
    "By the end of the project, you will be able to \n",
    "   - Use the Tensorflow Dataset API to scalably extract, transform, and load datasets and build datasets aggregated at the line, encounter, and patient data levels(longitudinal)\n",
    "   - Analyze EHR datasets to check for common issues (data leakage, statistical properties, missing values, high cardinality) by performing exploratory data analysis.\n",
    "   - Create categorical features from Key Industry Code Sets (ICD, CPT, NDC) and reduce dimensionality for high cardinality features by using embeddings \n",
    "   - Create derived features(bucketing, cross-features, embeddings) utilizing Tensorflow feature columns on both continuous and categorical input features\n",
    "   - SWBAT use the Tensorflow Probability library to train a model that provides uncertainty range predictions that allow for risk adjustment/prioritization and triaging of predictions\n",
    "   - Analyze and determine biases for a model for key demographic groups by evaluating performance metrics across groups by using the Aequitas framework \n"
   ]
  },
  {
   "cell_type": "markdown",
   "metadata": {},
   "source": [
    "# 3. Data Preparation"
   ]
  },
  {
   "cell_type": "code",
   "execution_count": 1,
   "metadata": {},
   "outputs": [],
   "source": [
    "# from __future__ import absolute_import, division, print_function, unicode_literals\n",
    "import os\n",
    "import numpy as np\n",
    "import tensorflow as tf\n",
    "from tensorflow.keras import layers\n",
    "import tensorflow_probability as tfp\n",
    "import matplotlib.pyplot as plt\n",
    "import pandas as pd\n",
    "import aequitas as ae\n",
    "\n",
    "import seaborn as sns\n",
    "import matplotlib.pyplot as plt\n",
    "\n",
    "# Put all of the helper functions in utils\n",
    "from utils import build_vocab_files, show_group_stats_viz, aggregate_dataset, preprocess_df, df_to_dataset, posterior_mean_field, prior_trainable\n",
    "pd.set_option('display.max_columns', 500)\n",
    "# this allows you to make changes and save in student_utils.py and the file is reloaded every time you run a code block\n",
    "%load_ext autoreload\n",
    "%autoreload"
   ]
  },
  {
   "cell_type": "code",
   "execution_count": 2,
   "metadata": {},
   "outputs": [],
   "source": [
    "#OPEN ISSUE ON MAC OSX for TF model training\n",
    "import os\n",
    "os.environ['KMP_DUPLICATE_LIB_OK']='True'"
   ]
  },
  {
   "cell_type": "markdown",
   "metadata": {},
   "source": [
    "## Dataset Loading and Schema Review"
   ]
  },
  {
   "cell_type": "markdown",
   "metadata": {},
   "source": [
    "Load the dataset and view a sample of the dataset along with reviewing the schema reference files to gain a deeper understanding of the dataset. The dataset is located at the following path https://github.com/udacity/nd320-c1-emr-data-starter/blob/master/project/starter_code/data/final_project_dataset.csv. Also, review the information found in the data schema https://github.com/udacity/nd320-c1-emr-data-starter/blob/master/project/data_schema_references/"
   ]
  },
  {
   "cell_type": "code",
   "execution_count": 3,
   "metadata": {},
   "outputs": [
    {
     "data": {
      "text/html": [
       "<div>\n",
       "<style scoped>\n",
       "    .dataframe tbody tr th:only-of-type {\n",
       "        vertical-align: middle;\n",
       "    }\n",
       "\n",
       "    .dataframe tbody tr th {\n",
       "        vertical-align: top;\n",
       "    }\n",
       "\n",
       "    .dataframe thead th {\n",
       "        text-align: right;\n",
       "    }\n",
       "</style>\n",
       "<table border=\"1\" class=\"dataframe\">\n",
       "  <thead>\n",
       "    <tr style=\"text-align: right;\">\n",
       "      <th></th>\n",
       "      <th>encounter_id</th>\n",
       "      <th>patient_nbr</th>\n",
       "      <th>race</th>\n",
       "      <th>gender</th>\n",
       "      <th>age</th>\n",
       "      <th>weight</th>\n",
       "      <th>admission_type_id</th>\n",
       "      <th>discharge_disposition_id</th>\n",
       "      <th>admission_source_id</th>\n",
       "      <th>time_in_hospital</th>\n",
       "      <th>payer_code</th>\n",
       "      <th>medical_specialty</th>\n",
       "      <th>primary_diagnosis_code</th>\n",
       "      <th>other_diagnosis_codes</th>\n",
       "      <th>number_outpatient</th>\n",
       "      <th>number_inpatient</th>\n",
       "      <th>number_emergency</th>\n",
       "      <th>num_lab_procedures</th>\n",
       "      <th>number_diagnoses</th>\n",
       "      <th>num_medications</th>\n",
       "      <th>num_procedures</th>\n",
       "      <th>ndc_code</th>\n",
       "      <th>max_glu_serum</th>\n",
       "      <th>A1Cresult</th>\n",
       "      <th>change</th>\n",
       "      <th>readmitted</th>\n",
       "    </tr>\n",
       "  </thead>\n",
       "  <tbody>\n",
       "    <tr>\n",
       "      <th>31912</th>\n",
       "      <td>81711054</td>\n",
       "      <td>443718</td>\n",
       "      <td>AfricanAmerican</td>\n",
       "      <td>Female</td>\n",
       "      <td>[70-80)</td>\n",
       "      <td>?</td>\n",
       "      <td>3</td>\n",
       "      <td>1</td>\n",
       "      <td>4</td>\n",
       "      <td>9</td>\n",
       "      <td>?</td>\n",
       "      <td>?</td>\n",
       "      <td>410</td>\n",
       "      <td>996|599</td>\n",
       "      <td>0</td>\n",
       "      <td>0</td>\n",
       "      <td>0</td>\n",
       "      <td>56</td>\n",
       "      <td>9</td>\n",
       "      <td>19</td>\n",
       "      <td>6</td>\n",
       "      <td>NaN</td>\n",
       "      <td>None</td>\n",
       "      <td>None</td>\n",
       "      <td>No</td>\n",
       "      <td>NO</td>\n",
       "    </tr>\n",
       "  </tbody>\n",
       "</table>\n",
       "</div>"
      ],
      "text/plain": [
       "       encounter_id  patient_nbr             race  gender      age weight  \\\n",
       "31912      81711054       443718  AfricanAmerican  Female  [70-80)      ?   \n",
       "\n",
       "       admission_type_id  discharge_disposition_id  admission_source_id  \\\n",
       "31912                  3                         1                    4   \n",
       "\n",
       "       time_in_hospital payer_code medical_specialty primary_diagnosis_code  \\\n",
       "31912                 9          ?                 ?                    410   \n",
       "\n",
       "      other_diagnosis_codes  number_outpatient  number_inpatient  \\\n",
       "31912               996|599                  0                 0   \n",
       "\n",
       "       number_emergency  num_lab_procedures  number_diagnoses  \\\n",
       "31912                 0                  56                 9   \n",
       "\n",
       "       num_medications  num_procedures ndc_code max_glu_serum A1Cresult  \\\n",
       "31912               19               6      NaN          None      None   \n",
       "\n",
       "      change readmitted  \n",
       "31912     No         NO  "
      ]
     },
     "execution_count": 3,
     "metadata": {},
     "output_type": "execute_result"
    }
   ],
   "source": [
    "dataset_path = \"./data/final_project_dataset.csv\"\n",
    "df = pd.read_csv(dataset_path)\n",
    "df.sample()"
   ]
  },
  {
   "cell_type": "markdown",
   "metadata": {},
   "source": [
    "## Determine Level of Dataset (Line or Encounter)"
   ]
  },
  {
   "cell_type": "markdown",
   "metadata": {},
   "source": [
    "**Question 1**: Based off of analysis of the data, what level is this dataset? Is it at the line or encounter level? Are there any key fields besides the encounter_id and patient_nbr fields that we should use to aggregate on? Knowing this information will help inform us what level of aggregation is necessary for future steps and is a step that is often overlooked. "
   ]
  },
  {
   "cell_type": "code",
   "execution_count": 4,
   "metadata": {},
   "outputs": [
    {
     "name": "stdout",
     "output_type": "stream",
     "text": [
      "Dataset could be at the line level\n",
      "Dataset is not at the encounter level\n"
     ]
    }
   ],
   "source": [
    "# Line Test\n",
    "try:\n",
    "    assert len(df) > df['encounter_id'].nunique() \n",
    "    print(\"Dataset could be at the line level\")\n",
    "except:\n",
    "    print(\"Dataset is not at the line level\")\n",
    "# Encounter Test\n",
    "try:\n",
    "    assert len(df) == df['encounter_id'].nunique()\n",
    "    print(\"Dataset could be at the encounter level\")\n",
    "except:\n",
    "    print(\"Dataset is not at the encounter level\")"
   ]
  },
  {
   "cell_type": "code",
   "execution_count": 5,
   "metadata": {},
   "outputs": [
    {
     "name": "stdout",
     "output_type": "stream",
     "text": [
      "Encounters by patient\n"
     ]
    },
    {
     "data": {
      "text/plain": [
       "90609804     52\n",
       "89472402     50\n",
       "91751121     50\n",
       "62352252     46\n",
       "84397842     41\n",
       "             ..\n",
       "152901392     1\n",
       "23189256      1\n",
       "9537282       1\n",
       "31037184      1\n",
       "2873403       1\n",
       "Name: patient_nbr, Length: 71518, dtype: int64"
      ]
     },
     "execution_count": 5,
     "metadata": {},
     "output_type": "execute_result"
    }
   ],
   "source": [
    "print('Encounters by patient')\n",
    "df['patient_nbr'].value_counts()"
   ]
  },
  {
   "cell_type": "code",
   "execution_count": 6,
   "metadata": {},
   "outputs": [
    {
     "name": "stdout",
     "output_type": "stream",
     "text": [
      "Unique encounters for patients: [106498890 112676100 117213834 122317860 170842716 199195110 206264388\n",
      " 208532580 222340416 224745156 227515974 237651330 246499866 251326500\n",
      " 281344026 288582600 293348976 330124538 383742416 427965524]\n"
     ]
    },
    {
     "name": "stderr",
     "output_type": "stream",
     "text": [
      "/opt/conda/lib/python3.7/site-packages/ipykernel_launcher.py:5: UserWarning: Boolean Series key will be reindexed to match DataFrame index.\n",
      "  \"\"\"\n"
     ]
    },
    {
     "data": {
      "text/html": [
       "<div>\n",
       "<style scoped>\n",
       "    .dataframe tbody tr th:only-of-type {\n",
       "        vertical-align: middle;\n",
       "    }\n",
       "\n",
       "    .dataframe tbody tr th {\n",
       "        vertical-align: top;\n",
       "    }\n",
       "\n",
       "    .dataframe thead th {\n",
       "        text-align: right;\n",
       "    }\n",
       "</style>\n",
       "<table border=\"1\" class=\"dataframe\">\n",
       "  <thead>\n",
       "    <tr style=\"text-align: right;\">\n",
       "      <th></th>\n",
       "      <th>encounter_id</th>\n",
       "      <th>patient_nbr</th>\n",
       "      <th>race</th>\n",
       "      <th>gender</th>\n",
       "      <th>age</th>\n",
       "      <th>weight</th>\n",
       "      <th>admission_type_id</th>\n",
       "      <th>discharge_disposition_id</th>\n",
       "      <th>admission_source_id</th>\n",
       "      <th>time_in_hospital</th>\n",
       "      <th>payer_code</th>\n",
       "      <th>medical_specialty</th>\n",
       "      <th>primary_diagnosis_code</th>\n",
       "      <th>other_diagnosis_codes</th>\n",
       "      <th>number_outpatient</th>\n",
       "      <th>number_inpatient</th>\n",
       "      <th>number_emergency</th>\n",
       "      <th>num_lab_procedures</th>\n",
       "      <th>number_diagnoses</th>\n",
       "      <th>num_medications</th>\n",
       "      <th>num_procedures</th>\n",
       "      <th>ndc_code</th>\n",
       "      <th>max_glu_serum</th>\n",
       "      <th>A1Cresult</th>\n",
       "      <th>change</th>\n",
       "      <th>readmitted</th>\n",
       "    </tr>\n",
       "  </thead>\n",
       "  <tbody>\n",
       "    <tr>\n",
       "      <th>49546</th>\n",
       "      <td>112676100</td>\n",
       "      <td>90609804</td>\n",
       "      <td>Caucasian</td>\n",
       "      <td>Female</td>\n",
       "      <td>[40-50)</td>\n",
       "      <td>?</td>\n",
       "      <td>3</td>\n",
       "      <td>1</td>\n",
       "      <td>1</td>\n",
       "      <td>3</td>\n",
       "      <td>?</td>\n",
       "      <td>Emergency/Trauma</td>\n",
       "      <td>540</td>\n",
       "      <td>276|311</td>\n",
       "      <td>0</td>\n",
       "      <td>1</td>\n",
       "      <td>1</td>\n",
       "      <td>17</td>\n",
       "      <td>9</td>\n",
       "      <td>14</td>\n",
       "      <td>2</td>\n",
       "      <td>65862-670</td>\n",
       "      <td>None</td>\n",
       "      <td>None</td>\n",
       "      <td>Ch</td>\n",
       "      <td>&gt;30</td>\n",
       "    </tr>\n",
       "    <tr>\n",
       "      <th>49547</th>\n",
       "      <td>112676100</td>\n",
       "      <td>90609804</td>\n",
       "      <td>Caucasian</td>\n",
       "      <td>Female</td>\n",
       "      <td>[40-50)</td>\n",
       "      <td>?</td>\n",
       "      <td>3</td>\n",
       "      <td>1</td>\n",
       "      <td>1</td>\n",
       "      <td>3</td>\n",
       "      <td>?</td>\n",
       "      <td>Emergency/Trauma</td>\n",
       "      <td>540</td>\n",
       "      <td>276|311</td>\n",
       "      <td>0</td>\n",
       "      <td>1</td>\n",
       "      <td>1</td>\n",
       "      <td>17</td>\n",
       "      <td>9</td>\n",
       "      <td>14</td>\n",
       "      <td>2</td>\n",
       "      <td>0049-0178</td>\n",
       "      <td>None</td>\n",
       "      <td>None</td>\n",
       "      <td>Ch</td>\n",
       "      <td>&gt;30</td>\n",
       "    </tr>\n",
       "    <tr>\n",
       "      <th>49548</th>\n",
       "      <td>112676100</td>\n",
       "      <td>90609804</td>\n",
       "      <td>Caucasian</td>\n",
       "      <td>Female</td>\n",
       "      <td>[40-50)</td>\n",
       "      <td>?</td>\n",
       "      <td>3</td>\n",
       "      <td>1</td>\n",
       "      <td>1</td>\n",
       "      <td>3</td>\n",
       "      <td>?</td>\n",
       "      <td>Emergency/Trauma</td>\n",
       "      <td>540</td>\n",
       "      <td>276|311</td>\n",
       "      <td>0</td>\n",
       "      <td>1</td>\n",
       "      <td>1</td>\n",
       "      <td>17</td>\n",
       "      <td>9</td>\n",
       "      <td>14</td>\n",
       "      <td>2</td>\n",
       "      <td>0173-0861</td>\n",
       "      <td>None</td>\n",
       "      <td>None</td>\n",
       "      <td>Ch</td>\n",
       "      <td>&gt;30</td>\n",
       "    </tr>\n",
       "    <tr>\n",
       "      <th>49549</th>\n",
       "      <td>112676100</td>\n",
       "      <td>90609804</td>\n",
       "      <td>Caucasian</td>\n",
       "      <td>Female</td>\n",
       "      <td>[40-50)</td>\n",
       "      <td>?</td>\n",
       "      <td>3</td>\n",
       "      <td>1</td>\n",
       "      <td>1</td>\n",
       "      <td>3</td>\n",
       "      <td>?</td>\n",
       "      <td>Emergency/Trauma</td>\n",
       "      <td>540</td>\n",
       "      <td>276|311</td>\n",
       "      <td>0</td>\n",
       "      <td>1</td>\n",
       "      <td>1</td>\n",
       "      <td>17</td>\n",
       "      <td>9</td>\n",
       "      <td>14</td>\n",
       "      <td>2</td>\n",
       "      <td>68071-1701</td>\n",
       "      <td>None</td>\n",
       "      <td>None</td>\n",
       "      <td>Ch</td>\n",
       "      <td>&gt;30</td>\n",
       "    </tr>\n",
       "  </tbody>\n",
       "</table>\n",
       "</div>"
      ],
      "text/plain": [
       "       encounter_id  patient_nbr       race  gender      age weight  \\\n",
       "49546     112676100     90609804  Caucasian  Female  [40-50)      ?   \n",
       "49547     112676100     90609804  Caucasian  Female  [40-50)      ?   \n",
       "49548     112676100     90609804  Caucasian  Female  [40-50)      ?   \n",
       "49549     112676100     90609804  Caucasian  Female  [40-50)      ?   \n",
       "\n",
       "       admission_type_id  discharge_disposition_id  admission_source_id  \\\n",
       "49546                  3                         1                    1   \n",
       "49547                  3                         1                    1   \n",
       "49548                  3                         1                    1   \n",
       "49549                  3                         1                    1   \n",
       "\n",
       "       time_in_hospital payer_code medical_specialty primary_diagnosis_code  \\\n",
       "49546                 3          ?  Emergency/Trauma                    540   \n",
       "49547                 3          ?  Emergency/Trauma                    540   \n",
       "49548                 3          ?  Emergency/Trauma                    540   \n",
       "49549                 3          ?  Emergency/Trauma                    540   \n",
       "\n",
       "      other_diagnosis_codes  number_outpatient  number_inpatient  \\\n",
       "49546               276|311                  0                 1   \n",
       "49547               276|311                  0                 1   \n",
       "49548               276|311                  0                 1   \n",
       "49549               276|311                  0                 1   \n",
       "\n",
       "       number_emergency  num_lab_procedures  number_diagnoses  \\\n",
       "49546                 1                  17                 9   \n",
       "49547                 1                  17                 9   \n",
       "49548                 1                  17                 9   \n",
       "49549                 1                  17                 9   \n",
       "\n",
       "       num_medications  num_procedures    ndc_code max_glu_serum A1Cresult  \\\n",
       "49546               14               2   65862-670          None      None   \n",
       "49547               14               2   0049-0178          None      None   \n",
       "49548               14               2   0173-0861          None      None   \n",
       "49549               14               2  68071-1701          None      None   \n",
       "\n",
       "      change readmitted  \n",
       "49546     Ch        >30  \n",
       "49547     Ch        >30  \n",
       "49548     Ch        >30  \n",
       "49549     Ch        >30  "
      ]
     },
     "execution_count": 6,
     "metadata": {},
     "output_type": "execute_result"
    }
   ],
   "source": [
    "#Encounters for patient 90609804\n",
    "print('Unique encounters for patients:', df[df['patient_nbr']==90609804]['encounter_id'].unique())\n",
    "\n",
    "#Analize one encounter\n",
    "df[df['patient_nbr']==90609804][df['encounter_id']==112676100]"
   ]
  },
  {
   "cell_type": "markdown",
   "metadata": {},
   "source": [
    "Student Response: \n",
    "\n",
    "**The dataset is on line level, since several records are displayed per encounter. Among the several records of each encounter the only value that changes is the medication code (ndc_code), that is, records are duplicated when several medications are prescribed. For us, it would be easier to have a dataset at the encounter level, so we would aggregate it by patient, encounter and ndc_code.**"
   ]
  },
  {
   "cell_type": "markdown",
   "metadata": {},
   "source": [
    "## Analyze Dataset"
   ]
  },
  {
   "cell_type": "markdown",
   "metadata": {},
   "source": [
    "**Question 2**: Utilizing the library of your choice (recommend Pandas and Seaborn or matplotlib though), perform exploratory data analysis on the dataset. In particular be sure to address the following questions:  \n",
    "    - a. Field(s) with high amount of missing/zero values\n",
    "    - b. Based off the frequency histogram for each numerical field, which numerical field(s) has/have a Gaussian(normal) distribution shape?\n",
    "    - c. Which field(s) have high cardinality and why (HINT: ndc_code is one feature)\n",
    "    - d. Please describe the demographic distributions in the dataset for the age and gender fields.\n",
    "    \n"
   ]
  },
  {
   "cell_type": "markdown",
   "metadata": {},
   "source": [
    "### Missing/Zero Values"
   ]
  },
  {
   "cell_type": "code",
   "execution_count": 7,
   "metadata": {},
   "outputs": [],
   "source": [
    "# Missing/Zero values\n",
    "df = df.replace('?', np.nan)\n",
    "\n",
    "def check_null_values(df):\n",
    "    null_df = pd.DataFrame({'columns': df.columns, \n",
    "                            'percent_null': df.isnull().sum() * 100 / len(df), \n",
    "                           'percent_zero': df.isin([0]).sum() * 100 / len(df)\n",
    "                           } )\n",
    "    return null_df \n",
    "\n",
    "null_df = check_null_values(df)"
   ]
  },
  {
   "cell_type": "code",
   "execution_count": 8,
   "metadata": {},
   "outputs": [
    {
     "data": {
      "text/html": [
       "<div>\n",
       "<style scoped>\n",
       "    .dataframe tbody tr th:only-of-type {\n",
       "        vertical-align: middle;\n",
       "    }\n",
       "\n",
       "    .dataframe tbody tr th {\n",
       "        vertical-align: top;\n",
       "    }\n",
       "\n",
       "    .dataframe thead th {\n",
       "        text-align: right;\n",
       "    }\n",
       "</style>\n",
       "<table border=\"1\" class=\"dataframe\">\n",
       "  <thead>\n",
       "    <tr style=\"text-align: right;\">\n",
       "      <th></th>\n",
       "      <th>percent_null</th>\n",
       "    </tr>\n",
       "  </thead>\n",
       "  <tbody>\n",
       "    <tr>\n",
       "      <th>weight</th>\n",
       "      <td>97.000502</td>\n",
       "    </tr>\n",
       "    <tr>\n",
       "      <th>medical_specialty</th>\n",
       "      <td>48.431922</td>\n",
       "    </tr>\n",
       "    <tr>\n",
       "      <th>payer_code</th>\n",
       "      <td>37.783077</td>\n",
       "    </tr>\n",
       "    <tr>\n",
       "      <th>ndc_code</th>\n",
       "      <td>16.358490</td>\n",
       "    </tr>\n",
       "    <tr>\n",
       "      <th>race</th>\n",
       "      <td>2.307145</td>\n",
       "    </tr>\n",
       "    <tr>\n",
       "      <th>primary_diagnosis_code</th>\n",
       "      <td>0.023009</td>\n",
       "    </tr>\n",
       "  </tbody>\n",
       "</table>\n",
       "</div>"
      ],
      "text/plain": [
       "                        percent_null\n",
       "weight                     97.000502\n",
       "medical_specialty          48.431922\n",
       "payer_code                 37.783077\n",
       "ndc_code                   16.358490\n",
       "race                        2.307145\n",
       "primary_diagnosis_code      0.023009"
      ]
     },
     "execution_count": 8,
     "metadata": {},
     "output_type": "execute_result"
    }
   ],
   "source": [
    "#Report null values\n",
    "null_df[null_df['percent_null'] > 0].sort_values('percent_null', ascending=False).drop(['columns','percent_zero'], axis=1)"
   ]
  },
  {
   "cell_type": "code",
   "execution_count": 9,
   "metadata": {},
   "outputs": [
    {
     "data": {
      "text/html": [
       "<div>\n",
       "<style scoped>\n",
       "    .dataframe tbody tr th:only-of-type {\n",
       "        vertical-align: middle;\n",
       "    }\n",
       "\n",
       "    .dataframe tbody tr th {\n",
       "        vertical-align: top;\n",
       "    }\n",
       "\n",
       "    .dataframe thead th {\n",
       "        text-align: right;\n",
       "    }\n",
       "</style>\n",
       "<table border=\"1\" class=\"dataframe\">\n",
       "  <thead>\n",
       "    <tr style=\"text-align: right;\">\n",
       "      <th></th>\n",
       "      <th>percent_zero</th>\n",
       "    </tr>\n",
       "  </thead>\n",
       "  <tbody>\n",
       "    <tr>\n",
       "      <th>number_emergency</th>\n",
       "      <td>88.858211</td>\n",
       "    </tr>\n",
       "    <tr>\n",
       "      <th>number_outpatient</th>\n",
       "      <td>83.686831</td>\n",
       "    </tr>\n",
       "    <tr>\n",
       "      <th>number_inpatient</th>\n",
       "      <td>67.421073</td>\n",
       "    </tr>\n",
       "    <tr>\n",
       "      <th>num_procedures</th>\n",
       "      <td>45.869589</td>\n",
       "    </tr>\n",
       "  </tbody>\n",
       "</table>\n",
       "</div>"
      ],
      "text/plain": [
       "                   percent_zero\n",
       "number_emergency      88.858211\n",
       "number_outpatient     83.686831\n",
       "number_inpatient      67.421073\n",
       "num_procedures        45.869589"
      ]
     },
     "execution_count": 9,
     "metadata": {},
     "output_type": "execute_result"
    }
   ],
   "source": [
    "#Report zero values\n",
    "null_df[null_df['percent_zero'] > 0].sort_values('percent_zero', ascending=False).drop(['columns','percent_null'], axis=1)"
   ]
  },
  {
   "cell_type": "markdown",
   "metadata": {},
   "source": [
    "**Following features show a high amount (> 35%) of missing values: weight, medical_speciality and payer. So they should not be taken into account in the analysis.**\n",
    "\n",
    "**On the other hand, the features number_emergency, number_outpatient,number_inpatient and num_procedures show a high percentage of zeros, which a priori does not indicate any anomaly in the data.**"
   ]
  },
  {
   "cell_type": "markdown",
   "metadata": {},
   "source": [
    "### Numerical Data distribution"
   ]
  },
  {
   "cell_type": "code",
   "execution_count": 10,
   "metadata": {
    "scrolled": true
   },
   "outputs": [
    {
     "data": {
      "text/html": [
       "<div>\n",
       "<style scoped>\n",
       "    .dataframe tbody tr th:only-of-type {\n",
       "        vertical-align: middle;\n",
       "    }\n",
       "\n",
       "    .dataframe tbody tr th {\n",
       "        vertical-align: top;\n",
       "    }\n",
       "\n",
       "    .dataframe thead th {\n",
       "        text-align: right;\n",
       "    }\n",
       "</style>\n",
       "<table border=\"1\" class=\"dataframe\">\n",
       "  <thead>\n",
       "    <tr style=\"text-align: right;\">\n",
       "      <th></th>\n",
       "      <th>encounter_id</th>\n",
       "      <th>patient_nbr</th>\n",
       "      <th>admission_type_id</th>\n",
       "      <th>discharge_disposition_id</th>\n",
       "      <th>admission_source_id</th>\n",
       "      <th>time_in_hospital</th>\n",
       "      <th>number_outpatient</th>\n",
       "      <th>number_inpatient</th>\n",
       "      <th>number_emergency</th>\n",
       "      <th>num_lab_procedures</th>\n",
       "      <th>number_diagnoses</th>\n",
       "      <th>num_medications</th>\n",
       "      <th>num_procedures</th>\n",
       "    </tr>\n",
       "  </thead>\n",
       "  <tbody>\n",
       "    <tr>\n",
       "      <th>count</th>\n",
       "      <td>1.434240e+05</td>\n",
       "      <td>1.434240e+05</td>\n",
       "      <td>143424.000000</td>\n",
       "      <td>143424.000000</td>\n",
       "      <td>143424.000000</td>\n",
       "      <td>143424.000000</td>\n",
       "      <td>143424.000000</td>\n",
       "      <td>143424.000000</td>\n",
       "      <td>143424.000000</td>\n",
       "      <td>143424.000000</td>\n",
       "      <td>143424.000000</td>\n",
       "      <td>143424.000000</td>\n",
       "      <td>143424.000000</td>\n",
       "    </tr>\n",
       "    <tr>\n",
       "      <th>mean</th>\n",
       "      <td>1.674290e+08</td>\n",
       "      <td>5.493608e+07</td>\n",
       "      <td>2.027694</td>\n",
       "      <td>3.655316</td>\n",
       "      <td>5.701096</td>\n",
       "      <td>4.490190</td>\n",
       "      <td>0.362429</td>\n",
       "      <td>0.600855</td>\n",
       "      <td>0.195086</td>\n",
       "      <td>43.255745</td>\n",
       "      <td>7.424434</td>\n",
       "      <td>16.776035</td>\n",
       "      <td>1.349021</td>\n",
       "    </tr>\n",
       "    <tr>\n",
       "      <th>std</th>\n",
       "      <td>1.019046e+08</td>\n",
       "      <td>3.857840e+07</td>\n",
       "      <td>1.427585</td>\n",
       "      <td>5.219279</td>\n",
       "      <td>4.064532</td>\n",
       "      <td>2.999667</td>\n",
       "      <td>1.249295</td>\n",
       "      <td>1.207934</td>\n",
       "      <td>0.920410</td>\n",
       "      <td>19.657319</td>\n",
       "      <td>1.924872</td>\n",
       "      <td>8.397130</td>\n",
       "      <td>1.719104</td>\n",
       "    </tr>\n",
       "    <tr>\n",
       "      <th>min</th>\n",
       "      <td>1.252200e+04</td>\n",
       "      <td>1.350000e+02</td>\n",
       "      <td>1.000000</td>\n",
       "      <td>1.000000</td>\n",
       "      <td>1.000000</td>\n",
       "      <td>1.000000</td>\n",
       "      <td>0.000000</td>\n",
       "      <td>0.000000</td>\n",
       "      <td>0.000000</td>\n",
       "      <td>1.000000</td>\n",
       "      <td>1.000000</td>\n",
       "      <td>1.000000</td>\n",
       "      <td>0.000000</td>\n",
       "    </tr>\n",
       "    <tr>\n",
       "      <th>25%</th>\n",
       "      <td>8.829596e+07</td>\n",
       "      <td>2.357219e+07</td>\n",
       "      <td>1.000000</td>\n",
       "      <td>1.000000</td>\n",
       "      <td>1.000000</td>\n",
       "      <td>2.000000</td>\n",
       "      <td>0.000000</td>\n",
       "      <td>0.000000</td>\n",
       "      <td>0.000000</td>\n",
       "      <td>32.000000</td>\n",
       "      <td>6.000000</td>\n",
       "      <td>11.000000</td>\n",
       "      <td>0.000000</td>\n",
       "    </tr>\n",
       "    <tr>\n",
       "      <th>50%</th>\n",
       "      <td>1.547637e+08</td>\n",
       "      <td>4.630783e+07</td>\n",
       "      <td>1.000000</td>\n",
       "      <td>1.000000</td>\n",
       "      <td>7.000000</td>\n",
       "      <td>4.000000</td>\n",
       "      <td>0.000000</td>\n",
       "      <td>0.000000</td>\n",
       "      <td>0.000000</td>\n",
       "      <td>44.000000</td>\n",
       "      <td>8.000000</td>\n",
       "      <td>15.000000</td>\n",
       "      <td>1.000000</td>\n",
       "    </tr>\n",
       "    <tr>\n",
       "      <th>75%</th>\n",
       "      <td>2.320897e+08</td>\n",
       "      <td>8.823627e+07</td>\n",
       "      <td>3.000000</td>\n",
       "      <td>3.000000</td>\n",
       "      <td>7.000000</td>\n",
       "      <td>6.000000</td>\n",
       "      <td>0.000000</td>\n",
       "      <td>1.000000</td>\n",
       "      <td>0.000000</td>\n",
       "      <td>57.000000</td>\n",
       "      <td>9.000000</td>\n",
       "      <td>21.000000</td>\n",
       "      <td>2.000000</td>\n",
       "    </tr>\n",
       "    <tr>\n",
       "      <th>max</th>\n",
       "      <td>4.438672e+08</td>\n",
       "      <td>1.895026e+08</td>\n",
       "      <td>8.000000</td>\n",
       "      <td>28.000000</td>\n",
       "      <td>25.000000</td>\n",
       "      <td>14.000000</td>\n",
       "      <td>42.000000</td>\n",
       "      <td>21.000000</td>\n",
       "      <td>76.000000</td>\n",
       "      <td>132.000000</td>\n",
       "      <td>16.000000</td>\n",
       "      <td>81.000000</td>\n",
       "      <td>6.000000</td>\n",
       "    </tr>\n",
       "  </tbody>\n",
       "</table>\n",
       "</div>"
      ],
      "text/plain": [
       "       encounter_id   patient_nbr  admission_type_id  \\\n",
       "count  1.434240e+05  1.434240e+05      143424.000000   \n",
       "mean   1.674290e+08  5.493608e+07           2.027694   \n",
       "std    1.019046e+08  3.857840e+07           1.427585   \n",
       "min    1.252200e+04  1.350000e+02           1.000000   \n",
       "25%    8.829596e+07  2.357219e+07           1.000000   \n",
       "50%    1.547637e+08  4.630783e+07           1.000000   \n",
       "75%    2.320897e+08  8.823627e+07           3.000000   \n",
       "max    4.438672e+08  1.895026e+08           8.000000   \n",
       "\n",
       "       discharge_disposition_id  admission_source_id  time_in_hospital  \\\n",
       "count             143424.000000        143424.000000     143424.000000   \n",
       "mean                   3.655316             5.701096          4.490190   \n",
       "std                    5.219279             4.064532          2.999667   \n",
       "min                    1.000000             1.000000          1.000000   \n",
       "25%                    1.000000             1.000000          2.000000   \n",
       "50%                    1.000000             7.000000          4.000000   \n",
       "75%                    3.000000             7.000000          6.000000   \n",
       "max                   28.000000            25.000000         14.000000   \n",
       "\n",
       "       number_outpatient  number_inpatient  number_emergency  \\\n",
       "count      143424.000000     143424.000000     143424.000000   \n",
       "mean            0.362429          0.600855          0.195086   \n",
       "std             1.249295          1.207934          0.920410   \n",
       "min             0.000000          0.000000          0.000000   \n",
       "25%             0.000000          0.000000          0.000000   \n",
       "50%             0.000000          0.000000          0.000000   \n",
       "75%             0.000000          1.000000          0.000000   \n",
       "max            42.000000         21.000000         76.000000   \n",
       "\n",
       "       num_lab_procedures  number_diagnoses  num_medications  num_procedures  \n",
       "count       143424.000000     143424.000000    143424.000000   143424.000000  \n",
       "mean            43.255745          7.424434        16.776035        1.349021  \n",
       "std             19.657319          1.924872         8.397130        1.719104  \n",
       "min              1.000000          1.000000         1.000000        0.000000  \n",
       "25%             32.000000          6.000000        11.000000        0.000000  \n",
       "50%             44.000000          8.000000        15.000000        1.000000  \n",
       "75%             57.000000          9.000000        21.000000        2.000000  \n",
       "max            132.000000         16.000000        81.000000        6.000000  "
      ]
     },
     "execution_count": 10,
     "metadata": {},
     "output_type": "execute_result"
    }
   ],
   "source": [
    "#Column information\n",
    "df.describe() #include='all')"
   ]
  },
  {
   "cell_type": "code",
   "execution_count": 11,
   "metadata": {},
   "outputs": [],
   "source": [
    "numerical_features = ['time_in_hospital', 'number_outpatient','number_inpatient', 'number_emergency', \n",
    "                      'num_lab_procedures', 'number_diagnoses', 'num_medications', 'num_procedures']                "
   ]
  },
  {
   "cell_type": "code",
   "execution_count": 12,
   "metadata": {},
   "outputs": [
    {
     "name": "stdout",
     "output_type": "stream",
     "text": [
      "Distribution of numerical data\n"
     ]
    },
    {
     "data": {
      "image/png": "[encoded data removed]",
      "text/plain": [
       "<Figure size 720x288 with 1 Axes>"
      ]
     },
     "metadata": {
      "needs_background": "light"
     },
     "output_type": "display_data"
    },
    {
     "data": {
      "image/png": "[encoded data removed]",
      "text/plain": [
       "<Figure size 720x288 with 1 Axes>"
      ]
     },
     "metadata": {
      "needs_background": "light"
     },
     "output_type": "display_data"
    },
    {
     "data": {
      "image/png": "[encoded data removed]",
      "text/plain": [
       "<Figure size 720x288 with 1 Axes>"
      ]
     },
     "metadata": {
      "needs_background": "light"
     },
     "output_type": "display_data"
    },
    {
     "data": {
      "image/png": "[encoded data removed]",
      "text/plain": [
       "<Figure size 720x288 with 1 Axes>"
      ]
     },
     "metadata": {
      "needs_background": "light"
     },
     "output_type": "display_data"
    },
    {
     "data": {
      "image/png": "[encoded data removed]",
      "text/plain": [
       "<Figure size 720x288 with 1 Axes>"
      ]
     },
     "metadata": {
      "needs_background": "light"
     },
     "output_type": "display_data"
    },
    {
     "data": {
      "image/png": "[encoded data removed]",
      "text/plain": [
       "<Figure size 720x288 with 1 Axes>"
      ]
     },
     "metadata": {
      "needs_background": "light"
     },
     "output_type": "display_data"
    },
    {
     "data": {
      "image/png": "[encoded data removed]",
      "text/plain": [
       "<Figure size 720x288 with 1 Axes>"
      ]
     },
     "metadata": {
      "needs_background": "light"
     },
     "output_type": "display_data"
    },
    {
     "data": {
      "image/png": "[encoded data removed]",
      "text/plain": [
       "<Figure size 720x288 with 1 Axes>"
      ]
     },
     "metadata": {
      "needs_background": "light"
     },
     "output_type": "display_data"
    }
   ],
   "source": [
    "print('Distribution of numerical data')\n",
    "for i, col in enumerate(numerical_features):\n",
    "    plt.figure(i, figsize=(10,4))\n",
    "    sns.distplot(df[col])"
   ]
  },
  {
   "cell_type": "markdown",
   "metadata": {},
   "source": [
    "**There are only three features that are normally distributed:**\n",
    "* **time_in_hospital (right skewed)**\n",
    "* **num_lab_procedures**\n",
    "* **num_medications (right skewed)**\n",
    "\n",
    "**Age is normally distributed although it is not a numerical variable**"
   ]
  },
  {
   "cell_type": "markdown",
   "metadata": {},
   "source": [
    "### High Cardinality Analysis"
   ]
  },
  {
   "cell_type": "code",
   "execution_count": 13,
   "metadata": {},
   "outputs": [
    {
     "name": "stdout",
     "output_type": "stream",
     "text": [
      "Cardinality of each feature\n"
     ]
    },
    {
     "data": {
      "text/plain": [
       "other_diagnosis_codes     19374\n",
       "primary_diagnosis_code      716\n",
       "ndc_code                    251\n",
       "medical_specialty            72\n",
       "payer_code                   17\n",
       "age                          10\n",
       "weight                        9\n",
       "race                          5\n",
       "A1Cresult                     4\n",
       "max_glu_serum                 4\n",
       "readmitted                    3\n",
       "gender                        3\n",
       "change                        2\n",
       "Name: unique, dtype: object"
      ]
     },
     "execution_count": 13,
     "metadata": {},
     "output_type": "execute_result"
    }
   ],
   "source": [
    "#High Cardinality\n",
    "print('Cardinality of each feature')\n",
    "df.describe(include='all').transpose()['unique'].dropna().sort_values(ascending=False)"
   ]
  },
  {
   "cell_type": "markdown",
   "metadata": {},
   "source": [
    "**Other_diagnosis_codes, primary_diagnosis_code and ndc_code are fields with high cardinality (>200 unique values). All of them refer to healthcare codes.**"
   ]
  },
  {
   "cell_type": "markdown",
   "metadata": {},
   "source": [
    "### Demographic distribution"
   ]
  },
  {
   "cell_type": "code",
   "execution_count": 14,
   "metadata": {},
   "outputs": [
    {
     "name": "stdout",
     "output_type": "stream",
     "text": [
      "Distribution of samples by age\n"
     ]
    },
    {
     "data": {
      "image/png": "[encoded data removed]",
      "text/plain": [
       "<Figure size 432x288 with 1 Axes>"
      ]
     },
     "metadata": {
      "needs_background": "light"
     },
     "output_type": "display_data"
    }
   ],
   "source": [
    "#Age distribution\n",
    "print('Distribution of samples by age')\n",
    "sns.countplot(x=\"age\", data=df);"
   ]
  },
  {
   "cell_type": "code",
   "execution_count": 15,
   "metadata": {},
   "outputs": [
    {
     "name": "stdout",
     "output_type": "stream",
     "text": [
      "Distribution of samples by gender\n"
     ]
    },
    {
     "data": {
      "text/plain": [
       "Female             0.531187\n",
       "Male               0.468778\n",
       "Unknown/Invalid    0.000035\n",
       "Name: gender, dtype: float64"
      ]
     },
     "execution_count": 15,
     "metadata": {},
     "output_type": "execute_result"
    },
    {
     "data": {
      "image/png": "[encoded data removed]",
      "text/plain": [
       "<Figure size 432x288 with 1 Axes>"
      ]
     },
     "metadata": {
      "needs_background": "light"
     },
     "output_type": "display_data"
    }
   ],
   "source": [
    "print('Distribution of samples by gender')\n",
    "sns.countplot(x=\"gender\", data=df)\n",
    "df['gender'].value_counts(normalize=True)"
   ]
  },
  {
   "cell_type": "code",
   "execution_count": 16,
   "metadata": {},
   "outputs": [
    {
     "name": "stdout",
     "output_type": "stream",
     "text": [
      "Distribution of samples by age, gender\n"
     ]
    },
    {
     "data": {
      "image/png": "[encoded data removed]",
      "text/plain": [
       "<Figure size 432x288 with 1 Axes>"
      ]
     },
     "metadata": {
      "needs_background": "light"
     },
     "output_type": "display_data"
    }
   ],
   "source": [
    "print('Distribution of samples by age, gender')\n",
    "sns.countplot(x=\"age\", hue=\"gender\", data=df);"
   ]
  },
  {
   "cell_type": "code",
   "execution_count": 17,
   "metadata": {},
   "outputs": [
    {
     "name": "stdout",
     "output_type": "stream",
     "text": [
      "Distribution of samples by age, gender and race\n"
     ]
    },
    {
     "data": {
      "image/png": "[encoded data removed]",
      "text/plain": [
       "<Figure size 839.125x1080 with 5 Axes>"
      ]
     },
     "metadata": {
      "needs_background": "light"
     },
     "output_type": "display_data"
    }
   ],
   "source": [
    "#sns.countplot(x=\"race\", hue=\"gender\", data=df)\n",
    "print('Distribution of samples by age, gender and race')\n",
    "g = sns.catplot(x=\"age\", hue=\"gender\", col=\"race\",\n",
    "                data=df, kind=\"count\", col_wrap=2);"
   ]
  },
  {
   "cell_type": "markdown",
   "metadata": {},
   "source": [
    "**Regarding the demographic distribution of the samples we can conclude the following:**\n",
    "* **The age distribution in the samples is normal, with a predominance of ages between 60 and 80.**\n",
    "* **The gender distribution is balanced (53/47), with a small proportion of unknown samples.**\n",
    "* **The age distribution by sex also shows a balanced distribution, although the older samples tend to be predominantly female.**\n",
    "* **With respect to race, Caucasians and African Americans predominate.**"
   ]
  },
  {
   "cell_type": "markdown",
   "metadata": {},
   "source": [
    "**OPTIONAL**: Use the Tensorflow Data Validation and Analysis library to complete. \n",
    "- The Tensorflow Data Validation and Analysis library(https://www.tensorflow.org/tfx/data_validation/get_started) is a useful tool for analyzing and summarizing dataset statistics. It is especially useful because it can scale to large datasets that do not fit into memory. \n",
    "- Note that there are some bugs that are still being resolved with Chrome v80 and we have moved away from using this for the project. "
   ]
  },
  {
   "cell_type": "markdown",
   "metadata": {},
   "source": [
    "**Student Response**: Answer above."
   ]
  },
  {
   "cell_type": "code",
   "execution_count": 18,
   "metadata": {},
   "outputs": [],
   "source": [
    "######NOTE: The visualization will only display in Chrome browser. ########\n",
    "#full_data_stats = tfdv.generate_statistics_from_csv(data_location='./data/final_project_dataset.csv') \n",
    "#tfdv.visualize_statistics(full_data_stats)"
   ]
  },
  {
   "cell_type": "markdown",
   "metadata": {},
   "source": [
    "## Reduce Dimensionality of the NDC Code Feature"
   ]
  },
  {
   "cell_type": "markdown",
   "metadata": {},
   "source": [
    "**Question 3**: NDC codes are a common format to represent the wide variety of drugs that are prescribed for patient care in the United States. The challenge is that there are many codes that map to the same or similar drug. You are provided with the ndc drug lookup file https://github.com/udacity/nd320-c1-emr-data-starter/blob/master/project/data_schema_references/ndc_lookup_table.csv derived from the National Drug Codes List site(https://ndclist.com/). Please use this file to come up with a way to reduce the dimensionality of this field and create a new field in the dataset called \"generic_drug_name\" in the output dataframe. "
   ]
  },
  {
   "cell_type": "code",
   "execution_count": 19,
   "metadata": {},
   "outputs": [],
   "source": [
    "#NDC code lookup file\n",
    "ndc_code_path = \"./medication_lookup_tables/final_ndc_lookup_table\"\n",
    "ndc_code_df = pd.read_csv(ndc_code_path)"
   ]
  },
  {
   "cell_type": "code",
   "execution_count": 20,
   "metadata": {},
   "outputs": [],
   "source": [
    "from student_utils import reduce_dimension_ndc"
   ]
  },
  {
   "cell_type": "code",
   "execution_count": 21,
   "metadata": {},
   "outputs": [],
   "source": [
    "reduce_dim_df = reduce_dimension_ndc(df, ndc_code_df)\n",
    "#reduce_dim_df.columns"
   ]
  },
  {
   "cell_type": "code",
   "execution_count": 22,
   "metadata": {},
   "outputs": [
    {
     "name": "stdout",
     "output_type": "stream",
     "text": [
      "Dimension reduction of NDC code: 251 -> 22\n"
     ]
    }
   ],
   "source": [
    "# Number of unique values should be less for the new output field\n",
    "assert df['ndc_code'].nunique() > reduce_dim_df['generic_drug_name'].nunique()\n",
    "print(\"Dimension reduction of NDC code:\", df['ndc_code'].nunique(), \"->\", reduce_dim_df['generic_drug_name'].nunique())"
   ]
  },
  {
   "cell_type": "markdown",
   "metadata": {},
   "source": [
    "## Select First Encounter for each Patient "
   ]
  },
  {
   "cell_type": "markdown",
   "metadata": {},
   "source": [
    "**Question 4**: In order to simplify the aggregation of data for the model, we will only select the first encounter for each patient in the dataset. This is to reduce the risk of data leakage of future patient encounters and to reduce complexity of the data transformation and modeling steps. We will assume that sorting in numerical order on the encounter_id provides the time horizon for determining which encounters come before and after another."
   ]
  },
  {
   "cell_type": "code",
   "execution_count": 23,
   "metadata": {},
   "outputs": [],
   "source": [
    "%autoreload 2\n",
    "from student_utils import select_first_encounter\n",
    "first_encounter_df = select_first_encounter(reduce_dim_df)"
   ]
  },
  {
   "cell_type": "code",
   "execution_count": 24,
   "metadata": {},
   "outputs": [
    {
     "name": "stdout",
     "output_type": "stream",
     "text": [
      "Number of unique patients:71518\n",
      "Number of unique encounters:71518\n",
      "Tests passed!!\n"
     ]
    }
   ],
   "source": [
    "# unique patients in transformed dataset\n",
    "unique_patients = first_encounter_df['patient_nbr'].nunique()\n",
    "print(\"Number of unique patients:{}\".format(unique_patients))\n",
    "\n",
    "# unique encounters in transformed dataset\n",
    "unique_encounters = first_encounter_df['encounter_id'].nunique()\n",
    "print(\"Number of unique encounters:{}\".format(unique_encounters))\n",
    "\n",
    "original_unique_patient_number = reduce_dim_df['patient_nbr'].nunique()\n",
    "# number of unique patients should be equal to the number of unique encounters and patients in the final dataset\n",
    "assert original_unique_patient_number == unique_patients\n",
    "assert original_unique_patient_number == unique_encounters\n",
    "print(\"Tests passed!!\")"
   ]
  },
  {
   "cell_type": "markdown",
   "metadata": {},
   "source": [
    "**In any case, as previously mentioned, there are several records per encounter when several medications are prescribed, so the dataset is not at the encounter level.**"
   ]
  },
  {
   "cell_type": "code",
   "execution_count": 25,
   "metadata": {},
   "outputs": [
    {
     "data": {
      "text/plain": [
       "58316058     6\n",
       "110310714    6\n",
       "63415968     6\n",
       "60016020     6\n",
       "92148810     5\n",
       "            ..\n",
       "11691306     1\n",
       "201094440    1\n",
       "61867302     1\n",
       "228806856    1\n",
       "173015040    1\n",
       "Name: encounter_id, Length: 71518, dtype: int64"
      ]
     },
     "execution_count": 25,
     "metadata": {},
     "output_type": "execute_result"
    }
   ],
   "source": [
    "first_encounter_df['encounter_id'].value_counts()"
   ]
  },
  {
   "cell_type": "markdown",
   "metadata": {},
   "source": [
    "## Aggregate Dataset to Right Level for Modeling "
   ]
  },
  {
   "cell_type": "markdown",
   "metadata": {},
   "source": [
    "In order to provide a broad scope of the steps and to prevent students from getting stuck with data transformations, we have selected the aggregation columns and provided a function to build the dataset at the appropriate level. The 'aggregate_dataset\" function that you can find in the 'utils.py' file can take the preceding dataframe with the 'generic_drug_name' field and transform the data appropriately for the project. \n",
    "\n",
    "To make it simpler for students, we are creating dummy columns for each unique generic drug name and adding those are input features to the model. There are other options for data representation but this is out of scope for the time constraints of the course."
   ]
  },
  {
   "cell_type": "code",
   "execution_count": 26,
   "metadata": {},
   "outputs": [
    {
     "name": "stderr",
     "output_type": "stream",
     "text": [
      "/home/workspace/starter_code/utils.py:10: FutureWarning: Indexing with multiple keys (implicitly converted to a tuple of keys) will be deprecated, use a list instead.\n",
      "  array_field].apply(lambda x: x[array_field].values.tolist()).reset_index().rename(columns={\n"
     ]
    }
   ],
   "source": [
    "exclusion_list = ['generic_drug_name']\n",
    "grouping_field_list = [c for c in first_encounter_df.columns if c not in exclusion_list]\n",
    "agg_drug_df, ndc_col_list = aggregate_dataset(first_encounter_df, grouping_field_list, 'generic_drug_name')"
   ]
  },
  {
   "cell_type": "code",
   "execution_count": 27,
   "metadata": {},
   "outputs": [],
   "source": [
    "assert len(agg_drug_df) == agg_drug_df['patient_nbr'].nunique() == agg_drug_df['encounter_id'].nunique()"
   ]
  },
  {
   "cell_type": "code",
   "execution_count": 28,
   "metadata": {},
   "outputs": [
    {
     "data": {
      "text/html": [
       "<div>\n",
       "<style scoped>\n",
       "    .dataframe tbody tr th:only-of-type {\n",
       "        vertical-align: middle;\n",
       "    }\n",
       "\n",
       "    .dataframe tbody tr th {\n",
       "        vertical-align: top;\n",
       "    }\n",
       "\n",
       "    .dataframe thead th {\n",
       "        text-align: right;\n",
       "    }\n",
       "</style>\n",
       "<table border=\"1\" class=\"dataframe\">\n",
       "  <thead>\n",
       "    <tr style=\"text-align: right;\">\n",
       "      <th></th>\n",
       "      <th>encounter_id</th>\n",
       "      <th>patient_nbr</th>\n",
       "      <th>race</th>\n",
       "      <th>gender</th>\n",
       "      <th>age</th>\n",
       "      <th>weight</th>\n",
       "      <th>admission_type_id</th>\n",
       "      <th>discharge_disposition_id</th>\n",
       "      <th>admission_source_id</th>\n",
       "      <th>time_in_hospital</th>\n",
       "      <th>payer_code</th>\n",
       "      <th>medical_specialty</th>\n",
       "      <th>primary_diagnosis_code</th>\n",
       "      <th>other_diagnosis_codes</th>\n",
       "      <th>number_outpatient</th>\n",
       "      <th>number_inpatient</th>\n",
       "      <th>number_emergency</th>\n",
       "      <th>num_lab_procedures</th>\n",
       "      <th>number_diagnoses</th>\n",
       "      <th>num_medications</th>\n",
       "      <th>num_procedures</th>\n",
       "      <th>max_glu_serum</th>\n",
       "      <th>A1Cresult</th>\n",
       "      <th>change</th>\n",
       "      <th>readmitted</th>\n",
       "      <th>generic_drug_name_array</th>\n",
       "      <th>Acarbose</th>\n",
       "      <th>Glimepiride</th>\n",
       "      <th>Glipizide</th>\n",
       "      <th>Glyburide</th>\n",
       "      <th>Human_Insulin</th>\n",
       "      <th>Insulin_Human</th>\n",
       "      <th>Metformin_Hcl</th>\n",
       "      <th>Metformin_Hydrochloride</th>\n",
       "      <th>Nateglinide</th>\n",
       "      <th>Pioglitazone</th>\n",
       "      <th>Repaglinide</th>\n",
       "      <th>Rosiglitazone_Maleate</th>\n",
       "    </tr>\n",
       "  </thead>\n",
       "  <tbody>\n",
       "    <tr>\n",
       "      <th>0</th>\n",
       "      <td>88792836</td>\n",
       "      <td>100654011</td>\n",
       "      <td>Caucasian</td>\n",
       "      <td>Female</td>\n",
       "      <td>[70-80)</td>\n",
       "      <td>[75-100)</td>\n",
       "      <td>3</td>\n",
       "      <td>3</td>\n",
       "      <td>1</td>\n",
       "      <td>10</td>\n",
       "      <td>UN</td>\n",
       "      <td>Surgery-General</td>\n",
       "      <td>715</td>\n",
       "      <td>402|428</td>\n",
       "      <td>1</td>\n",
       "      <td>3</td>\n",
       "      <td>1</td>\n",
       "      <td>65</td>\n",
       "      <td>9</td>\n",
       "      <td>28</td>\n",
       "      <td>1</td>\n",
       "      <td>None</td>\n",
       "      <td>None</td>\n",
       "      <td>Ch</td>\n",
       "      <td>&lt;30</td>\n",
       "      <td>[Glipizide, Human Insulin]</td>\n",
       "      <td>0.0</td>\n",
       "      <td>0.0</td>\n",
       "      <td>1.0</td>\n",
       "      <td>0.0</td>\n",
       "      <td>1.0</td>\n",
       "      <td>0.0</td>\n",
       "      <td>0.0</td>\n",
       "      <td>0.0</td>\n",
       "      <td>0.0</td>\n",
       "      <td>0.0</td>\n",
       "      <td>0.0</td>\n",
       "      <td>0.0</td>\n",
       "    </tr>\n",
       "    <tr>\n",
       "      <th>1</th>\n",
       "      <td>88986678</td>\n",
       "      <td>58682736</td>\n",
       "      <td>Caucasian</td>\n",
       "      <td>Male</td>\n",
       "      <td>[80-90)</td>\n",
       "      <td>[50-75)</td>\n",
       "      <td>1</td>\n",
       "      <td>11</td>\n",
       "      <td>5</td>\n",
       "      <td>6</td>\n",
       "      <td>UN</td>\n",
       "      <td>Family/GeneralPractice</td>\n",
       "      <td>250.2</td>\n",
       "      <td>780|403</td>\n",
       "      <td>0</td>\n",
       "      <td>0</td>\n",
       "      <td>0</td>\n",
       "      <td>73</td>\n",
       "      <td>9</td>\n",
       "      <td>16</td>\n",
       "      <td>0</td>\n",
       "      <td>None</td>\n",
       "      <td>None</td>\n",
       "      <td>No</td>\n",
       "      <td>NO</td>\n",
       "      <td>[Human Insulin]</td>\n",
       "      <td>0.0</td>\n",
       "      <td>0.0</td>\n",
       "      <td>0.0</td>\n",
       "      <td>0.0</td>\n",
       "      <td>1.0</td>\n",
       "      <td>0.0</td>\n",
       "      <td>0.0</td>\n",
       "      <td>0.0</td>\n",
       "      <td>0.0</td>\n",
       "      <td>0.0</td>\n",
       "      <td>0.0</td>\n",
       "      <td>0.0</td>\n",
       "    </tr>\n",
       "    <tr>\n",
       "      <th>2</th>\n",
       "      <td>89032962</td>\n",
       "      <td>69250302</td>\n",
       "      <td>Caucasian</td>\n",
       "      <td>Male</td>\n",
       "      <td>[60-70)</td>\n",
       "      <td>[100-125)</td>\n",
       "      <td>1</td>\n",
       "      <td>1</td>\n",
       "      <td>7</td>\n",
       "      <td>2</td>\n",
       "      <td>CP</td>\n",
       "      <td>Cardiology</td>\n",
       "      <td>414</td>\n",
       "      <td>411|401</td>\n",
       "      <td>0</td>\n",
       "      <td>0</td>\n",
       "      <td>0</td>\n",
       "      <td>58</td>\n",
       "      <td>9</td>\n",
       "      <td>12</td>\n",
       "      <td>3</td>\n",
       "      <td>None</td>\n",
       "      <td>None</td>\n",
       "      <td>No</td>\n",
       "      <td>&gt;30</td>\n",
       "      <td>[Pioglitazone]</td>\n",
       "      <td>0.0</td>\n",
       "      <td>0.0</td>\n",
       "      <td>0.0</td>\n",
       "      <td>0.0</td>\n",
       "      <td>0.0</td>\n",
       "      <td>0.0</td>\n",
       "      <td>0.0</td>\n",
       "      <td>0.0</td>\n",
       "      <td>0.0</td>\n",
       "      <td>1.0</td>\n",
       "      <td>0.0</td>\n",
       "      <td>0.0</td>\n",
       "    </tr>\n",
       "    <tr>\n",
       "      <th>3</th>\n",
       "      <td>89277516</td>\n",
       "      <td>30950811</td>\n",
       "      <td>Caucasian</td>\n",
       "      <td>Male</td>\n",
       "      <td>[50-60)</td>\n",
       "      <td>[100-125)</td>\n",
       "      <td>3</td>\n",
       "      <td>1</td>\n",
       "      <td>1</td>\n",
       "      <td>2</td>\n",
       "      <td>BC</td>\n",
       "      <td>Surgery-General</td>\n",
       "      <td>196</td>\n",
       "      <td>199|250</td>\n",
       "      <td>0</td>\n",
       "      <td>0</td>\n",
       "      <td>0</td>\n",
       "      <td>5</td>\n",
       "      <td>7</td>\n",
       "      <td>11</td>\n",
       "      <td>4</td>\n",
       "      <td>None</td>\n",
       "      <td>None</td>\n",
       "      <td>No</td>\n",
       "      <td>&gt;30</td>\n",
       "      <td>[Glyburide]</td>\n",
       "      <td>0.0</td>\n",
       "      <td>0.0</td>\n",
       "      <td>0.0</td>\n",
       "      <td>1.0</td>\n",
       "      <td>0.0</td>\n",
       "      <td>0.0</td>\n",
       "      <td>0.0</td>\n",
       "      <td>0.0</td>\n",
       "      <td>0.0</td>\n",
       "      <td>0.0</td>\n",
       "      <td>0.0</td>\n",
       "      <td>0.0</td>\n",
       "    </tr>\n",
       "    <tr>\n",
       "      <th>4</th>\n",
       "      <td>89307582</td>\n",
       "      <td>58763808</td>\n",
       "      <td>Caucasian</td>\n",
       "      <td>Female</td>\n",
       "      <td>[70-80)</td>\n",
       "      <td>[75-100)</td>\n",
       "      <td>1</td>\n",
       "      <td>3</td>\n",
       "      <td>7</td>\n",
       "      <td>10</td>\n",
       "      <td>MC</td>\n",
       "      <td>InternalMedicine</td>\n",
       "      <td>250.4</td>\n",
       "      <td>403|276</td>\n",
       "      <td>0</td>\n",
       "      <td>0</td>\n",
       "      <td>0</td>\n",
       "      <td>63</td>\n",
       "      <td>9</td>\n",
       "      <td>20</td>\n",
       "      <td>0</td>\n",
       "      <td>None</td>\n",
       "      <td>None</td>\n",
       "      <td>No</td>\n",
       "      <td>&lt;30</td>\n",
       "      <td>[Glipizide]</td>\n",
       "      <td>0.0</td>\n",
       "      <td>0.0</td>\n",
       "      <td>1.0</td>\n",
       "      <td>0.0</td>\n",
       "      <td>0.0</td>\n",
       "      <td>0.0</td>\n",
       "      <td>0.0</td>\n",
       "      <td>0.0</td>\n",
       "      <td>0.0</td>\n",
       "      <td>0.0</td>\n",
       "      <td>0.0</td>\n",
       "      <td>0.0</td>\n",
       "    </tr>\n",
       "  </tbody>\n",
       "</table>\n",
       "</div>"
      ],
      "text/plain": [
       "   encounter_id  patient_nbr       race  gender      age     weight  \\\n",
       "0      88792836    100654011  Caucasian  Female  [70-80)   [75-100)   \n",
       "1      88986678     58682736  Caucasian    Male  [80-90)    [50-75)   \n",
       "2      89032962     69250302  Caucasian    Male  [60-70)  [100-125)   \n",
       "3      89277516     30950811  Caucasian    Male  [50-60)  [100-125)   \n",
       "4      89307582     58763808  Caucasian  Female  [70-80)   [75-100)   \n",
       "\n",
       "   admission_type_id  discharge_disposition_id  admission_source_id  \\\n",
       "0                  3                         3                    1   \n",
       "1                  1                        11                    5   \n",
       "2                  1                         1                    7   \n",
       "3                  3                         1                    1   \n",
       "4                  1                         3                    7   \n",
       "\n",
       "   time_in_hospital payer_code       medical_specialty primary_diagnosis_code  \\\n",
       "0                10         UN         Surgery-General                    715   \n",
       "1                 6         UN  Family/GeneralPractice                  250.2   \n",
       "2                 2         CP              Cardiology                    414   \n",
       "3                 2         BC         Surgery-General                    196   \n",
       "4                10         MC        InternalMedicine                  250.4   \n",
       "\n",
       "  other_diagnosis_codes  number_outpatient  number_inpatient  \\\n",
       "0               402|428                  1                 3   \n",
       "1               780|403                  0                 0   \n",
       "2               411|401                  0                 0   \n",
       "3               199|250                  0                 0   \n",
       "4               403|276                  0                 0   \n",
       "\n",
       "   number_emergency  num_lab_procedures  number_diagnoses  num_medications  \\\n",
       "0                 1                  65                 9               28   \n",
       "1                 0                  73                 9               16   \n",
       "2                 0                  58                 9               12   \n",
       "3                 0                   5                 7               11   \n",
       "4                 0                  63                 9               20   \n",
       "\n",
       "   num_procedures max_glu_serum A1Cresult change readmitted  \\\n",
       "0               1          None      None     Ch        <30   \n",
       "1               0          None      None     No         NO   \n",
       "2               3          None      None     No        >30   \n",
       "3               4          None      None     No        >30   \n",
       "4               0          None      None     No        <30   \n",
       "\n",
       "      generic_drug_name_array  Acarbose  Glimepiride  Glipizide  Glyburide  \\\n",
       "0  [Glipizide, Human Insulin]       0.0          0.0        1.0        0.0   \n",
       "1             [Human Insulin]       0.0          0.0        0.0        0.0   \n",
       "2              [Pioglitazone]       0.0          0.0        0.0        0.0   \n",
       "3                 [Glyburide]       0.0          0.0        0.0        1.0   \n",
       "4                 [Glipizide]       0.0          0.0        1.0        0.0   \n",
       "\n",
       "   Human_Insulin  Insulin_Human  Metformin_Hcl  Metformin_Hydrochloride  \\\n",
       "0            1.0            0.0            0.0                      0.0   \n",
       "1            1.0            0.0            0.0                      0.0   \n",
       "2            0.0            0.0            0.0                      0.0   \n",
       "3            0.0            0.0            0.0                      0.0   \n",
       "4            0.0            0.0            0.0                      0.0   \n",
       "\n",
       "   Nateglinide  Pioglitazone  Repaglinide  Rosiglitazone_Maleate  \n",
       "0          0.0           0.0          0.0                    0.0  \n",
       "1          0.0           0.0          0.0                    0.0  \n",
       "2          0.0           1.0          0.0                    0.0  \n",
       "3          0.0           0.0          0.0                    0.0  \n",
       "4          0.0           0.0          0.0                    0.0  "
      ]
     },
     "execution_count": 28,
     "metadata": {},
     "output_type": "execute_result"
    }
   ],
   "source": [
    "agg_drug_df.head()"
   ]
  },
  {
   "cell_type": "markdown",
   "metadata": {},
   "source": [
    "## Prepare Fields and Cast Dataset "
   ]
  },
  {
   "cell_type": "markdown",
   "metadata": {},
   "source": [
    "### Feature Selection"
   ]
  },
  {
   "cell_type": "markdown",
   "metadata": {},
   "source": [
    "**Question 5**: After you have aggregated the dataset to the right level, we can do feature selection (we will include the ndc_col_list, dummy column features too). In the block below, please select the categorical and numerical features that you will use for the model, so that we can create a dataset subset. \n",
    "\n",
    "For the payer_code and weight fields, please provide whether you think we should include/exclude the field in our model and give a justification/rationale for this based off of the statistics of the data. Feel free to use visualizations or summary statistics to support your choice."
   ]
  },
  {
   "cell_type": "code",
   "execution_count": 29,
   "metadata": {},
   "outputs": [
    {
     "data": {
      "text/html": [
       "<div>\n",
       "<style scoped>\n",
       "    .dataframe tbody tr th:only-of-type {\n",
       "        vertical-align: middle;\n",
       "    }\n",
       "\n",
       "    .dataframe tbody tr th {\n",
       "        vertical-align: top;\n",
       "    }\n",
       "\n",
       "    .dataframe thead th {\n",
       "        text-align: right;\n",
       "    }\n",
       "</style>\n",
       "<table border=\"1\" class=\"dataframe\">\n",
       "  <thead>\n",
       "    <tr style=\"text-align: right;\">\n",
       "      <th></th>\n",
       "      <th>encounter_id</th>\n",
       "      <th>patient_nbr</th>\n",
       "      <th>race</th>\n",
       "      <th>gender</th>\n",
       "      <th>age</th>\n",
       "      <th>weight</th>\n",
       "      <th>admission_type_id</th>\n",
       "      <th>discharge_disposition_id</th>\n",
       "      <th>admission_source_id</th>\n",
       "      <th>time_in_hospital</th>\n",
       "      <th>payer_code</th>\n",
       "      <th>medical_specialty</th>\n",
       "      <th>primary_diagnosis_code</th>\n",
       "      <th>other_diagnosis_codes</th>\n",
       "      <th>number_outpatient</th>\n",
       "      <th>number_inpatient</th>\n",
       "      <th>number_emergency</th>\n",
       "      <th>num_lab_procedures</th>\n",
       "      <th>number_diagnoses</th>\n",
       "      <th>num_medications</th>\n",
       "      <th>num_procedures</th>\n",
       "      <th>max_glu_serum</th>\n",
       "      <th>A1Cresult</th>\n",
       "      <th>change</th>\n",
       "      <th>readmitted</th>\n",
       "    </tr>\n",
       "  </thead>\n",
       "  <tbody>\n",
       "    <tr>\n",
       "      <th>count</th>\n",
       "      <td>9.240000e+02</td>\n",
       "      <td>9.240000e+02</td>\n",
       "      <td>924</td>\n",
       "      <td>924</td>\n",
       "      <td>924</td>\n",
       "      <td>924</td>\n",
       "      <td>924.000000</td>\n",
       "      <td>924.000000</td>\n",
       "      <td>924.000000</td>\n",
       "      <td>924.000000</td>\n",
       "      <td>924</td>\n",
       "      <td>924</td>\n",
       "      <td>924</td>\n",
       "      <td>924</td>\n",
       "      <td>924.000000</td>\n",
       "      <td>924.000000</td>\n",
       "      <td>924.000000</td>\n",
       "      <td>924.000000</td>\n",
       "      <td>924.000000</td>\n",
       "      <td>924.000000</td>\n",
       "      <td>924.000000</td>\n",
       "      <td>924</td>\n",
       "      <td>924</td>\n",
       "      <td>924</td>\n",
       "      <td>924</td>\n",
       "    </tr>\n",
       "    <tr>\n",
       "      <th>unique</th>\n",
       "      <td>NaN</td>\n",
       "      <td>NaN</td>\n",
       "      <td>4</td>\n",
       "      <td>2</td>\n",
       "      <td>10</td>\n",
       "      <td>8</td>\n",
       "      <td>NaN</td>\n",
       "      <td>NaN</td>\n",
       "      <td>NaN</td>\n",
       "      <td>NaN</td>\n",
       "      <td>11</td>\n",
       "      <td>8</td>\n",
       "      <td>189</td>\n",
       "      <td>624</td>\n",
       "      <td>NaN</td>\n",
       "      <td>NaN</td>\n",
       "      <td>NaN</td>\n",
       "      <td>NaN</td>\n",
       "      <td>NaN</td>\n",
       "      <td>NaN</td>\n",
       "      <td>NaN</td>\n",
       "      <td>1</td>\n",
       "      <td>4</td>\n",
       "      <td>2</td>\n",
       "      <td>3</td>\n",
       "    </tr>\n",
       "    <tr>\n",
       "      <th>top</th>\n",
       "      <td>NaN</td>\n",
       "      <td>NaN</td>\n",
       "      <td>Caucasian</td>\n",
       "      <td>Female</td>\n",
       "      <td>[70-80)</td>\n",
       "      <td>[75-100)</td>\n",
       "      <td>NaN</td>\n",
       "      <td>NaN</td>\n",
       "      <td>NaN</td>\n",
       "      <td>NaN</td>\n",
       "      <td>MC</td>\n",
       "      <td>Cardiology</td>\n",
       "      <td>414</td>\n",
       "      <td>401|250</td>\n",
       "      <td>NaN</td>\n",
       "      <td>NaN</td>\n",
       "      <td>NaN</td>\n",
       "      <td>NaN</td>\n",
       "      <td>NaN</td>\n",
       "      <td>NaN</td>\n",
       "      <td>NaN</td>\n",
       "      <td>None</td>\n",
       "      <td>None</td>\n",
       "      <td>No</td>\n",
       "      <td>NO</td>\n",
       "    </tr>\n",
       "    <tr>\n",
       "      <th>freq</th>\n",
       "      <td>NaN</td>\n",
       "      <td>NaN</td>\n",
       "      <td>881</td>\n",
       "      <td>464</td>\n",
       "      <td>273</td>\n",
       "      <td>383</td>\n",
       "      <td>NaN</td>\n",
       "      <td>NaN</td>\n",
       "      <td>NaN</td>\n",
       "      <td>NaN</td>\n",
       "      <td>463</td>\n",
       "      <td>328</td>\n",
       "      <td>90</td>\n",
       "      <td>39</td>\n",
       "      <td>NaN</td>\n",
       "      <td>NaN</td>\n",
       "      <td>NaN</td>\n",
       "      <td>NaN</td>\n",
       "      <td>NaN</td>\n",
       "      <td>NaN</td>\n",
       "      <td>NaN</td>\n",
       "      <td>924</td>\n",
       "      <td>830</td>\n",
       "      <td>664</td>\n",
       "      <td>437</td>\n",
       "    </tr>\n",
       "    <tr>\n",
       "      <th>mean</th>\n",
       "      <td>1.817010e+08</td>\n",
       "      <td>7.101416e+07</td>\n",
       "      <td>NaN</td>\n",
       "      <td>NaN</td>\n",
       "      <td>NaN</td>\n",
       "      <td>NaN</td>\n",
       "      <td>1.791126</td>\n",
       "      <td>2.425325</td>\n",
       "      <td>4.239177</td>\n",
       "      <td>4.351732</td>\n",
       "      <td>NaN</td>\n",
       "      <td>NaN</td>\n",
       "      <td>NaN</td>\n",
       "      <td>NaN</td>\n",
       "      <td>1.400433</td>\n",
       "      <td>0.435065</td>\n",
       "      <td>0.209957</td>\n",
       "      <td>52.857143</td>\n",
       "      <td>8.177489</td>\n",
       "      <td>16.081169</td>\n",
       "      <td>1.783550</td>\n",
       "      <td>NaN</td>\n",
       "      <td>NaN</td>\n",
       "      <td>NaN</td>\n",
       "      <td>NaN</td>\n",
       "    </tr>\n",
       "    <tr>\n",
       "      <th>std</th>\n",
       "      <td>8.789056e+07</td>\n",
       "      <td>3.149188e+07</td>\n",
       "      <td>NaN</td>\n",
       "      <td>NaN</td>\n",
       "      <td>NaN</td>\n",
       "      <td>NaN</td>\n",
       "      <td>0.900636</td>\n",
       "      <td>2.471911</td>\n",
       "      <td>2.893962</td>\n",
       "      <td>2.766204</td>\n",
       "      <td>NaN</td>\n",
       "      <td>NaN</td>\n",
       "      <td>NaN</td>\n",
       "      <td>NaN</td>\n",
       "      <td>2.075978</td>\n",
       "      <td>0.880205</td>\n",
       "      <td>0.697673</td>\n",
       "      <td>19.269856</td>\n",
       "      <td>1.464973</td>\n",
       "      <td>7.404057</td>\n",
       "      <td>1.892195</td>\n",
       "      <td>NaN</td>\n",
       "      <td>NaN</td>\n",
       "      <td>NaN</td>\n",
       "      <td>NaN</td>\n",
       "    </tr>\n",
       "    <tr>\n",
       "      <th>min</th>\n",
       "      <td>8.879284e+07</td>\n",
       "      <td>8.946900e+04</td>\n",
       "      <td>NaN</td>\n",
       "      <td>NaN</td>\n",
       "      <td>NaN</td>\n",
       "      <td>NaN</td>\n",
       "      <td>1.000000</td>\n",
       "      <td>1.000000</td>\n",
       "      <td>1.000000</td>\n",
       "      <td>1.000000</td>\n",
       "      <td>NaN</td>\n",
       "      <td>NaN</td>\n",
       "      <td>NaN</td>\n",
       "      <td>NaN</td>\n",
       "      <td>0.000000</td>\n",
       "      <td>0.000000</td>\n",
       "      <td>0.000000</td>\n",
       "      <td>1.000000</td>\n",
       "      <td>1.000000</td>\n",
       "      <td>1.000000</td>\n",
       "      <td>0.000000</td>\n",
       "      <td>NaN</td>\n",
       "      <td>NaN</td>\n",
       "      <td>NaN</td>\n",
       "      <td>NaN</td>\n",
       "    </tr>\n",
       "    <tr>\n",
       "      <th>25%</th>\n",
       "      <td>1.161904e+08</td>\n",
       "      <td>5.234716e+07</td>\n",
       "      <td>NaN</td>\n",
       "      <td>NaN</td>\n",
       "      <td>NaN</td>\n",
       "      <td>NaN</td>\n",
       "      <td>1.000000</td>\n",
       "      <td>1.000000</td>\n",
       "      <td>1.000000</td>\n",
       "      <td>2.000000</td>\n",
       "      <td>NaN</td>\n",
       "      <td>NaN</td>\n",
       "      <td>NaN</td>\n",
       "      <td>NaN</td>\n",
       "      <td>0.000000</td>\n",
       "      <td>0.000000</td>\n",
       "      <td>0.000000</td>\n",
       "      <td>39.750000</td>\n",
       "      <td>8.000000</td>\n",
       "      <td>11.000000</td>\n",
       "      <td>0.000000</td>\n",
       "      <td>NaN</td>\n",
       "      <td>NaN</td>\n",
       "      <td>NaN</td>\n",
       "      <td>NaN</td>\n",
       "    </tr>\n",
       "    <tr>\n",
       "      <th>50%</th>\n",
       "      <td>1.509350e+08</td>\n",
       "      <td>7.597012e+07</td>\n",
       "      <td>NaN</td>\n",
       "      <td>NaN</td>\n",
       "      <td>NaN</td>\n",
       "      <td>NaN</td>\n",
       "      <td>1.000000</td>\n",
       "      <td>1.000000</td>\n",
       "      <td>6.000000</td>\n",
       "      <td>4.000000</td>\n",
       "      <td>NaN</td>\n",
       "      <td>NaN</td>\n",
       "      <td>NaN</td>\n",
       "      <td>NaN</td>\n",
       "      <td>1.000000</td>\n",
       "      <td>0.000000</td>\n",
       "      <td>0.000000</td>\n",
       "      <td>55.000000</td>\n",
       "      <td>9.000000</td>\n",
       "      <td>15.000000</td>\n",
       "      <td>1.000000</td>\n",
       "      <td>NaN</td>\n",
       "      <td>NaN</td>\n",
       "      <td>NaN</td>\n",
       "      <td>NaN</td>\n",
       "    </tr>\n",
       "    <tr>\n",
       "      <th>75%</th>\n",
       "      <td>2.277805e+08</td>\n",
       "      <td>9.665521e+07</td>\n",
       "      <td>NaN</td>\n",
       "      <td>NaN</td>\n",
       "      <td>NaN</td>\n",
       "      <td>NaN</td>\n",
       "      <td>3.000000</td>\n",
       "      <td>3.000000</td>\n",
       "      <td>7.000000</td>\n",
       "      <td>6.000000</td>\n",
       "      <td>NaN</td>\n",
       "      <td>NaN</td>\n",
       "      <td>NaN</td>\n",
       "      <td>NaN</td>\n",
       "      <td>2.000000</td>\n",
       "      <td>1.000000</td>\n",
       "      <td>0.000000</td>\n",
       "      <td>69.000000</td>\n",
       "      <td>9.000000</td>\n",
       "      <td>20.000000</td>\n",
       "      <td>3.000000</td>\n",
       "      <td>NaN</td>\n",
       "      <td>NaN</td>\n",
       "      <td>NaN</td>\n",
       "      <td>NaN</td>\n",
       "    </tr>\n",
       "    <tr>\n",
       "      <th>max</th>\n",
       "      <td>4.396065e+08</td>\n",
       "      <td>1.842748e+08</td>\n",
       "      <td>NaN</td>\n",
       "      <td>NaN</td>\n",
       "      <td>NaN</td>\n",
       "      <td>NaN</td>\n",
       "      <td>5.000000</td>\n",
       "      <td>18.000000</td>\n",
       "      <td>17.000000</td>\n",
       "      <td>14.000000</td>\n",
       "      <td>NaN</td>\n",
       "      <td>NaN</td>\n",
       "      <td>NaN</td>\n",
       "      <td>NaN</td>\n",
       "      <td>15.000000</td>\n",
       "      <td>10.000000</td>\n",
       "      <td>11.000000</td>\n",
       "      <td>93.000000</td>\n",
       "      <td>9.000000</td>\n",
       "      <td>58.000000</td>\n",
       "      <td>6.000000</td>\n",
       "      <td>NaN</td>\n",
       "      <td>NaN</td>\n",
       "      <td>NaN</td>\n",
       "      <td>NaN</td>\n",
       "    </tr>\n",
       "  </tbody>\n",
       "</table>\n",
       "</div>"
      ],
      "text/plain": [
       "        encounter_id   patient_nbr       race  gender      age    weight  \\\n",
       "count   9.240000e+02  9.240000e+02        924     924      924       924   \n",
       "unique           NaN           NaN          4       2       10         8   \n",
       "top              NaN           NaN  Caucasian  Female  [70-80)  [75-100)   \n",
       "freq             NaN           NaN        881     464      273       383   \n",
       "mean    1.817010e+08  7.101416e+07        NaN     NaN      NaN       NaN   \n",
       "std     8.789056e+07  3.149188e+07        NaN     NaN      NaN       NaN   \n",
       "min     8.879284e+07  8.946900e+04        NaN     NaN      NaN       NaN   \n",
       "25%     1.161904e+08  5.234716e+07        NaN     NaN      NaN       NaN   \n",
       "50%     1.509350e+08  7.597012e+07        NaN     NaN      NaN       NaN   \n",
       "75%     2.277805e+08  9.665521e+07        NaN     NaN      NaN       NaN   \n",
       "max     4.396065e+08  1.842748e+08        NaN     NaN      NaN       NaN   \n",
       "\n",
       "        admission_type_id  discharge_disposition_id  admission_source_id  \\\n",
       "count          924.000000                924.000000           924.000000   \n",
       "unique                NaN                       NaN                  NaN   \n",
       "top                   NaN                       NaN                  NaN   \n",
       "freq                  NaN                       NaN                  NaN   \n",
       "mean             1.791126                  2.425325             4.239177   \n",
       "std              0.900636                  2.471911             2.893962   \n",
       "min              1.000000                  1.000000             1.000000   \n",
       "25%              1.000000                  1.000000             1.000000   \n",
       "50%              1.000000                  1.000000             6.000000   \n",
       "75%              3.000000                  3.000000             7.000000   \n",
       "max              5.000000                 18.000000            17.000000   \n",
       "\n",
       "        time_in_hospital payer_code medical_specialty primary_diagnosis_code  \\\n",
       "count         924.000000        924               924                    924   \n",
       "unique               NaN         11                 8                    189   \n",
       "top                  NaN         MC        Cardiology                    414   \n",
       "freq                 NaN        463               328                     90   \n",
       "mean            4.351732        NaN               NaN                    NaN   \n",
       "std             2.766204        NaN               NaN                    NaN   \n",
       "min             1.000000        NaN               NaN                    NaN   \n",
       "25%             2.000000        NaN               NaN                    NaN   \n",
       "50%             4.000000        NaN               NaN                    NaN   \n",
       "75%             6.000000        NaN               NaN                    NaN   \n",
       "max            14.000000        NaN               NaN                    NaN   \n",
       "\n",
       "       other_diagnosis_codes  number_outpatient  number_inpatient  \\\n",
       "count                    924         924.000000        924.000000   \n",
       "unique                   624                NaN               NaN   \n",
       "top                  401|250                NaN               NaN   \n",
       "freq                      39                NaN               NaN   \n",
       "mean                     NaN           1.400433          0.435065   \n",
       "std                      NaN           2.075978          0.880205   \n",
       "min                      NaN           0.000000          0.000000   \n",
       "25%                      NaN           0.000000          0.000000   \n",
       "50%                      NaN           1.000000          0.000000   \n",
       "75%                      NaN           2.000000          1.000000   \n",
       "max                      NaN          15.000000         10.000000   \n",
       "\n",
       "        number_emergency  num_lab_procedures  number_diagnoses  \\\n",
       "count         924.000000          924.000000        924.000000   \n",
       "unique               NaN                 NaN               NaN   \n",
       "top                  NaN                 NaN               NaN   \n",
       "freq                 NaN                 NaN               NaN   \n",
       "mean            0.209957           52.857143          8.177489   \n",
       "std             0.697673           19.269856          1.464973   \n",
       "min             0.000000            1.000000          1.000000   \n",
       "25%             0.000000           39.750000          8.000000   \n",
       "50%             0.000000           55.000000          9.000000   \n",
       "75%             0.000000           69.000000          9.000000   \n",
       "max            11.000000           93.000000          9.000000   \n",
       "\n",
       "        num_medications  num_procedures max_glu_serum A1Cresult change  \\\n",
       "count        924.000000      924.000000           924       924    924   \n",
       "unique              NaN             NaN             1         4      2   \n",
       "top                 NaN             NaN          None      None     No   \n",
       "freq                NaN             NaN           924       830    664   \n",
       "mean          16.081169        1.783550           NaN       NaN    NaN   \n",
       "std            7.404057        1.892195           NaN       NaN    NaN   \n",
       "min            1.000000        0.000000           NaN       NaN    NaN   \n",
       "25%           11.000000        0.000000           NaN       NaN    NaN   \n",
       "50%           15.000000        1.000000           NaN       NaN    NaN   \n",
       "75%           20.000000        3.000000           NaN       NaN    NaN   \n",
       "max           58.000000        6.000000           NaN       NaN    NaN   \n",
       "\n",
       "       readmitted  \n",
       "count         924  \n",
       "unique          3  \n",
       "top            NO  \n",
       "freq          437  \n",
       "mean          NaN  \n",
       "std           NaN  \n",
       "min           NaN  \n",
       "25%           NaN  \n",
       "50%           NaN  \n",
       "75%           NaN  \n",
       "max           NaN  "
      ]
     },
     "execution_count": 29,
     "metadata": {},
     "output_type": "execute_result"
    }
   ],
   "source": [
    "agg_drug_df.drop(ndc_col_list + ['generic_drug_name_array'], axis=1).describe(include='all')"
   ]
  },
  {
   "cell_type": "code",
   "execution_count": 30,
   "metadata": {},
   "outputs": [
    {
     "name": "stdout",
     "output_type": "stream",
     "text": [
      "Counters for admission_source_id 17=Null\n"
     ]
    },
    {
     "data": {
      "text/plain": [
       "7     429\n",
       "1     397\n",
       "5      44\n",
       "6      34\n",
       "4      19\n",
       "17      1\n",
       "Name: admission_source_id, dtype: int64"
      ]
     },
     "execution_count": 30,
     "metadata": {},
     "output_type": "execute_result"
    }
   ],
   "source": [
    "print('Counters for admission_source_id', '17=Null')\n",
    "agg_drug_df['admission_source_id'].value_counts(dropna=False)"
   ]
  },
  {
   "cell_type": "code",
   "execution_count": 31,
   "metadata": {},
   "outputs": [
    {
     "name": "stdout",
     "output_type": "stream",
     "text": [
      "Counters for discharge_disposition_id 18=Null\n"
     ]
    },
    {
     "data": {
      "text/plain": [
       "1     613\n",
       "6     157\n",
       "3     111\n",
       "5      12\n",
       "13      9\n",
       "11      6\n",
       "4       5\n",
       "7       4\n",
       "2       4\n",
       "18      3\n",
       "Name: discharge_disposition_id, dtype: int64"
      ]
     },
     "execution_count": 31,
     "metadata": {},
     "output_type": "execute_result"
    }
   ],
   "source": [
    "print('Counters for discharge_disposition_id', '18=Null')\n",
    "agg_drug_df['discharge_disposition_id'].value_counts(dropna=False)"
   ]
  },
  {
   "cell_type": "code",
   "execution_count": 32,
   "metadata": {},
   "outputs": [
    {
     "name": "stdout",
     "output_type": "stream",
     "text": [
      "Counters for admission_type_id 5/6=Null\n"
     ]
    },
    {
     "data": {
      "text/plain": [
       "1    488\n",
       "3    292\n",
       "2    143\n",
       "5      1\n",
       "Name: admission_type_id, dtype: int64"
      ]
     },
     "execution_count": 32,
     "metadata": {},
     "output_type": "execute_result"
    }
   ],
   "source": [
    "print('Counters for admission_type_id', '5/6=Null')\n",
    "agg_drug_df['admission_type_id'].value_counts(dropna=False)"
   ]
  },
  {
   "cell_type": "code",
   "execution_count": 33,
   "metadata": {},
   "outputs": [
    {
     "name": "stdout",
     "output_type": "stream",
     "text": [
      "Counters for primary_diagnosis_code\n",
      "Could be a good idea to agregate diagnosis codes\n"
     ]
    },
    {
     "data": {
      "text/plain": [
       "414    90\n",
       "715    82\n",
       "427    56\n",
       "428    53\n",
       "786    45\n",
       "       ..\n",
       "641     1\n",
       "728     1\n",
       "201     1\n",
       "274     1\n",
       "401     1\n",
       "Name: primary_diagnosis_code, Length: 189, dtype: int64"
      ]
     },
     "execution_count": 33,
     "metadata": {},
     "output_type": "execute_result"
    }
   ],
   "source": [
    "print('Counters for primary_diagnosis_code')\n",
    "print('Could be a good idea to agregate diagnosis codes')\n",
    "agg_drug_df['primary_diagnosis_code'].value_counts(dropna = False)"
   ]
  },
  {
   "cell_type": "markdown",
   "metadata": {},
   "source": [
    "Student response: \n",
    "* **'weight' is excluded because of high percent of null values (97%).**\n",
    "* **'payer_code' is excluded because of high percent of null values (37%) and probably will not be relevant.**\n",
    "* **'medical_specialty' is excluded because of high percent of null values (48%). Maybe I could be relevant for prediction but some default value should be defined.**\n",
    "* **'other_diagnosis_codes' is excluded because of the high cardinality (>600 unique values). On the other 'primary_diagnosis_code' should be included since it could be more relevant.**     \n",
    "\n"
   ]
  },
  {
   "cell_type": "code",
   "execution_count": 34,
   "metadata": {},
   "outputs": [],
   "source": [
    "'''\n",
    "Please update the list to include the features you think are appropriate for the model \n",
    "and the field that we will be using to train the model. There are three required demographic features for the model \n",
    "and I have inserted a list with them already in the categorical list. \n",
    "These will be required for later steps when analyzing data splits and model biases.\n",
    "'''\n",
    "required_demo_col_list = ['race', 'gender', 'age']\n",
    "student_categorical_col_list = [ 'admission_type_id', 'discharge_disposition_id', 'admission_source_id',\n",
    "    'primary_diagnosis_code', 'max_glu_serum', 'A1Cresult', 'change', 'readmitted' \n",
    "                               ] + required_demo_col_list + ndc_col_list\n",
    "student_numerical_col_list = [ 'number_outpatient', 'number_inpatient', 'number_emergency',\n",
    "    'num_lab_procedures', 'number_diagnoses', 'num_medications', 'num_procedures' ]\n",
    "PREDICTOR_FIELD = 'time_in_hospital'"
   ]
  },
  {
   "cell_type": "code",
   "execution_count": 35,
   "metadata": {},
   "outputs": [],
   "source": [
    "def select_model_features(df, categorical_col_list, numerical_col_list, PREDICTOR_FIELD, grouping_key='patient_nbr'):\n",
    "    selected_col_list = [grouping_key] + [PREDICTOR_FIELD] + categorical_col_list + numerical_col_list   \n",
    "    return agg_drug_df[selected_col_list]\n"
   ]
  },
  {
   "cell_type": "code",
   "execution_count": 36,
   "metadata": {},
   "outputs": [],
   "source": [
    "selected_features_df = select_model_features(agg_drug_df, student_categorical_col_list, student_numerical_col_list,\n",
    "                                            PREDICTOR_FIELD)"
   ]
  },
  {
   "cell_type": "code",
   "execution_count": 37,
   "metadata": {},
   "outputs": [
    {
     "data": {
      "text/html": [
       "<div>\n",
       "<style scoped>\n",
       "    .dataframe tbody tr th:only-of-type {\n",
       "        vertical-align: middle;\n",
       "    }\n",
       "\n",
       "    .dataframe tbody tr th {\n",
       "        vertical-align: top;\n",
       "    }\n",
       "\n",
       "    .dataframe thead th {\n",
       "        text-align: right;\n",
       "    }\n",
       "</style>\n",
       "<table border=\"1\" class=\"dataframe\">\n",
       "  <thead>\n",
       "    <tr style=\"text-align: right;\">\n",
       "      <th></th>\n",
       "      <th>patient_nbr</th>\n",
       "      <th>time_in_hospital</th>\n",
       "      <th>admission_type_id</th>\n",
       "      <th>discharge_disposition_id</th>\n",
       "      <th>admission_source_id</th>\n",
       "      <th>primary_diagnosis_code</th>\n",
       "      <th>max_glu_serum</th>\n",
       "      <th>A1Cresult</th>\n",
       "      <th>change</th>\n",
       "      <th>readmitted</th>\n",
       "      <th>race</th>\n",
       "      <th>gender</th>\n",
       "      <th>age</th>\n",
       "      <th>Acarbose</th>\n",
       "      <th>Glimepiride</th>\n",
       "      <th>Glipizide</th>\n",
       "      <th>Glyburide</th>\n",
       "      <th>Human_Insulin</th>\n",
       "      <th>Insulin_Human</th>\n",
       "      <th>Metformin_Hcl</th>\n",
       "      <th>Metformin_Hydrochloride</th>\n",
       "      <th>Nateglinide</th>\n",
       "      <th>Pioglitazone</th>\n",
       "      <th>Repaglinide</th>\n",
       "      <th>Rosiglitazone_Maleate</th>\n",
       "      <th>number_outpatient</th>\n",
       "      <th>number_inpatient</th>\n",
       "      <th>number_emergency</th>\n",
       "      <th>num_lab_procedures</th>\n",
       "      <th>number_diagnoses</th>\n",
       "      <th>num_medications</th>\n",
       "      <th>num_procedures</th>\n",
       "    </tr>\n",
       "  </thead>\n",
       "  <tbody>\n",
       "    <tr>\n",
       "      <th>0</th>\n",
       "      <td>100654011</td>\n",
       "      <td>10</td>\n",
       "      <td>3</td>\n",
       "      <td>3</td>\n",
       "      <td>1</td>\n",
       "      <td>715</td>\n",
       "      <td>None</td>\n",
       "      <td>None</td>\n",
       "      <td>Ch</td>\n",
       "      <td>&lt;30</td>\n",
       "      <td>Caucasian</td>\n",
       "      <td>Female</td>\n",
       "      <td>[70-80)</td>\n",
       "      <td>0.0</td>\n",
       "      <td>0.0</td>\n",
       "      <td>1.0</td>\n",
       "      <td>0.0</td>\n",
       "      <td>1.0</td>\n",
       "      <td>0.0</td>\n",
       "      <td>0.0</td>\n",
       "      <td>0.0</td>\n",
       "      <td>0.0</td>\n",
       "      <td>0.0</td>\n",
       "      <td>0.0</td>\n",
       "      <td>0.0</td>\n",
       "      <td>1</td>\n",
       "      <td>3</td>\n",
       "      <td>1</td>\n",
       "      <td>65</td>\n",
       "      <td>9</td>\n",
       "      <td>28</td>\n",
       "      <td>1</td>\n",
       "    </tr>\n",
       "    <tr>\n",
       "      <th>1</th>\n",
       "      <td>58682736</td>\n",
       "      <td>6</td>\n",
       "      <td>1</td>\n",
       "      <td>11</td>\n",
       "      <td>5</td>\n",
       "      <td>250.2</td>\n",
       "      <td>None</td>\n",
       "      <td>None</td>\n",
       "      <td>No</td>\n",
       "      <td>NO</td>\n",
       "      <td>Caucasian</td>\n",
       "      <td>Male</td>\n",
       "      <td>[80-90)</td>\n",
       "      <td>0.0</td>\n",
       "      <td>0.0</td>\n",
       "      <td>0.0</td>\n",
       "      <td>0.0</td>\n",
       "      <td>1.0</td>\n",
       "      <td>0.0</td>\n",
       "      <td>0.0</td>\n",
       "      <td>0.0</td>\n",
       "      <td>0.0</td>\n",
       "      <td>0.0</td>\n",
       "      <td>0.0</td>\n",
       "      <td>0.0</td>\n",
       "      <td>0</td>\n",
       "      <td>0</td>\n",
       "      <td>0</td>\n",
       "      <td>73</td>\n",
       "      <td>9</td>\n",
       "      <td>16</td>\n",
       "      <td>0</td>\n",
       "    </tr>\n",
       "    <tr>\n",
       "      <th>2</th>\n",
       "      <td>69250302</td>\n",
       "      <td>2</td>\n",
       "      <td>1</td>\n",
       "      <td>1</td>\n",
       "      <td>7</td>\n",
       "      <td>414</td>\n",
       "      <td>None</td>\n",
       "      <td>None</td>\n",
       "      <td>No</td>\n",
       "      <td>&gt;30</td>\n",
       "      <td>Caucasian</td>\n",
       "      <td>Male</td>\n",
       "      <td>[60-70)</td>\n",
       "      <td>0.0</td>\n",
       "      <td>0.0</td>\n",
       "      <td>0.0</td>\n",
       "      <td>0.0</td>\n",
       "      <td>0.0</td>\n",
       "      <td>0.0</td>\n",
       "      <td>0.0</td>\n",
       "      <td>0.0</td>\n",
       "      <td>0.0</td>\n",
       "      <td>1.0</td>\n",
       "      <td>0.0</td>\n",
       "      <td>0.0</td>\n",
       "      <td>0</td>\n",
       "      <td>0</td>\n",
       "      <td>0</td>\n",
       "      <td>58</td>\n",
       "      <td>9</td>\n",
       "      <td>12</td>\n",
       "      <td>3</td>\n",
       "    </tr>\n",
       "    <tr>\n",
       "      <th>3</th>\n",
       "      <td>30950811</td>\n",
       "      <td>2</td>\n",
       "      <td>3</td>\n",
       "      <td>1</td>\n",
       "      <td>1</td>\n",
       "      <td>196</td>\n",
       "      <td>None</td>\n",
       "      <td>None</td>\n",
       "      <td>No</td>\n",
       "      <td>&gt;30</td>\n",
       "      <td>Caucasian</td>\n",
       "      <td>Male</td>\n",
       "      <td>[50-60)</td>\n",
       "      <td>0.0</td>\n",
       "      <td>0.0</td>\n",
       "      <td>0.0</td>\n",
       "      <td>1.0</td>\n",
       "      <td>0.0</td>\n",
       "      <td>0.0</td>\n",
       "      <td>0.0</td>\n",
       "      <td>0.0</td>\n",
       "      <td>0.0</td>\n",
       "      <td>0.0</td>\n",
       "      <td>0.0</td>\n",
       "      <td>0.0</td>\n",
       "      <td>0</td>\n",
       "      <td>0</td>\n",
       "      <td>0</td>\n",
       "      <td>5</td>\n",
       "      <td>7</td>\n",
       "      <td>11</td>\n",
       "      <td>4</td>\n",
       "    </tr>\n",
       "    <tr>\n",
       "      <th>4</th>\n",
       "      <td>58763808</td>\n",
       "      <td>10</td>\n",
       "      <td>1</td>\n",
       "      <td>3</td>\n",
       "      <td>7</td>\n",
       "      <td>250.4</td>\n",
       "      <td>None</td>\n",
       "      <td>None</td>\n",
       "      <td>No</td>\n",
       "      <td>&lt;30</td>\n",
       "      <td>Caucasian</td>\n",
       "      <td>Female</td>\n",
       "      <td>[70-80)</td>\n",
       "      <td>0.0</td>\n",
       "      <td>0.0</td>\n",
       "      <td>1.0</td>\n",
       "      <td>0.0</td>\n",
       "      <td>0.0</td>\n",
       "      <td>0.0</td>\n",
       "      <td>0.0</td>\n",
       "      <td>0.0</td>\n",
       "      <td>0.0</td>\n",
       "      <td>0.0</td>\n",
       "      <td>0.0</td>\n",
       "      <td>0.0</td>\n",
       "      <td>0</td>\n",
       "      <td>0</td>\n",
       "      <td>0</td>\n",
       "      <td>63</td>\n",
       "      <td>9</td>\n",
       "      <td>20</td>\n",
       "      <td>0</td>\n",
       "    </tr>\n",
       "  </tbody>\n",
       "</table>\n",
       "</div>"
      ],
      "text/plain": [
       "   patient_nbr  time_in_hospital  admission_type_id  discharge_disposition_id  \\\n",
       "0    100654011                10                  3                         3   \n",
       "1     58682736                 6                  1                        11   \n",
       "2     69250302                 2                  1                         1   \n",
       "3     30950811                 2                  3                         1   \n",
       "4     58763808                10                  1                         3   \n",
       "\n",
       "   admission_source_id primary_diagnosis_code max_glu_serum A1Cresult change  \\\n",
       "0                    1                    715          None      None     Ch   \n",
       "1                    5                  250.2          None      None     No   \n",
       "2                    7                    414          None      None     No   \n",
       "3                    1                    196          None      None     No   \n",
       "4                    7                  250.4          None      None     No   \n",
       "\n",
       "  readmitted       race  gender      age  Acarbose  Glimepiride  Glipizide  \\\n",
       "0        <30  Caucasian  Female  [70-80)       0.0          0.0        1.0   \n",
       "1         NO  Caucasian    Male  [80-90)       0.0          0.0        0.0   \n",
       "2        >30  Caucasian    Male  [60-70)       0.0          0.0        0.0   \n",
       "3        >30  Caucasian    Male  [50-60)       0.0          0.0        0.0   \n",
       "4        <30  Caucasian  Female  [70-80)       0.0          0.0        1.0   \n",
       "\n",
       "   Glyburide  Human_Insulin  Insulin_Human  Metformin_Hcl  \\\n",
       "0        0.0            1.0            0.0            0.0   \n",
       "1        0.0            1.0            0.0            0.0   \n",
       "2        0.0            0.0            0.0            0.0   \n",
       "3        1.0            0.0            0.0            0.0   \n",
       "4        0.0            0.0            0.0            0.0   \n",
       "\n",
       "   Metformin_Hydrochloride  Nateglinide  Pioglitazone  Repaglinide  \\\n",
       "0                      0.0          0.0           0.0          0.0   \n",
       "1                      0.0          0.0           0.0          0.0   \n",
       "2                      0.0          0.0           1.0          0.0   \n",
       "3                      0.0          0.0           0.0          0.0   \n",
       "4                      0.0          0.0           0.0          0.0   \n",
       "\n",
       "   Rosiglitazone_Maleate  number_outpatient  number_inpatient  \\\n",
       "0                    0.0                  1                 3   \n",
       "1                    0.0                  0                 0   \n",
       "2                    0.0                  0                 0   \n",
       "3                    0.0                  0                 0   \n",
       "4                    0.0                  0                 0   \n",
       "\n",
       "   number_emergency  num_lab_procedures  number_diagnoses  num_medications  \\\n",
       "0                 1                  65                 9               28   \n",
       "1                 0                  73                 9               16   \n",
       "2                 0                  58                 9               12   \n",
       "3                 0                   5                 7               11   \n",
       "4                 0                  63                 9               20   \n",
       "\n",
       "   num_procedures  \n",
       "0               1  \n",
       "1               0  \n",
       "2               3  \n",
       "3               4  \n",
       "4               0  "
      ]
     },
     "execution_count": 37,
     "metadata": {},
     "output_type": "execute_result"
    }
   ],
   "source": [
    "selected_features_df.head()"
   ]
  },
  {
   "cell_type": "markdown",
   "metadata": {},
   "source": [
    "### Preprocess Dataset - Casting and Imputing  "
   ]
  },
  {
   "cell_type": "markdown",
   "metadata": {},
   "source": [
    "We will cast and impute the dataset before splitting so that we do not have to repeat these steps across the splits in the next step. For imputing, there can be deeper analysis into which features to impute and how to impute but for the sake of time, we are taking a general strategy of imputing zero for only numerical features. \n",
    "\n",
    "OPTIONAL: What are some potential issues with this approach? Can you recommend a better way and also implement it?"
   ]
  },
  {
   "cell_type": "code",
   "execution_count": 38,
   "metadata": {},
   "outputs": [
    {
     "name": "stderr",
     "output_type": "stream",
     "text": [
      "/home/workspace/starter_code/utils.py:29: SettingWithCopyWarning: \n",
      "A value is trying to be set on a copy of a slice from a DataFrame.\n",
      "Try using .loc[row_indexer,col_indexer] = value instead\n",
      "\n",
      "See the caveats in the documentation: https://pandas.pydata.org/pandas-docs/stable/user_guide/indexing.html#returning-a-view-versus-a-copy\n",
      "  df[predictor] = df[predictor].astype(float)\n",
      "/home/workspace/starter_code/utils.py:31: SettingWithCopyWarning: \n",
      "A value is trying to be set on a copy of a slice from a DataFrame.\n",
      "Try using .loc[row_indexer,col_indexer] = value instead\n",
      "\n",
      "See the caveats in the documentation: https://pandas.pydata.org/pandas-docs/stable/user_guide/indexing.html#returning-a-view-versus-a-copy\n",
      "  df[c] = cast_df(df, c, d_type=str)\n",
      "/home/workspace/starter_code/utils.py:33: SettingWithCopyWarning: \n",
      "A value is trying to be set on a copy of a slice from a DataFrame.\n",
      "Try using .loc[row_indexer,col_indexer] = value instead\n",
      "\n",
      "See the caveats in the documentation: https://pandas.pydata.org/pandas-docs/stable/user_guide/indexing.html#returning-a-view-versus-a-copy\n",
      "  df[numerical_column] = impute_df(df, numerical_column, numerical_impute_value)\n"
     ]
    }
   ],
   "source": [
    "processed_df = preprocess_df(selected_features_df, student_categorical_col_list, \n",
    "        student_numerical_col_list, PREDICTOR_FIELD, categorical_impute_value='nan', numerical_impute_value=0)"
   ]
  },
  {
   "cell_type": "markdown",
   "metadata": {},
   "source": [
    "## Split Dataset into Train, Validation, and Test Partitions"
   ]
  },
  {
   "cell_type": "markdown",
   "metadata": {},
   "source": [
    "**Question 6**: In order to prepare the data for being trained and evaluated by a deep learning model, we will split the dataset into three partitions, with the validation partition used for optimizing the model hyperparameters during training. One of the key parts is that we need to be sure that the data does not accidently leak across partitions.\n",
    "\n",
    "Please complete the function below to split the input dataset into three partitions(train, validation, test) with the following requirements.\n",
    "- Approximately 60%/20%/20%  train/validation/test split\n",
    "- Randomly sample different patients into each data partition\n",
    "- **IMPORTANT** Make sure that a patient's data is not in more than one partition, so that we can avoid possible data leakage.\n",
    "- Make sure that the total number of unique patients across the splits is equal to the total number of unique patients in the original dataset\n",
    "- Total number of rows in original dataset = sum of rows across all three dataset partitions"
   ]
  },
  {
   "cell_type": "code",
   "execution_count": 39,
   "metadata": {},
   "outputs": [],
   "source": [
    "%autoreload 2\n",
    "from student_utils import patient_dataset_splitter\n",
    "d_train, d_val, d_test = patient_dataset_splitter(processed_df, 'patient_nbr')"
   ]
  },
  {
   "cell_type": "code",
   "execution_count": 40,
   "metadata": {},
   "outputs": [
    {
     "name": "stdout",
     "output_type": "stream",
     "text": [
      "Test passed for patient data leakage!\n"
     ]
    }
   ],
   "source": [
    "assert set(d_train['patient_nbr']) & set(d_val['patient_nbr']) == set()\n",
    "assert set(d_train['patient_nbr']) & set(d_test['patient_nbr']) == set()\n",
    "print(\"Test passed for patient data leakage!\")"
   ]
  },
  {
   "cell_type": "code",
   "execution_count": 41,
   "metadata": {},
   "outputs": [
    {
     "name": "stdout",
     "output_type": "stream",
     "text": [
      "#Train: 554 #Val: 185 #Test: 185\n",
      "Test passed for number of total rows equal!\n"
     ]
    }
   ],
   "source": [
    "print('#Train:', len(d_train), '#Val:', len(d_val), '#Test:', len(d_test))\n",
    "assert len(d_train) + len(d_val) + len(d_test) == len(processed_df)\n",
    "print(\"Test passed for number of total rows equal!\")"
   ]
  },
  {
   "cell_type": "code",
   "execution_count": 42,
   "metadata": {},
   "outputs": [
    {
     "name": "stdout",
     "output_type": "stream",
     "text": [
      "Test passed for number of unique patients being equal!\n"
     ]
    }
   ],
   "source": [
    "assert (d_train['patient_nbr'].nunique() + d_val['patient_nbr'].nunique() + d_test['patient_nbr'].nunique()) == agg_drug_df['patient_nbr'].nunique()\n",
    "print(\"Test passed for number of unique patients being equal!\")"
   ]
  },
  {
   "cell_type": "markdown",
   "metadata": {},
   "source": [
    "## Demographic Representation Analysis of Split"
   ]
  },
  {
   "cell_type": "markdown",
   "metadata": {},
   "source": [
    "After the split, we should check to see the distribution of key features/groups and make sure that there is representative samples across the partitions. The show_group_stats_viz function in the utils.py file can be used to group and visualize different groups and dataframe partitions."
   ]
  },
  {
   "cell_type": "markdown",
   "metadata": {},
   "source": [
    "### Label Distribution Across Partitions"
   ]
  },
  {
   "cell_type": "markdown",
   "metadata": {},
   "source": [
    "Below you can see the distributution of the label across your splits. Are the histogram distribution shapes similar across partitions?"
   ]
  },
  {
   "cell_type": "code",
   "execution_count": 43,
   "metadata": {},
   "outputs": [
    {
     "name": "stdout",
     "output_type": "stream",
     "text": [
      "time_in_hospital\n",
      "1.0      95\n",
      "2.0     159\n",
      "3.0     188\n",
      "4.0     145\n",
      "5.0      87\n",
      "6.0      74\n",
      "7.0      54\n",
      "8.0      37\n",
      "9.0      27\n",
      "10.0     15\n",
      "11.0     15\n",
      "12.0     14\n",
      "13.0     11\n",
      "14.0      3\n",
      "dtype: int64\n",
      "AxesSubplot(0.125,0.125;0.775x0.755)\n"
     ]
    },
    {
     "data": {
      "image/png": "[encoded data removed]",
      "text/plain": [
       "<Figure size 432x288 with 1 Axes>"
      ]
     },
     "metadata": {
      "needs_background": "light"
     },
     "output_type": "display_data"
    }
   ],
   "source": [
    "show_group_stats_viz(processed_df, PREDICTOR_FIELD)"
   ]
  },
  {
   "cell_type": "code",
   "execution_count": 44,
   "metadata": {},
   "outputs": [
    {
     "name": "stdout",
     "output_type": "stream",
     "text": [
      "time_in_hospital\n",
      "1.0      65\n",
      "2.0      94\n",
      "3.0     109\n",
      "4.0      82\n",
      "5.0      51\n",
      "6.0      40\n",
      "7.0      32\n",
      "8.0      26\n",
      "9.0      13\n",
      "10.0     10\n",
      "11.0     11\n",
      "12.0     13\n",
      "13.0      7\n",
      "14.0      1\n",
      "dtype: int64\n",
      "AxesSubplot(0.125,0.125;0.775x0.755)\n"
     ]
    },
    {
     "data": {
      "image/png": "[encoded data removed]",
      "text/plain": [
       "<Figure size 432x288 with 1 Axes>"
      ]
     },
     "metadata": {
      "needs_background": "light"
     },
     "output_type": "display_data"
    }
   ],
   "source": [
    "show_group_stats_viz(d_train, PREDICTOR_FIELD)"
   ]
  },
  {
   "cell_type": "code",
   "execution_count": 45,
   "metadata": {},
   "outputs": [
    {
     "name": "stdout",
     "output_type": "stream",
     "text": [
      "time_in_hospital\n",
      "1.0     15\n",
      "2.0     32\n",
      "3.0     40\n",
      "4.0     33\n",
      "5.0     17\n",
      "6.0     18\n",
      "7.0      8\n",
      "8.0      6\n",
      "9.0      8\n",
      "10.0     3\n",
      "11.0     2\n",
      "13.0     2\n",
      "14.0     1\n",
      "dtype: int64\n",
      "AxesSubplot(0.125,0.125;0.775x0.755)\n"
     ]
    },
    {
     "data": {
      "image/png": "[encoded data removed]",
      "text/plain": [
       "<Figure size 432x288 with 1 Axes>"
      ]
     },
     "metadata": {
      "needs_background": "light"
     },
     "output_type": "display_data"
    }
   ],
   "source": [
    "show_group_stats_viz(d_test, PREDICTOR_FIELD)"
   ]
  },
  {
   "cell_type": "markdown",
   "metadata": {},
   "source": [
    "**Label seems well distributed accross partitions.**"
   ]
  },
  {
   "cell_type": "markdown",
   "metadata": {},
   "source": [
    "## Demographic Group Analysis"
   ]
  },
  {
   "cell_type": "markdown",
   "metadata": {},
   "source": [
    "We should check that our partitions/splits of the dataset are similar in terms of their demographic profiles. Below you can see how we might visualize and analyze the full dataset vs. the partitions."
   ]
  },
  {
   "cell_type": "code",
   "execution_count": 46,
   "metadata": {},
   "outputs": [
    {
     "name": "stdout",
     "output_type": "stream",
     "text": [
      "gender\n",
      "Female    464\n",
      "Male      460\n",
      "dtype: int64\n",
      "AxesSubplot(0.125,0.125;0.775x0.755)\n"
     ]
    },
    {
     "data": {
      "image/png": "[encoded data removed]",
      "text/plain": [
       "<Figure size 432x288 with 1 Axes>"
      ]
     },
     "metadata": {
      "needs_background": "light"
     },
     "output_type": "display_data"
    }
   ],
   "source": [
    "# Full dataset before splitting\n",
    "patient_demo_features = ['race', 'gender', 'age', 'patient_nbr']\n",
    "patient_group_analysis_df = processed_df[patient_demo_features].groupby('patient_nbr').head(1).reset_index(drop=True)\n",
    "show_group_stats_viz(patient_group_analysis_df, 'gender')"
   ]
  },
  {
   "cell_type": "code",
   "execution_count": 47,
   "metadata": {},
   "outputs": [
    {
     "name": "stdout",
     "output_type": "stream",
     "text": [
      "gender\n",
      "Female    281\n",
      "Male      273\n",
      "dtype: int64\n",
      "AxesSubplot(0.125,0.125;0.775x0.755)\n"
     ]
    },
    {
     "data": {
      "image/png": "[encoded data removed]",
      "text/plain": [
       "<Figure size 432x288 with 1 Axes>"
      ]
     },
     "metadata": {
      "needs_background": "light"
     },
     "output_type": "display_data"
    }
   ],
   "source": [
    "# Training partition\n",
    "show_group_stats_viz(d_train, 'gender')"
   ]
  },
  {
   "cell_type": "code",
   "execution_count": 48,
   "metadata": {},
   "outputs": [
    {
     "name": "stdout",
     "output_type": "stream",
     "text": [
      "gender\n",
      "Female     83\n",
      "Male      102\n",
      "dtype: int64\n",
      "AxesSubplot(0.125,0.125;0.775x0.755)\n"
     ]
    },
    {
     "data": {
      "image/png": "[encoded data removed]",
      "text/plain": [
       "<Figure size 432x288 with 1 Axes>"
      ]
     },
     "metadata": {
      "needs_background": "light"
     },
     "output_type": "display_data"
    }
   ],
   "source": [
    "# Test partition\n",
    "show_group_stats_viz(d_test, 'gender')"
   ]
  },
  {
   "cell_type": "code",
   "execution_count": 49,
   "metadata": {},
   "outputs": [
    {
     "name": "stdout",
     "output_type": "stream",
     "text": [
      "race\n",
      "AfricanAmerican     16\n",
      "Caucasian          531\n",
      "Other                7\n",
      "dtype: int64\n",
      "AxesSubplot(0.125,0.125;0.775x0.755)\n"
     ]
    },
    {
     "data": {
      "image/png": "[encoded data removed]",
      "text/plain": [
       "<Figure size 432x288 with 1 Axes>"
      ]
     },
     "metadata": {
      "needs_background": "light"
     },
     "output_type": "display_data"
    }
   ],
   "source": [
    "show_group_stats_viz(d_train, 'race')"
   ]
  },
  {
   "cell_type": "code",
   "execution_count": 50,
   "metadata": {},
   "outputs": [
    {
     "name": "stdout",
     "output_type": "stream",
     "text": [
      "race\n",
      "AfricanAmerican      7\n",
      "Asian                1\n",
      "Caucasian          176\n",
      "Other                1\n",
      "dtype: int64\n",
      "AxesSubplot(0.125,0.125;0.775x0.755)\n"
     ]
    },
    {
     "data": {
      "image/png": "[encoded data removed]",
      "text/plain": [
       "<Figure size 432x288 with 1 Axes>"
      ]
     },
     "metadata": {
      "needs_background": "light"
     },
     "output_type": "display_data"
    }
   ],
   "source": [
    "show_group_stats_viz(d_test, 'race')"
   ]
  },
  {
   "cell_type": "code",
   "execution_count": 51,
   "metadata": {},
   "outputs": [
    {
     "name": "stdout",
     "output_type": "stream",
     "text": [
      "race\n",
      "AfricanAmerican      8\n",
      "Caucasian          174\n",
      "Other                3\n",
      "dtype: int64\n",
      "AxesSubplot(0.125,0.125;0.775x0.755)\n"
     ]
    },
    {
     "data": {
      "image/png": "[encoded data removed]",
      "text/plain": [
       "<Figure size 432x288 with 1 Axes>"
      ]
     },
     "metadata": {
      "needs_background": "light"
     },
     "output_type": "display_data"
    }
   ],
   "source": [
    "show_group_stats_viz(d_val, 'race')"
   ]
  },
  {
   "cell_type": "code",
   "execution_count": 52,
   "metadata": {},
   "outputs": [
    {
     "name": "stdout",
     "output_type": "stream",
     "text": [
      "age\n",
      "[10-20)       2\n",
      "[20-30)       5\n",
      "[30-40)      15\n",
      "[40-50)      40\n",
      "[50-60)      98\n",
      "[60-70)     140\n",
      "[70-80)     158\n",
      "[80-90)      84\n",
      "[90-100)     12\n",
      "dtype: int64\n",
      "AxesSubplot(0.125,0.125;0.775x0.755)\n"
     ]
    },
    {
     "data": {
      "image/png": "[encoded data removed]",
      "text/plain": [
       "<Figure size 432x288 with 1 Axes>"
      ]
     },
     "metadata": {
      "needs_background": "light"
     },
     "output_type": "display_data"
    }
   ],
   "source": [
    "show_group_stats_viz(d_train, 'age')"
   ]
  },
  {
   "cell_type": "code",
   "execution_count": 53,
   "metadata": {},
   "outputs": [
    {
     "name": "stdout",
     "output_type": "stream",
     "text": [
      "age\n",
      "[20-30)      6\n",
      "[30-40)      1\n",
      "[40-50)     10\n",
      "[50-60)     35\n",
      "[60-70)     42\n",
      "[70-80)     56\n",
      "[80-90)     33\n",
      "[90-100)     2\n",
      "dtype: int64\n",
      "AxesSubplot(0.125,0.125;0.775x0.755)\n"
     ]
    },
    {
     "data": {
      "image/png": "[encoded data removed]",
      "text/plain": [
       "<Figure size 432x288 with 1 Axes>"
      ]
     },
     "metadata": {
      "needs_background": "light"
     },
     "output_type": "display_data"
    }
   ],
   "source": [
    "show_group_stats_viz(d_test, 'age')"
   ]
  },
  {
   "cell_type": "code",
   "execution_count": 54,
   "metadata": {},
   "outputs": [
    {
     "name": "stdout",
     "output_type": "stream",
     "text": [
      "age\n",
      "[0-10)       1\n",
      "[10-20)      3\n",
      "[20-30)      3\n",
      "[30-40)      5\n",
      "[40-50)      9\n",
      "[50-60)     24\n",
      "[60-70)     47\n",
      "[70-80)     59\n",
      "[80-90)     28\n",
      "[90-100)     6\n",
      "dtype: int64\n",
      "AxesSubplot(0.125,0.125;0.775x0.755)\n"
     ]
    },
    {
     "data": {
      "image/png": "[encoded data removed]",
      "text/plain": [
       "<Figure size 432x288 with 1 Axes>"
      ]
     },
     "metadata": {
      "needs_background": "light"
     },
     "output_type": "display_data"
    }
   ],
   "source": [
    "show_group_stats_viz(d_val, 'age')"
   ]
  },
  {
   "cell_type": "markdown",
   "metadata": {},
   "source": [
    "## Convert Dataset Splits to TF Dataset"
   ]
  },
  {
   "cell_type": "markdown",
   "metadata": {},
   "source": [
    "We have provided you the function to convert the Pandas dataframe to TF tensors using the TF Dataset API. \n",
    "Please note that this is not a scalable method and for larger datasets, the 'make_csv_dataset' method is recommended -https://www.tensorflow.org/api_docs/python/tf/data/experimental/make_csv_dataset."
   ]
  },
  {
   "cell_type": "code",
   "execution_count": 55,
   "metadata": {},
   "outputs": [],
   "source": [
    "# Convert dataset from Pandas dataframes to TF dataset \n",
    "batch_size = 128\n",
    "diabetes_train_ds = df_to_dataset(d_train, PREDICTOR_FIELD, batch_size=batch_size)\n",
    "diabetes_val_ds = df_to_dataset(d_val, PREDICTOR_FIELD, batch_size=batch_size)\n",
    "diabetes_test_ds = df_to_dataset(d_test, PREDICTOR_FIELD, batch_size=batch_size)"
   ]
  },
  {
   "cell_type": "code",
   "execution_count": 56,
   "metadata": {},
   "outputs": [],
   "source": [
    "# We use this sample of the dataset to show transformations later\n",
    "diabetes_batch = next(iter(diabetes_train_ds))[0]\n",
    "def demo(feature_column, example_batch):\n",
    "    feature_layer = layers.DenseFeatures(feature_column)\n",
    "    print(feature_layer(example_batch))"
   ]
  },
  {
   "cell_type": "markdown",
   "metadata": {},
   "source": [
    "# 4. Create Categorical Features with TF Feature Columns"
   ]
  },
  {
   "cell_type": "markdown",
   "metadata": {},
   "source": [
    "## Build Vocabulary for Categorical Features"
   ]
  },
  {
   "cell_type": "markdown",
   "metadata": {},
   "source": [
    "Before we can create the TF categorical features, we must first create the vocab files with the unique values for a given field that are from the **training** dataset. Below we have provided a function that you can use that only requires providing the pandas train dataset partition and the list of the categorical columns in a list format. The output variable 'vocab_file_list' will be a list of the file paths that can be used in the next step for creating the categorical features."
   ]
  },
  {
   "cell_type": "code",
   "execution_count": 57,
   "metadata": {},
   "outputs": [],
   "source": [
    "vocab_file_list = build_vocab_files(d_train, student_categorical_col_list)"
   ]
  },
  {
   "cell_type": "markdown",
   "metadata": {},
   "source": [
    "## Create Categorical Features with Tensorflow Feature Column API"
   ]
  },
  {
   "cell_type": "markdown",
   "metadata": {},
   "source": [
    "**Question 7**: Using the vocab file list from above that was derived from the features you selected earlier, please create categorical features with the Tensorflow Feature Column API, https://www.tensorflow.org/api_docs/python/tf/feature_column. Below is a function to help guide you."
   ]
  },
  {
   "cell_type": "code",
   "execution_count": 58,
   "metadata": {},
   "outputs": [
    {
     "name": "stdout",
     "output_type": "stream",
     "text": [
      "INFO:tensorflow:vocabulary_size = 5 in admission_type_id is inferred from the number of elements in the vocabulary_file ./diabetes_vocab/admission_type_id_vocab.txt.\n",
      "INFO:tensorflow:vocabulary_size = 11 in discharge_disposition_id is inferred from the number of elements in the vocabulary_file ./diabetes_vocab/discharge_disposition_id_vocab.txt.\n",
      "INFO:tensorflow:vocabulary_size = 7 in admission_source_id is inferred from the number of elements in the vocabulary_file ./diabetes_vocab/admission_source_id_vocab.txt.\n",
      "INFO:tensorflow:vocabulary_size = 144 in primary_diagnosis_code is inferred from the number of elements in the vocabulary_file ./diabetes_vocab/primary_diagnosis_code_vocab.txt.\n",
      "INFO:tensorflow:vocabulary_size = 2 in max_glu_serum is inferred from the number of elements in the vocabulary_file ./diabetes_vocab/max_glu_serum_vocab.txt.\n",
      "INFO:tensorflow:vocabulary_size = 5 in A1Cresult is inferred from the number of elements in the vocabulary_file ./diabetes_vocab/A1Cresult_vocab.txt.\n",
      "INFO:tensorflow:vocabulary_size = 3 in change is inferred from the number of elements in the vocabulary_file ./diabetes_vocab/change_vocab.txt.\n",
      "INFO:tensorflow:vocabulary_size = 4 in readmitted is inferred from the number of elements in the vocabulary_file ./diabetes_vocab/readmitted_vocab.txt.\n",
      "INFO:tensorflow:vocabulary_size = 4 in race is inferred from the number of elements in the vocabulary_file ./diabetes_vocab/race_vocab.txt.\n",
      "INFO:tensorflow:vocabulary_size = 3 in gender is inferred from the number of elements in the vocabulary_file ./diabetes_vocab/gender_vocab.txt.\n",
      "INFO:tensorflow:vocabulary_size = 10 in age is inferred from the number of elements in the vocabulary_file ./diabetes_vocab/age_vocab.txt.\n",
      "INFO:tensorflow:vocabulary_size = 4 in Acarbose is inferred from the number of elements in the vocabulary_file ./diabetes_vocab/Acarbose_vocab.txt.\n",
      "INFO:tensorflow:vocabulary_size = 4 in Glimepiride is inferred from the number of elements in the vocabulary_file ./diabetes_vocab/Glimepiride_vocab.txt.\n",
      "INFO:tensorflow:vocabulary_size = 4 in Glipizide is inferred from the number of elements in the vocabulary_file ./diabetes_vocab/Glipizide_vocab.txt.\n",
      "INFO:tensorflow:vocabulary_size = 4 in Glyburide is inferred from the number of elements in the vocabulary_file ./diabetes_vocab/Glyburide_vocab.txt.\n",
      "INFO:tensorflow:vocabulary_size = 4 in Human_Insulin is inferred from the number of elements in the vocabulary_file ./diabetes_vocab/Human_Insulin_vocab.txt.\n",
      "INFO:tensorflow:vocabulary_size = 4 in Insulin_Human is inferred from the number of elements in the vocabulary_file ./diabetes_vocab/Insulin_Human_vocab.txt.\n",
      "INFO:tensorflow:vocabulary_size = 3 in Metformin_Hcl is inferred from the number of elements in the vocabulary_file ./diabetes_vocab/Metformin_Hcl_vocab.txt.\n",
      "INFO:tensorflow:vocabulary_size = 4 in Metformin_Hydrochloride is inferred from the number of elements in the vocabulary_file ./diabetes_vocab/Metformin_Hydrochloride_vocab.txt.\n",
      "INFO:tensorflow:vocabulary_size = 4 in Nateglinide is inferred from the number of elements in the vocabulary_file ./diabetes_vocab/Nateglinide_vocab.txt.\n",
      "INFO:tensorflow:vocabulary_size = 4 in Pioglitazone is inferred from the number of elements in the vocabulary_file ./diabetes_vocab/Pioglitazone_vocab.txt.\n",
      "INFO:tensorflow:vocabulary_size = 4 in Repaglinide is inferred from the number of elements in the vocabulary_file ./diabetes_vocab/Repaglinide_vocab.txt.\n",
      "INFO:tensorflow:vocabulary_size = 4 in Rosiglitazone_Maleate is inferred from the number of elements in the vocabulary_file ./diabetes_vocab/Rosiglitazone_Maleate_vocab.txt.\n"
     ]
    }
   ],
   "source": [
    "%autoreload 2\n",
    "from student_utils import create_tf_categorical_feature_cols\n",
    "tf_cat_col_list = create_tf_categorical_feature_cols(student_categorical_col_list)"
   ]
  },
  {
   "cell_type": "code",
   "execution_count": 59,
   "metadata": {},
   "outputs": [
    {
     "name": "stdout",
     "output_type": "stream",
     "text": [
      "Example categorical field:\n",
      "IndicatorColumn(categorical_column=VocabularyFileCategoricalColumn(key='admission_type_id', vocabulary_file='./diabetes_vocab/admission_type_id_vocab.txt', vocabulary_size=5, num_oov_buckets=1, dtype=tf.string, default_value=-1))\n",
      "WARNING:tensorflow:From /opt/conda/lib/python3.7/site-packages/tensorflow_core/python/feature_column/feature_column_v2.py:4267: IndicatorColumn._variable_shape (from tensorflow.python.feature_column.feature_column_v2) is deprecated and will be removed in a future version.\n",
      "Instructions for updating:\n",
      "The old _FeatureColumn APIs are being deprecated. Please use the new FeatureColumn APIs instead.\n",
      "WARNING:tensorflow:From /opt/conda/lib/python3.7/site-packages/tensorflow_core/python/feature_column/feature_column_v2.py:4322: VocabularyFileCategoricalColumn._num_buckets (from tensorflow.python.feature_column.feature_column_v2) is deprecated and will be removed in a future version.\n",
      "Instructions for updating:\n",
      "The old _FeatureColumn APIs are being deprecated. Please use the new FeatureColumn APIs instead.\n",
      "tf.Tensor(\n",
      "[[0. 0. 1. 0. 0. 0.]\n",
      " [0. 0. 1. 0. 0. 0.]\n",
      " [0. 1. 0. 0. 0. 0.]\n",
      " [0. 0. 1. 0. 0. 0.]\n",
      " [0. 0. 0. 1. 0. 0.]\n",
      " [0. 0. 1. 0. 0. 0.]\n",
      " [0. 1. 0. 0. 0. 0.]\n",
      " [0. 1. 0. 0. 0. 0.]\n",
      " [0. 0. 1. 0. 0. 0.]\n",
      " [0. 0. 1. 0. 0. 0.]\n",
      " [0. 1. 0. 0. 0. 0.]\n",
      " [0. 0. 0. 1. 0. 0.]\n",
      " [0. 0. 1. 0. 0. 0.]\n",
      " [0. 1. 0. 0. 0. 0.]\n",
      " [0. 0. 1. 0. 0. 0.]\n",
      " [0. 0. 1. 0. 0. 0.]\n",
      " [0. 1. 0. 0. 0. 0.]\n",
      " [0. 0. 1. 0. 0. 0.]\n",
      " [0. 0. 1. 0. 0. 0.]\n",
      " [0. 1. 0. 0. 0. 0.]\n",
      " [0. 1. 0. 0. 0. 0.]\n",
      " [0. 0. 1. 0. 0. 0.]\n",
      " [0. 1. 0. 0. 0. 0.]\n",
      " [0. 0. 1. 0. 0. 0.]\n",
      " [0. 0. 1. 0. 0. 0.]\n",
      " [0. 0. 1. 0. 0. 0.]\n",
      " [0. 0. 1. 0. 0. 0.]\n",
      " [0. 1. 0. 0. 0. 0.]\n",
      " [0. 0. 0. 1. 0. 0.]\n",
      " [0. 0. 1. 0. 0. 0.]\n",
      " [0. 1. 0. 0. 0. 0.]\n",
      " [0. 1. 0. 0. 0. 0.]\n",
      " [0. 0. 0. 1. 0. 0.]\n",
      " [0. 0. 0. 1. 0. 0.]\n",
      " [0. 0. 0. 1. 0. 0.]\n",
      " [0. 0. 1. 0. 0. 0.]\n",
      " [0. 0. 1. 0. 0. 0.]\n",
      " [0. 0. 1. 0. 0. 0.]\n",
      " [0. 0. 1. 0. 0. 0.]\n",
      " [0. 0. 0. 1. 0. 0.]\n",
      " [0. 0. 1. 0. 0. 0.]\n",
      " [0. 1. 0. 0. 0. 0.]\n",
      " [0. 0. 1. 0. 0. 0.]\n",
      " [0. 0. 0. 1. 0. 0.]\n",
      " [0. 0. 1. 0. 0. 0.]\n",
      " [0. 0. 1. 0. 0. 0.]\n",
      " [0. 0. 1. 0. 0. 0.]\n",
      " [0. 1. 0. 0. 0. 0.]\n",
      " [0. 0. 1. 0. 0. 0.]\n",
      " [0. 0. 1. 0. 0. 0.]\n",
      " [0. 1. 0. 0. 0. 0.]\n",
      " [0. 0. 1. 0. 0. 0.]\n",
      " [0. 0. 1. 0. 0. 0.]\n",
      " [0. 0. 1. 0. 0. 0.]\n",
      " [0. 0. 1. 0. 0. 0.]\n",
      " [0. 0. 0. 1. 0. 0.]\n",
      " [0. 1. 0. 0. 0. 0.]\n",
      " [0. 0. 0. 1. 0. 0.]\n",
      " [0. 0. 0. 1. 0. 0.]\n",
      " [0. 0. 1. 0. 0. 0.]\n",
      " [0. 0. 1. 0. 0. 0.]\n",
      " [0. 1. 0. 0. 0. 0.]\n",
      " [0. 0. 0. 1. 0. 0.]\n",
      " [0. 1. 0. 0. 0. 0.]\n",
      " [0. 0. 1. 0. 0. 0.]\n",
      " [0. 1. 0. 0. 0. 0.]\n",
      " [0. 1. 0. 0. 0. 0.]\n",
      " [0. 1. 0. 0. 0. 0.]\n",
      " [0. 0. 0. 1. 0. 0.]\n",
      " [0. 1. 0. 0. 0. 0.]\n",
      " [0. 0. 1. 0. 0. 0.]\n",
      " [0. 0. 1. 0. 0. 0.]\n",
      " [0. 0. 0. 1. 0. 0.]\n",
      " [0. 0. 1. 0. 0. 0.]\n",
      " [0. 1. 0. 0. 0. 0.]\n",
      " [0. 0. 1. 0. 0. 0.]\n",
      " [0. 0. 1. 0. 0. 0.]\n",
      " [0. 0. 0. 1. 0. 0.]\n",
      " [0. 0. 1. 0. 0. 0.]\n",
      " [0. 0. 1. 0. 0. 0.]\n",
      " [0. 1. 0. 0. 0. 0.]\n",
      " [0. 1. 0. 0. 0. 0.]\n",
      " [0. 0. 1. 0. 0. 0.]\n",
      " [0. 1. 0. 0. 0. 0.]\n",
      " [0. 0. 1. 0. 0. 0.]\n",
      " [0. 1. 0. 0. 0. 0.]\n",
      " [0. 1. 0. 0. 0. 0.]\n",
      " [0. 0. 1. 0. 0. 0.]\n",
      " [0. 0. 1. 0. 0. 0.]\n",
      " [0. 0. 1. 0. 0. 0.]\n",
      " [0. 1. 0. 0. 0. 0.]\n",
      " [0. 1. 0. 0. 0. 0.]\n",
      " [0. 0. 1. 0. 0. 0.]\n",
      " [0. 0. 1. 0. 0. 0.]\n",
      " [0. 0. 1. 0. 0. 0.]\n",
      " [0. 0. 1. 0. 0. 0.]\n",
      " [0. 0. 0. 1. 0. 0.]\n",
      " [0. 1. 0. 0. 0. 0.]\n",
      " [0. 0. 1. 0. 0. 0.]\n",
      " [0. 0. 1. 0. 0. 0.]\n",
      " [0. 0. 1. 0. 0. 0.]\n",
      " [0. 0. 1. 0. 0. 0.]\n",
      " [0. 0. 1. 0. 0. 0.]\n",
      " [0. 0. 1. 0. 0. 0.]\n",
      " [0. 0. 1. 0. 0. 0.]\n",
      " [0. 0. 1. 0. 0. 0.]\n",
      " [0. 1. 0. 0. 0. 0.]\n",
      " [0. 1. 0. 0. 0. 0.]\n",
      " [0. 0. 1. 0. 0. 0.]\n",
      " [0. 1. 0. 0. 0. 0.]\n",
      " [0. 1. 0. 0. 0. 0.]\n",
      " [0. 1. 0. 0. 0. 0.]\n",
      " [0. 0. 1. 0. 0. 0.]\n",
      " [0. 0. 1. 0. 0. 0.]\n",
      " [0. 1. 0. 0. 0. 0.]\n",
      " [0. 0. 1. 0. 0. 0.]\n",
      " [0. 1. 0. 0. 0. 0.]\n",
      " [0. 0. 0. 1. 0. 0.]\n",
      " [0. 1. 0. 0. 0. 0.]\n",
      " [0. 0. 1. 0. 0. 0.]\n",
      " [0. 0. 0. 1. 0. 0.]\n",
      " [0. 1. 0. 0. 0. 0.]\n",
      " [0. 0. 1. 0. 0. 0.]\n",
      " [0. 0. 1. 0. 0. 0.]\n",
      " [0. 0. 0. 1. 0. 0.]\n",
      " [0. 1. 0. 0. 0. 0.]\n",
      " [0. 0. 1. 0. 0. 0.]\n",
      " [0. 0. 0. 1. 0. 0.]], shape=(128, 6), dtype=float32)\n"
     ]
    }
   ],
   "source": [
    "test_cat_var1 = tf_cat_col_list[0]\n",
    "print(\"Example categorical field:\\n{}\".format(test_cat_var1))\n",
    "demo(test_cat_var1, diabetes_batch)"
   ]
  },
  {
   "cell_type": "markdown",
   "metadata": {},
   "source": [
    "# 5. Create Numerical Features with TF Feature Columns"
   ]
  },
  {
   "cell_type": "markdown",
   "metadata": {},
   "source": [
    "**Question 8**: Using the TF Feature Column API(https://www.tensorflow.org/api_docs/python/tf/feature_column/), please create normalized Tensorflow numeric features for the model. Try to use the z-score normalizer function below to help as well as the 'calculate_stats_from_train_data' function."
   ]
  },
  {
   "cell_type": "code",
   "execution_count": 60,
   "metadata": {},
   "outputs": [],
   "source": [
    "%autoreload 2\n",
    "from student_utils import create_tf_numeric_feature"
   ]
  },
  {
   "cell_type": "markdown",
   "metadata": {},
   "source": [
    "For simplicity the create_tf_numerical_feature_cols function below uses the same normalizer function across all features(z-score normalization) but if you have time feel free to analyze and adapt the normalizer based off the statistical distributions. You may find this as a good resource in determining which transformation fits best for the data https://developers.google.com/machine-learning/data-prep/transform/normalization.\n"
   ]
  },
  {
   "cell_type": "code",
   "execution_count": 61,
   "metadata": {},
   "outputs": [],
   "source": [
    "def calculate_stats_from_train_data(df, col):\n",
    "    mean = df[col].describe()['mean']\n",
    "    std = df[col].describe()['std']\n",
    "    return mean, std\n",
    "\n",
    "def create_tf_numerical_feature_cols(numerical_col_list, train_df):\n",
    "    tf_numeric_col_list = []\n",
    "    for c in numerical_col_list:\n",
    "        mean, std = calculate_stats_from_train_data(train_df, c)\n",
    "        tf_numeric_feature = create_tf_numeric_feature(c, mean, std)\n",
    "        tf_numeric_col_list.append(tf_numeric_feature)\n",
    "    return tf_numeric_col_list"
   ]
  },
  {
   "cell_type": "code",
   "execution_count": 62,
   "metadata": {},
   "outputs": [],
   "source": [
    "tf_cont_col_list = create_tf_numerical_feature_cols(student_numerical_col_list, d_train)"
   ]
  },
  {
   "cell_type": "code",
   "execution_count": 63,
   "metadata": {},
   "outputs": [
    {
     "name": "stdout",
     "output_type": "stream",
     "text": [
      "Example continuous field:\n",
      "NumericColumn(key='number_outpatient', shape=(1,), default_value=(0,), dtype=tf.float64, normalizer_fn=functools.partial(<function normalize_numeric_with_zscore at 0x7f4388424170>, mean=1.3808664259927799, std=2.0111071254435924))\n",
      "\n",
      "tf.Tensor(\n",
      "[[-0.5]\n",
      " [-0.5]\n",
      " [-0.5]\n",
      " [ 0.5]\n",
      " [ 0.5]\n",
      " [ 1. ]\n",
      " [-0.5]\n",
      " [-0.5]\n",
      " [ 1.5]\n",
      " [-0.5]\n",
      " [ 2. ]\n",
      " [ 0. ]\n",
      " [ 0. ]\n",
      " [ 1.5]\n",
      " [ 2. ]\n",
      " [-0.5]\n",
      " [ 0. ]\n",
      " [-0.5]\n",
      " [ 1. ]\n",
      " [-0.5]\n",
      " [-0.5]\n",
      " [ 1. ]\n",
      " [ 0. ]\n",
      " [-0.5]\n",
      " [ 0.5]\n",
      " [ 0.5]\n",
      " [ 0.5]\n",
      " [ 0.5]\n",
      " [ 1. ]\n",
      " [-0.5]\n",
      " [-0.5]\n",
      " [ 0.5]\n",
      " [-0.5]\n",
      " [ 1. ]\n",
      " [ 0. ]\n",
      " [ 1. ]\n",
      " [ 1.5]\n",
      " [-0.5]\n",
      " [-0.5]\n",
      " [ 1. ]\n",
      " [ 0. ]\n",
      " [ 0. ]\n",
      " [ 0. ]\n",
      " [ 6. ]\n",
      " [-0.5]\n",
      " [ 0. ]\n",
      " [-0.5]\n",
      " [-0.5]\n",
      " [ 0. ]\n",
      " [ 0.5]\n",
      " [ 0. ]\n",
      " [ 0. ]\n",
      " [-0.5]\n",
      " [ 0. ]\n",
      " [ 1.5]\n",
      " [-0.5]\n",
      " [ 0. ]\n",
      " [-0.5]\n",
      " [-0.5]\n",
      " [ 0.5]\n",
      " [ 0.5]\n",
      " [-0.5]\n",
      " [ 0.5]\n",
      " [-0.5]\n",
      " [-0.5]\n",
      " [-0.5]\n",
      " [ 0.5]\n",
      " [ 1. ]\n",
      " [-0.5]\n",
      " [ 0.5]\n",
      " [ 0. ]\n",
      " [-0.5]\n",
      " [-0.5]\n",
      " [-0.5]\n",
      " [-0.5]\n",
      " [-0.5]\n",
      " [-0.5]\n",
      " [-0.5]\n",
      " [ 1. ]\n",
      " [-0.5]\n",
      " [ 0.5]\n",
      " [ 0.5]\n",
      " [-0.5]\n",
      " [-0.5]\n",
      " [ 0.5]\n",
      " [-0.5]\n",
      " [ 1. ]\n",
      " [-0.5]\n",
      " [ 0.5]\n",
      " [ 1. ]\n",
      " [-0.5]\n",
      " [ 1. ]\n",
      " [-0.5]\n",
      " [-0.5]\n",
      " [ 0.5]\n",
      " [-0.5]\n",
      " [ 0.5]\n",
      " [ 0. ]\n",
      " [-0.5]\n",
      " [ 0. ]\n",
      " [ 0. ]\n",
      " [-0.5]\n",
      " [ 0. ]\n",
      " [ 1. ]\n",
      " [ 0. ]\n",
      " [ 1. ]\n",
      " [-0.5]\n",
      " [ 2. ]\n",
      " [ 2.5]\n",
      " [-0.5]\n",
      " [-0.5]\n",
      " [-0.5]\n",
      " [-0.5]\n",
      " [ 0. ]\n",
      " [-0.5]\n",
      " [ 1. ]\n",
      " [ 1. ]\n",
      " [-0.5]\n",
      " [-0.5]\n",
      " [ 0.5]\n",
      " [ 0. ]\n",
      " [ 1. ]\n",
      " [-0.5]\n",
      " [-0.5]\n",
      " [ 1. ]\n",
      " [-0.5]\n",
      " [ 0. ]\n",
      " [ 0. ]], shape=(128, 1), dtype=float32)\n"
     ]
    }
   ],
   "source": [
    "test_cont_var1 = tf_cont_col_list[0]\n",
    "print(\"Example continuous field:\\n{}\\n\".format(test_cont_var1))\n",
    "demo(test_cont_var1, diabetes_batch)"
   ]
  },
  {
   "cell_type": "markdown",
   "metadata": {},
   "source": [
    "# 6. Build Deep Learning Regression Model with Sequential API and TF Probability Layers"
   ]
  },
  {
   "cell_type": "markdown",
   "metadata": {},
   "source": [
    "## Use DenseFeatures to combine features for model"
   ]
  },
  {
   "cell_type": "markdown",
   "metadata": {},
   "source": [
    "Now that we have prepared categorical and numerical features using Tensorflow's Feature Column API, we can combine them into a dense vector representation for the model. Below we will create this new input layer, which we will call 'claim_feature_layer'."
   ]
  },
  {
   "cell_type": "code",
   "execution_count": 64,
   "metadata": {},
   "outputs": [],
   "source": [
    "claim_feature_columns = tf_cat_col_list + tf_cont_col_list\n",
    "claim_feature_layer = tf.keras.layers.DenseFeatures(claim_feature_columns)"
   ]
  },
  {
   "cell_type": "markdown",
   "metadata": {},
   "source": [
    "## Build Sequential API Model from DenseFeatures and TF Probability Layers"
   ]
  },
  {
   "cell_type": "markdown",
   "metadata": {},
   "source": [
    "Below we have provided some boilerplate code for building a model that connects the Sequential API, DenseFeatures, and Tensorflow Probability layers into a deep learning model. There are many opportunities to further optimize and explore different architectures through benchmarking and testing approaches in various research papers, loss and evaluation metrics, learning curves, hyperparameter tuning, TF probability layers, etc. Feel free to modify and explore as you wish."
   ]
  },
  {
   "cell_type": "markdown",
   "metadata": {},
   "source": [
    "**OPTIONAL**: Come up with a more optimal neural network architecture and hyperparameters. Share the process in discovering the architecture and hyperparameters."
   ]
  },
  {
   "cell_type": "code",
   "execution_count": 215,
   "metadata": {},
   "outputs": [],
   "source": [
    "def build_sequential_model(feature_layer):\n",
    "    model = tf.keras.Sequential([\n",
    "        feature_layer,\n",
    "        #tf.keras.layers.Dense(512, activation='relu'),\n",
    "        tf.keras.layers.Dense(150, activation='relu'),\n",
    "        tf.keras.layers.Dense(75, activation='relu'),\n",
    "        tfp.layers.DenseVariational(1+1, posterior_mean_field, prior_trainable),\n",
    "        tfp.layers.DistributionLambda(\n",
    "            lambda t:tfp.distributions.Normal(loc=t[..., :1],\n",
    "                                             scale=1e-3 + tf.math.softplus(0.1 * t[...,1:])\n",
    "                                             )\n",
    "        ),\n",
    "    ])\n",
    "    return model\n",
    "\n",
    "def build_diabetes_model(train_ds, val_ds,  feature_layer,  epochs=5, loss_metric='mse'):\n",
    "    model = build_sequential_model(feature_layer)\n",
    "    optimizer = tf.optimizers.Adam(learning_rate=0.01)\n",
    "    #optimizer = 'rmsprop'\n",
    "    negloglik = lambda y, rv_y: -rv_y.log_prob(y)\n",
    "    loss = negloglik\n",
    "    model.compile(optimizer=optimizer, loss=loss, metrics=[loss_metric])\n",
    "    early_stop = tf.keras.callbacks.EarlyStopping(monitor=loss_metric, patience=30)     \n",
    "    history = model.fit(train_ds, validation_data=val_ds,\n",
    "                        callbacks=[early_stop],\n",
    "                        epochs=epochs)\n",
    "    return model, history "
   ]
  },
  {
   "cell_type": "code",
   "execution_count": 216,
   "metadata": {},
   "outputs": [
    {
     "name": "stdout",
     "output_type": "stream",
     "text": [
      "Train for 5 steps, validate for 2 steps\n",
      "Epoch 1/200\n",
      "5/5 [==============================] - 4s 723ms/step - loss: 27.3850 - mse: 28.4419 - val_loss: 19.0619 - val_mse: 22.5804\n",
      "Epoch 2/200\n",
      "5/5 [==============================] - 0s 59ms/step - loss: 31.5211 - mse: 32.2307 - val_loss: 33.2077 - val_mse: 28.4658\n",
      "Epoch 3/200\n",
      "5/5 [==============================] - 0s 46ms/step - loss: 24.6979 - mse: 21.4662 - val_loss: 22.2738 - val_mse: 20.5208\n",
      "Epoch 4/200\n",
      "5/5 [==============================] - 0s 49ms/step - loss: 30.3009 - mse: 30.2206 - val_loss: 26.0491 - val_mse: 16.9779\n",
      "Epoch 5/200\n",
      "5/5 [==============================] - 0s 50ms/step - loss: 24.9218 - mse: 23.4830 - val_loss: 18.7049 - val_mse: 16.3534\n",
      "Epoch 6/200\n",
      "5/5 [==============================] - 0s 51ms/step - loss: 25.5355 - mse: 25.5863 - val_loss: 19.6273 - val_mse: 18.2193\n",
      "Epoch 7/200\n",
      "5/5 [==============================] - 0s 51ms/step - loss: 23.1852 - mse: 26.2014 - val_loss: 18.8886 - val_mse: 18.3895\n",
      "Epoch 8/200\n",
      "5/5 [==============================] - 0s 49ms/step - loss: 26.0075 - mse: 23.3822 - val_loss: 20.7103 - val_mse: 14.6116\n",
      "Epoch 9/200\n",
      "5/5 [==============================] - 0s 48ms/step - loss: 19.2432 - mse: 20.0600 - val_loss: 18.7879 - val_mse: 19.2953\n",
      "Epoch 10/200\n",
      "5/5 [==============================] - 0s 48ms/step - loss: 22.4774 - mse: 24.7595 - val_loss: 22.0450 - val_mse: 23.2186\n",
      "Epoch 11/200\n",
      "5/5 [==============================] - 0s 48ms/step - loss: 32.4613 - mse: 32.1766 - val_loss: 17.0018 - val_mse: 15.0225\n",
      "Epoch 12/200\n",
      "5/5 [==============================] - 0s 48ms/step - loss: 23.6790 - mse: 21.7142 - val_loss: 18.9958 - val_mse: 13.5401\n",
      "Epoch 13/200\n",
      "5/5 [==============================] - 0s 48ms/step - loss: 27.8633 - mse: 26.6217 - val_loss: 21.9875 - val_mse: 19.6152\n",
      "Epoch 14/200\n",
      "5/5 [==============================] - 0s 49ms/step - loss: 25.2012 - mse: 25.4010 - val_loss: 22.6443 - val_mse: 30.4967\n",
      "Epoch 15/200\n",
      "5/5 [==============================] - 0s 50ms/step - loss: 19.3603 - mse: 17.1992 - val_loss: 21.2932 - val_mse: 20.8891\n",
      "Epoch 16/200\n",
      "5/5 [==============================] - 0s 50ms/step - loss: 27.5896 - mse: 24.8478 - val_loss: 16.1049 - val_mse: 14.2129\n",
      "Epoch 17/200\n",
      "5/5 [==============================] - 0s 49ms/step - loss: 20.1141 - mse: 21.2924 - val_loss: 17.6279 - val_mse: 14.6904\n",
      "Epoch 18/200\n",
      "5/5 [==============================] - 0s 48ms/step - loss: 22.2375 - mse: 22.4152 - val_loss: 17.2425 - val_mse: 24.6399\n",
      "Epoch 19/200\n",
      "5/5 [==============================] - 0s 48ms/step - loss: 22.0366 - mse: 22.5778 - val_loss: 13.2365 - val_mse: 11.2266\n",
      "Epoch 20/200\n",
      "5/5 [==============================] - 0s 49ms/step - loss: 22.0688 - mse: 21.1783 - val_loss: 20.5535 - val_mse: 24.3416\n",
      "Epoch 21/200\n",
      "5/5 [==============================] - 0s 48ms/step - loss: 26.0559 - mse: 27.0452 - val_loss: 18.7621 - val_mse: 19.4800\n",
      "Epoch 22/200\n",
      "5/5 [==============================] - 0s 49ms/step - loss: 22.1781 - mse: 23.4790 - val_loss: 18.5550 - val_mse: 21.6153\n",
      "Epoch 23/200\n",
      "5/5 [==============================] - 0s 49ms/step - loss: 20.1988 - mse: 18.3430 - val_loss: 12.0490 - val_mse: 12.2882\n",
      "Epoch 24/200\n",
      "5/5 [==============================] - 0s 51ms/step - loss: 20.7681 - mse: 21.1469 - val_loss: 19.7398 - val_mse: 21.4786\n",
      "Epoch 25/200\n",
      "5/5 [==============================] - 0s 49ms/step - loss: 22.1927 - mse: 23.5809 - val_loss: 12.9524 - val_mse: 12.8100\n",
      "Epoch 26/200\n",
      "5/5 [==============================] - 0s 54ms/step - loss: 20.8562 - mse: 18.5321 - val_loss: 12.5440 - val_mse: 12.1897\n",
      "Epoch 27/200\n",
      "5/5 [==============================] - 0s 49ms/step - loss: 20.2857 - mse: 22.7367 - val_loss: 15.7745 - val_mse: 15.4090\n",
      "Epoch 28/200\n",
      "5/5 [==============================] - 0s 49ms/step - loss: 18.4653 - mse: 20.3892 - val_loss: 20.5290 - val_mse: 18.0510\n",
      "Epoch 29/200\n",
      "5/5 [==============================] - 0s 47ms/step - loss: 18.3824 - mse: 20.2630 - val_loss: 26.1524 - val_mse: 26.9752\n",
      "Epoch 30/200\n",
      "5/5 [==============================] - 0s 49ms/step - loss: 24.0681 - mse: 24.1580 - val_loss: 14.6989 - val_mse: 16.1080\n",
      "Epoch 31/200\n",
      "5/5 [==============================] - 0s 49ms/step - loss: 19.8955 - mse: 19.5774 - val_loss: 14.9733 - val_mse: 12.7452\n",
      "Epoch 32/200\n",
      "5/5 [==============================] - 0s 48ms/step - loss: 19.1661 - mse: 20.0122 - val_loss: 15.7511 - val_mse: 14.3327\n",
      "Epoch 33/200\n",
      "5/5 [==============================] - 0s 48ms/step - loss: 20.2721 - mse: 20.2930 - val_loss: 16.7449 - val_mse: 12.7845\n",
      "Epoch 34/200\n",
      "5/5 [==============================] - 0s 47ms/step - loss: 19.8207 - mse: 20.5099 - val_loss: 14.7701 - val_mse: 16.8199\n",
      "Epoch 35/200\n",
      "5/5 [==============================] - 0s 49ms/step - loss: 17.0553 - mse: 16.0834 - val_loss: 17.2189 - val_mse: 16.2902\n",
      "Epoch 36/200\n",
      "5/5 [==============================] - 0s 48ms/step - loss: 17.7232 - mse: 18.8477 - val_loss: 16.8299 - val_mse: 14.0696\n",
      "Epoch 37/200\n",
      "5/5 [==============================] - 0s 52ms/step - loss: 16.0804 - mse: 17.8961 - val_loss: 11.2289 - val_mse: 10.5018\n",
      "Epoch 38/200\n",
      "5/5 [==============================] - 0s 48ms/step - loss: 18.5508 - mse: 18.1792 - val_loss: 17.8975 - val_mse: 17.3123\n",
      "Epoch 39/200\n",
      "5/5 [==============================] - 0s 48ms/step - loss: 12.9206 - mse: 12.4103 - val_loss: 17.4254 - val_mse: 18.9229\n",
      "Epoch 40/200\n",
      "5/5 [==============================] - 0s 47ms/step - loss: 17.6519 - mse: 19.4905 - val_loss: 15.6775 - val_mse: 17.9825\n",
      "Epoch 41/200\n",
      "5/5 [==============================] - 0s 48ms/step - loss: 15.8639 - mse: 14.7902 - val_loss: 12.3877 - val_mse: 12.8244\n",
      "Epoch 42/200\n",
      "5/5 [==============================] - 0s 48ms/step - loss: 14.2493 - mse: 15.3055 - val_loss: 11.5970 - val_mse: 10.4709\n",
      "Epoch 43/200\n",
      "5/5 [==============================] - 0s 49ms/step - loss: 13.2728 - mse: 14.9442 - val_loss: 13.1251 - val_mse: 13.3734\n",
      "Epoch 44/200\n",
      "5/5 [==============================] - 0s 46ms/step - loss: 14.3829 - mse: 15.2519 - val_loss: 10.8793 - val_mse: 13.3884\n",
      "Epoch 45/200\n",
      "5/5 [==============================] - 0s 48ms/step - loss: 14.7063 - mse: 13.5627 - val_loss: 14.8057 - val_mse: 16.1014\n",
      "Epoch 46/200\n",
      "5/5 [==============================] - 0s 47ms/step - loss: 18.9537 - mse: 19.6462 - val_loss: 15.2751 - val_mse: 12.7848\n",
      "Epoch 47/200\n",
      "5/5 [==============================] - 0s 49ms/step - loss: 13.8202 - mse: 16.3890 - val_loss: 14.7296 - val_mse: 15.6099\n",
      "Epoch 48/200\n",
      "5/5 [==============================] - 0s 46ms/step - loss: 14.4561 - mse: 18.8463 - val_loss: 14.7074 - val_mse: 17.5523\n",
      "Epoch 49/200\n",
      "5/5 [==============================] - 0s 48ms/step - loss: 14.7170 - mse: 15.7192 - val_loss: 16.0275 - val_mse: 13.7673\n",
      "Epoch 50/200\n",
      "5/5 [==============================] - 0s 47ms/step - loss: 16.6999 - mse: 17.7076 - val_loss: 12.4433 - val_mse: 12.8605\n",
      "Epoch 51/200\n",
      "5/5 [==============================] - 0s 48ms/step - loss: 12.8217 - mse: 14.2808 - val_loss: 12.2355 - val_mse: 12.2279\n",
      "Epoch 52/200\n",
      "5/5 [==============================] - 0s 46ms/step - loss: 18.3839 - mse: 19.5109 - val_loss: 11.9307 - val_mse: 11.8708\n",
      "Epoch 53/200\n",
      "5/5 [==============================] - 0s 48ms/step - loss: 12.7952 - mse: 12.7154 - val_loss: 13.4117 - val_mse: 12.7383\n",
      "Epoch 54/200\n",
      "5/5 [==============================] - 0s 49ms/step - loss: 13.5963 - mse: 12.7371 - val_loss: 14.0375 - val_mse: 14.6322\n",
      "Epoch 55/200\n",
      "5/5 [==============================] - 0s 49ms/step - loss: 13.3168 - mse: 14.5012 - val_loss: 14.4733 - val_mse: 15.3333\n",
      "Epoch 56/200\n",
      "5/5 [==============================] - 0s 48ms/step - loss: 13.9826 - mse: 14.1723 - val_loss: 14.5254 - val_mse: 15.2707\n",
      "Epoch 57/200\n",
      "5/5 [==============================] - 0s 48ms/step - loss: 12.3357 - mse: 12.2449 - val_loss: 11.9991 - val_mse: 10.4143\n",
      "Epoch 58/200\n",
      "5/5 [==============================] - 0s 49ms/step - loss: 13.3521 - mse: 14.4609 - val_loss: 11.5681 - val_mse: 12.5855\n",
      "Epoch 59/200\n",
      "5/5 [==============================] - 0s 48ms/step - loss: 12.7837 - mse: 15.0865 - val_loss: 9.5887 - val_mse: 8.1945\n",
      "Epoch 60/200\n",
      "5/5 [==============================] - 0s 48ms/step - loss: 13.4105 - mse: 15.6038 - val_loss: 11.8855 - val_mse: 10.8075\n",
      "Epoch 61/200\n",
      "5/5 [==============================] - 0s 48ms/step - loss: 12.0244 - mse: 12.5688 - val_loss: 11.2260 - val_mse: 13.1314\n",
      "Epoch 62/200\n",
      "5/5 [==============================] - 0s 49ms/step - loss: 12.6494 - mse: 16.0552 - val_loss: 8.1897 - val_mse: 9.5182\n",
      "Epoch 63/200\n",
      "5/5 [==============================] - 0s 48ms/step - loss: 13.1013 - mse: 14.2721 - val_loss: 10.1273 - val_mse: 13.6395\n",
      "Epoch 64/200\n",
      "5/5 [==============================] - 0s 48ms/step - loss: 10.1690 - mse: 13.8037 - val_loss: 8.0848 - val_mse: 7.8030\n",
      "Epoch 65/200\n",
      "5/5 [==============================] - 0s 49ms/step - loss: 13.9283 - mse: 14.7699 - val_loss: 9.6506 - val_mse: 10.4520\n",
      "Epoch 66/200\n",
      "5/5 [==============================] - 0s 49ms/step - loss: 13.5353 - mse: 16.8384 - val_loss: 9.8903 - val_mse: 8.5532\n",
      "Epoch 67/200\n",
      "5/5 [==============================] - 0s 49ms/step - loss: 16.2238 - mse: 16.7317 - val_loss: 10.3542 - val_mse: 9.2143\n",
      "Epoch 68/200\n",
      "5/5 [==============================] - 0s 49ms/step - loss: 12.2899 - mse: 15.4681 - val_loss: 11.9212 - val_mse: 19.3454\n",
      "Epoch 69/200\n",
      "5/5 [==============================] - 0s 48ms/step - loss: 11.3768 - mse: 14.0398 - val_loss: 7.0928 - val_mse: 9.0206\n",
      "Epoch 70/200\n",
      "5/5 [==============================] - 0s 48ms/step - loss: 12.9066 - mse: 14.5843 - val_loss: 10.5408 - val_mse: 9.6467\n",
      "Epoch 71/200\n",
      "5/5 [==============================] - 0s 47ms/step - loss: 12.7184 - mse: 13.5374 - val_loss: 9.9854 - val_mse: 10.1791\n",
      "Epoch 72/200\n",
      "5/5 [==============================] - 0s 50ms/step - loss: 12.8318 - mse: 13.5736 - val_loss: 9.7437 - val_mse: 8.6396\n",
      "Epoch 73/200\n",
      "5/5 [==============================] - 0s 47ms/step - loss: 13.5475 - mse: 13.7712 - val_loss: 11.7786 - val_mse: 14.5510\n",
      "Epoch 74/200\n",
      "5/5 [==============================] - 0s 49ms/step - loss: 9.5766 - mse: 11.0076 - val_loss: 12.4013 - val_mse: 14.9148\n",
      "Epoch 75/200\n",
      "5/5 [==============================] - 0s 49ms/step - loss: 10.5905 - mse: 10.9821 - val_loss: 9.0802 - val_mse: 9.1461\n",
      "Epoch 76/200\n",
      "5/5 [==============================] - 0s 50ms/step - loss: 10.8780 - mse: 11.9580 - val_loss: 14.5428 - val_mse: 15.1806\n",
      "Epoch 77/200\n",
      "5/5 [==============================] - 0s 47ms/step - loss: 12.4341 - mse: 14.5440 - val_loss: 8.4339 - val_mse: 8.8102\n",
      "Epoch 78/200\n",
      "5/5 [==============================] - 0s 47ms/step - loss: 11.9051 - mse: 12.6479 - val_loss: 11.4014 - val_mse: 16.0081\n",
      "Epoch 79/200\n",
      "5/5 [==============================] - 0s 46ms/step - loss: 11.4262 - mse: 12.3147 - val_loss: 10.7158 - val_mse: 16.0142\n",
      "Epoch 80/200\n",
      "5/5 [==============================] - 0s 47ms/step - loss: 10.3857 - mse: 12.7601 - val_loss: 10.7528 - val_mse: 12.8076\n",
      "Epoch 81/200\n",
      "5/5 [==============================] - 0s 49ms/step - loss: 11.7970 - mse: 12.4747 - val_loss: 10.0771 - val_mse: 12.5965\n",
      "Epoch 82/200\n",
      "5/5 [==============================] - 0s 48ms/step - loss: 12.0314 - mse: 13.8772 - val_loss: 10.9540 - val_mse: 10.3162\n",
      "Epoch 83/200\n",
      "5/5 [==============================] - 0s 51ms/step - loss: 11.1100 - mse: 11.6146 - val_loss: 9.6514 - val_mse: 12.2673\n",
      "Epoch 84/200\n",
      "5/5 [==============================] - 0s 52ms/step - loss: 10.5103 - mse: 12.0576 - val_loss: 8.8452 - val_mse: 8.5296\n",
      "Epoch 85/200\n",
      "5/5 [==============================] - 0s 49ms/step - loss: 10.1138 - mse: 12.7990 - val_loss: 12.1627 - val_mse: 13.0184\n",
      "Epoch 86/200\n",
      "5/5 [==============================] - 0s 49ms/step - loss: 10.3295 - mse: 12.7001 - val_loss: 7.2028 - val_mse: 9.0622\n",
      "Epoch 87/200\n",
      "5/5 [==============================] - 0s 50ms/step - loss: 9.2306 - mse: 10.3440 - val_loss: 8.5105 - val_mse: 8.2792\n",
      "Epoch 88/200\n",
      "5/5 [==============================] - 0s 49ms/step - loss: 11.6189 - mse: 12.0196 - val_loss: 8.7075 - val_mse: 9.0167\n",
      "Epoch 89/200\n",
      "5/5 [==============================] - 0s 50ms/step - loss: 9.8285 - mse: 10.8837 - val_loss: 11.0086 - val_mse: 12.4718\n",
      "Epoch 90/200\n",
      "5/5 [==============================] - 0s 49ms/step - loss: 9.5836 - mse: 12.5934 - val_loss: 6.1686 - val_mse: 8.9967\n",
      "Epoch 91/200\n",
      "5/5 [==============================] - 0s 49ms/step - loss: 9.3769 - mse: 10.5217 - val_loss: 8.0138 - val_mse: 7.1873\n",
      "Epoch 92/200\n",
      "5/5 [==============================] - 0s 49ms/step - loss: 10.5987 - mse: 11.1106 - val_loss: 8.4095 - val_mse: 11.6063\n",
      "Epoch 93/200\n",
      "5/5 [==============================] - 0s 48ms/step - loss: 11.8207 - mse: 13.8111 - val_loss: 8.4889 - val_mse: 11.9525\n",
      "Epoch 94/200\n",
      "5/5 [==============================] - 0s 49ms/step - loss: 12.6052 - mse: 12.4109 - val_loss: 8.2549 - val_mse: 9.5148\n",
      "Epoch 95/200\n",
      "5/5 [==============================] - 0s 48ms/step - loss: 9.2362 - mse: 12.1822 - val_loss: 7.8191 - val_mse: 9.2191\n",
      "Epoch 96/200\n",
      "5/5 [==============================] - 0s 49ms/step - loss: 10.0864 - mse: 9.8127 - val_loss: 9.0659 - val_mse: 9.1365\n",
      "Epoch 97/200\n",
      "5/5 [==============================] - 0s 50ms/step - loss: 10.4470 - mse: 10.7897 - val_loss: 6.9014 - val_mse: 8.4040\n",
      "Epoch 98/200\n",
      "5/5 [==============================] - 0s 49ms/step - loss: 9.0929 - mse: 11.4068 - val_loss: 9.7282 - val_mse: 8.2199\n",
      "Epoch 99/200\n",
      "5/5 [==============================] - 0s 49ms/step - loss: 9.8350 - mse: 12.7555 - val_loss: 7.3972 - val_mse: 8.2789\n",
      "Epoch 100/200\n",
      "5/5 [==============================] - 0s 48ms/step - loss: 9.9960 - mse: 12.4546 - val_loss: 7.4351 - val_mse: 8.6296\n",
      "Epoch 101/200\n",
      "5/5 [==============================] - 0s 47ms/step - loss: 11.6309 - mse: 10.8498 - val_loss: 8.1448 - val_mse: 9.1892\n",
      "Epoch 102/200\n",
      "5/5 [==============================] - 0s 50ms/step - loss: 9.3738 - mse: 10.2436 - val_loss: 6.1904 - val_mse: 7.6301\n",
      "Epoch 103/200\n",
      "5/5 [==============================] - 0s 48ms/step - loss: 10.0962 - mse: 10.8516 - val_loss: 8.4171 - val_mse: 8.3762\n",
      "Epoch 104/200\n",
      "5/5 [==============================] - 0s 50ms/step - loss: 9.0748 - mse: 10.2595 - val_loss: 5.1199 - val_mse: 6.8137\n",
      "Epoch 105/200\n",
      "5/5 [==============================] - 0s 47ms/step - loss: 9.2761 - mse: 12.0662 - val_loss: 9.0022 - val_mse: 7.8664\n",
      "Epoch 106/200\n",
      "5/5 [==============================] - 0s 48ms/step - loss: 7.9469 - mse: 11.7324 - val_loss: 10.2430 - val_mse: 10.8769\n",
      "Epoch 107/200\n",
      "5/5 [==============================] - 0s 48ms/step - loss: 10.6352 - mse: 12.3616 - val_loss: 8.5800 - val_mse: 8.7081\n",
      "Epoch 108/200\n",
      "5/5 [==============================] - 0s 49ms/step - loss: 8.9153 - mse: 9.3661 - val_loss: 8.2343 - val_mse: 10.6369\n",
      "Epoch 109/200\n",
      "5/5 [==============================] - 0s 48ms/step - loss: 9.6202 - mse: 10.5901 - val_loss: 6.2831 - val_mse: 8.8205\n",
      "Epoch 110/200\n",
      "5/5 [==============================] - 0s 46ms/step - loss: 8.7721 - mse: 11.2409 - val_loss: 9.4187 - val_mse: 10.1599\n",
      "Epoch 111/200\n",
      "5/5 [==============================] - 0s 47ms/step - loss: 11.4604 - mse: 12.7459 - val_loss: 7.1970 - val_mse: 9.2158\n",
      "Epoch 112/200\n",
      "5/5 [==============================] - 0s 50ms/step - loss: 9.6610 - mse: 10.7627 - val_loss: 7.3275 - val_mse: 9.3267\n",
      "Epoch 113/200\n",
      "5/5 [==============================] - 0s 52ms/step - loss: 9.1551 - mse: 10.9481 - val_loss: 9.2738 - val_mse: 8.4860\n",
      "Epoch 114/200\n",
      "5/5 [==============================] - 0s 47ms/step - loss: 9.8711 - mse: 10.0443 - val_loss: 6.5320 - val_mse: 7.9104\n",
      "Epoch 115/200\n",
      "5/5 [==============================] - 0s 49ms/step - loss: 10.0730 - mse: 12.0246 - val_loss: 9.5509 - val_mse: 12.4825\n",
      "Epoch 116/200\n",
      "5/5 [==============================] - 0s 48ms/step - loss: 10.1965 - mse: 10.3513 - val_loss: 9.1682 - val_mse: 8.7952\n",
      "Epoch 117/200\n",
      "5/5 [==============================] - 0s 48ms/step - loss: 8.5952 - mse: 10.4120 - val_loss: 6.0436 - val_mse: 7.8066\n",
      "Epoch 118/200\n",
      "5/5 [==============================] - 0s 48ms/step - loss: 9.0292 - mse: 9.9194 - val_loss: 7.8949 - val_mse: 8.2210\n",
      "Epoch 119/200\n",
      "5/5 [==============================] - 0s 48ms/step - loss: 8.4118 - mse: 11.4551 - val_loss: 7.8387 - val_mse: 7.2988\n",
      "Epoch 120/200\n",
      "5/5 [==============================] - 0s 49ms/step - loss: 8.2104 - mse: 10.1626 - val_loss: 9.1539 - val_mse: 8.6444\n",
      "Epoch 121/200\n",
      "5/5 [==============================] - 0s 49ms/step - loss: 9.4992 - mse: 11.1283 - val_loss: 5.6093 - val_mse: 8.0556\n",
      "Epoch 122/200\n",
      "5/5 [==============================] - 0s 47ms/step - loss: 9.1329 - mse: 10.5468 - val_loss: 7.5020 - val_mse: 8.1216\n",
      "Epoch 123/200\n",
      "5/5 [==============================] - 0s 50ms/step - loss: 9.0067 - mse: 10.7760 - val_loss: 7.4931 - val_mse: 8.4500\n",
      "Epoch 124/200\n",
      "5/5 [==============================] - 0s 49ms/step - loss: 9.5218 - mse: 10.9855 - val_loss: 6.2293 - val_mse: 7.8840\n",
      "Epoch 125/200\n",
      "5/5 [==============================] - 0s 49ms/step - loss: 7.5723 - mse: 9.5866 - val_loss: 8.4612 - val_mse: 9.5170\n",
      "Epoch 126/200\n",
      "5/5 [==============================] - 0s 48ms/step - loss: 8.7290 - mse: 9.5977 - val_loss: 10.5774 - val_mse: 10.6294\n",
      "Epoch 127/200\n",
      "5/5 [==============================] - 0s 49ms/step - loss: 8.7238 - mse: 10.1275 - val_loss: 6.7523 - val_mse: 9.1879\n",
      "Epoch 128/200\n",
      "5/5 [==============================] - 0s 48ms/step - loss: 7.6440 - mse: 9.8249 - val_loss: 7.1839 - val_mse: 8.6569\n",
      "Epoch 129/200\n",
      "5/5 [==============================] - 0s 48ms/step - loss: 8.0005 - mse: 9.3068 - val_loss: 6.6894 - val_mse: 8.3789\n",
      "Epoch 130/200\n",
      "5/5 [==============================] - 0s 47ms/step - loss: 7.6635 - mse: 10.3149 - val_loss: 6.4878 - val_mse: 7.3750\n",
      "Epoch 131/200\n",
      "5/5 [==============================] - 0s 46ms/step - loss: 10.2011 - mse: 12.4134 - val_loss: 8.1586 - val_mse: 7.8574\n",
      "Epoch 132/200\n",
      "5/5 [==============================] - 0s 47ms/step - loss: 8.6835 - mse: 11.0741 - val_loss: 5.3535 - val_mse: 8.0228\n",
      "Epoch 133/200\n",
      "5/5 [==============================] - 0s 47ms/step - loss: 8.8228 - mse: 9.3113 - val_loss: 8.3425 - val_mse: 8.9972\n",
      "Epoch 134/200\n",
      "5/5 [==============================] - 0s 47ms/step - loss: 10.8726 - mse: 12.6904 - val_loss: 5.7378 - val_mse: 7.1644\n",
      "Epoch 135/200\n",
      "5/5 [==============================] - 0s 48ms/step - loss: 9.0270 - mse: 9.8763 - val_loss: 10.0449 - val_mse: 11.0066\n",
      "Epoch 136/200\n",
      "5/5 [==============================] - 0s 49ms/step - loss: 9.3300 - mse: 10.2712 - val_loss: 6.4634 - val_mse: 8.3913\n",
      "Epoch 137/200\n",
      "5/5 [==============================] - 0s 49ms/step - loss: 8.2110 - mse: 10.5204 - val_loss: 6.9143 - val_mse: 9.2052\n",
      "Epoch 138/200\n",
      "5/5 [==============================] - 0s 49ms/step - loss: 8.6519 - mse: 9.8213 - val_loss: 6.7719 - val_mse: 7.7350\n",
      "Epoch 139/200\n",
      "5/5 [==============================] - 0s 49ms/step - loss: 10.0164 - mse: 10.6030 - val_loss: 6.1102 - val_mse: 8.4729\n",
      "Epoch 140/200\n",
      "5/5 [==============================] - 0s 49ms/step - loss: 8.7172 - mse: 9.7219 - val_loss: 7.0812 - val_mse: 8.4437\n",
      "Epoch 141/200\n",
      "5/5 [==============================] - 0s 50ms/step - loss: 8.5814 - mse: 9.9661 - val_loss: 8.2829 - val_mse: 8.1238\n",
      "Epoch 142/200\n",
      "5/5 [==============================] - 0s 50ms/step - loss: 9.0797 - mse: 10.1712 - val_loss: 7.3982 - val_mse: 7.7648\n",
      "Epoch 143/200\n",
      "5/5 [==============================] - 0s 50ms/step - loss: 7.7826 - mse: 11.8206 - val_loss: 6.9991 - val_mse: 7.5549\n",
      "Epoch 144/200\n",
      "5/5 [==============================] - 0s 49ms/step - loss: 8.6260 - mse: 9.8166 - val_loss: 7.9056 - val_mse: 7.7007\n",
      "Epoch 145/200\n",
      "5/5 [==============================] - 0s 50ms/step - loss: 8.7995 - mse: 11.0164 - val_loss: 8.8846 - val_mse: 8.1454\n",
      "Epoch 146/200\n",
      "5/5 [==============================] - 0s 49ms/step - loss: 7.9013 - mse: 9.4570 - val_loss: 7.7360 - val_mse: 7.1514\n",
      "Epoch 147/200\n",
      "5/5 [==============================] - 0s 47ms/step - loss: 8.6228 - mse: 11.7600 - val_loss: 7.3045 - val_mse: 7.3939\n",
      "Epoch 148/200\n",
      "5/5 [==============================] - 0s 47ms/step - loss: 7.5255 - mse: 8.9077 - val_loss: 8.2656 - val_mse: 7.9201\n",
      "Epoch 149/200\n",
      "5/5 [==============================] - 0s 47ms/step - loss: 8.0139 - mse: 10.7496 - val_loss: 5.9718 - val_mse: 8.3277\n",
      "Epoch 150/200\n",
      "5/5 [==============================] - 0s 49ms/step - loss: 8.8400 - mse: 9.7071 - val_loss: 8.2856 - val_mse: 7.9474\n",
      "Epoch 151/200\n",
      "5/5 [==============================] - 0s 48ms/step - loss: 7.9177 - mse: 9.8444 - val_loss: 7.4210 - val_mse: 7.9991\n",
      "Epoch 152/200\n",
      "5/5 [==============================] - 0s 47ms/step - loss: 7.8667 - mse: 9.2266 - val_loss: 7.0808 - val_mse: 7.2672\n",
      "Epoch 153/200\n",
      "5/5 [==============================] - 0s 49ms/step - loss: 9.1152 - mse: 10.3487 - val_loss: 5.4349 - val_mse: 8.1469\n",
      "Epoch 154/200\n",
      "5/5 [==============================] - 0s 51ms/step - loss: 8.6263 - mse: 10.0537 - val_loss: 6.9989 - val_mse: 8.2299\n",
      "Epoch 155/200\n",
      "5/5 [==============================] - 0s 48ms/step - loss: 7.9558 - mse: 12.0366 - val_loss: 7.6391 - val_mse: 8.8205\n",
      "Epoch 156/200\n",
      "5/5 [==============================] - 0s 47ms/step - loss: 7.8995 - mse: 9.3718 - val_loss: 8.3514 - val_mse: 8.2703\n",
      "Epoch 157/200\n",
      "5/5 [==============================] - 0s 48ms/step - loss: 7.6443 - mse: 9.9408 - val_loss: 6.5012 - val_mse: 10.1688\n",
      "Epoch 158/200\n",
      "5/5 [==============================] - 0s 49ms/step - loss: 7.1649 - mse: 10.4318 - val_loss: 6.3063 - val_mse: 7.8403\n",
      "Epoch 159/200\n",
      "5/5 [==============================] - 0s 51ms/step - loss: 6.4929 - mse: 9.6563 - val_loss: 7.8048 - val_mse: 11.2934\n",
      "Epoch 160/200\n",
      "5/5 [==============================] - 0s 49ms/step - loss: 8.0983 - mse: 9.4638 - val_loss: 8.4645 - val_mse: 8.4549\n",
      "Epoch 161/200\n",
      "5/5 [==============================] - 0s 49ms/step - loss: 7.4180 - mse: 9.6257 - val_loss: 5.5244 - val_mse: 7.9717\n",
      "Epoch 162/200\n",
      "5/5 [==============================] - 0s 50ms/step - loss: 7.1707 - mse: 10.1842 - val_loss: 7.0946 - val_mse: 7.4129\n",
      "Epoch 163/200\n",
      "5/5 [==============================] - 0s 49ms/step - loss: 9.9021 - mse: 9.9214 - val_loss: 6.6106 - val_mse: 7.6209\n",
      "Epoch 164/200\n",
      "5/5 [==============================] - 0s 49ms/step - loss: 9.5223 - mse: 10.5937 - val_loss: 8.3461 - val_mse: 7.6238\n",
      "Epoch 165/200\n",
      "5/5 [==============================] - 0s 56ms/step - loss: 8.2762 - mse: 9.6431 - val_loss: 7.8260 - val_mse: 7.0696\n",
      "Epoch 166/200\n",
      "5/5 [==============================] - 0s 57ms/step - loss: 8.5581 - mse: 9.5759 - val_loss: 5.5405 - val_mse: 8.4971\n",
      "Epoch 167/200\n",
      "5/5 [==============================] - 0s 48ms/step - loss: 6.1605 - mse: 9.4413 - val_loss: 5.8449 - val_mse: 7.8261\n",
      "Epoch 168/200\n",
      "5/5 [==============================] - 0s 49ms/step - loss: 7.7518 - mse: 10.0931 - val_loss: 7.3488 - val_mse: 7.5250\n",
      "Epoch 169/200\n",
      "5/5 [==============================] - 0s 47ms/step - loss: 7.7654 - mse: 10.0426 - val_loss: 6.7949 - val_mse: 7.0442\n",
      "Epoch 170/200\n",
      "5/5 [==============================] - 0s 48ms/step - loss: 7.6307 - mse: 9.9693 - val_loss: 5.3522 - val_mse: 8.4880\n",
      "Epoch 171/200\n",
      "5/5 [==============================] - 0s 48ms/step - loss: 8.7384 - mse: 9.6723 - val_loss: 8.3163 - val_mse: 7.7728\n",
      "Epoch 172/200\n",
      "5/5 [==============================] - 0s 51ms/step - loss: 7.7017 - mse: 10.0635 - val_loss: 6.1173 - val_mse: 9.0562\n",
      "Epoch 173/200\n",
      "5/5 [==============================] - 0s 47ms/step - loss: 9.8366 - mse: 9.6603 - val_loss: 7.2076 - val_mse: 8.2648\n",
      "Epoch 174/200\n",
      "5/5 [==============================] - 0s 49ms/step - loss: 8.6977 - mse: 9.5813 - val_loss: 4.2883 - val_mse: 9.4270\n",
      "Epoch 175/200\n",
      "5/5 [==============================] - 0s 50ms/step - loss: 8.2614 - mse: 9.0052 - val_loss: 7.9889 - val_mse: 8.8574\n",
      "Epoch 176/200\n",
      "5/5 [==============================] - 0s 48ms/step - loss: 7.7937 - mse: 9.4947 - val_loss: 6.0666 - val_mse: 6.7625\n",
      "Epoch 177/200\n",
      "5/5 [==============================] - 0s 48ms/step - loss: 8.2051 - mse: 9.5948 - val_loss: 6.6607 - val_mse: 7.6249\n",
      "Epoch 178/200\n",
      "5/5 [==============================] - 0s 50ms/step - loss: 8.2488 - mse: 9.4172 - val_loss: 5.5705 - val_mse: 7.9270\n"
     ]
    }
   ],
   "source": [
    "diabetes_model, history = build_diabetes_model(diabetes_train_ds, diabetes_val_ds,  claim_feature_layer,  epochs=200)"
   ]
  },
  {
   "cell_type": "code",
   "execution_count": 208,
   "metadata": {},
   "outputs": [
    {
     "name": "stdout",
     "output_type": "stream",
     "text": [
      "Model: \"sequential_14\"\n",
      "_________________________________________________________________\n",
      "Layer (type)                 Output Shape              Param #   \n",
      "=================================================================\n",
      "dense_features_2 (DenseFeatu multiple                  0         \n",
      "_________________________________________________________________\n",
      "dense_34 (Dense)             multiple                  41400     \n",
      "_________________________________________________________________\n",
      "dense_35 (Dense)             multiple                  11325     \n",
      "_________________________________________________________________\n",
      "dense_variational_14 (DenseV multiple                  456       \n",
      "_________________________________________________________________\n",
      "distribution_lambda_14 (Dist multiple                  0         \n",
      "=================================================================\n",
      "Total params: 53,181\n",
      "Trainable params: 53,181\n",
      "Non-trainable params: 0\n",
      "_________________________________________________________________\n"
     ]
    }
   ],
   "source": [
    "diabetes_model.summary()"
   ]
  },
  {
   "cell_type": "code",
   "execution_count": 217,
   "metadata": {},
   "outputs": [
    {
     "name": "stdout",
     "output_type": "stream",
     "text": [
      "2/2 - 0s - loss: 7.0019 - mse: 6.9558\n"
     ]
    }
   ],
   "source": [
    "loss, mse = diabetes_model.evaluate(diabetes_val_ds, verbose=2)"
   ]
  },
  {
   "cell_type": "code",
   "execution_count": 113,
   "metadata": {},
   "outputs": [],
   "source": [
    "def plot_loss(history):\n",
    "    plt.plot(history.history['loss'], label='loss')\n",
    "    plt.plot(history.history['val_loss'], label='val_loss')\n",
    "    plt.xlabel('Epoch')\n",
    "    plt.ylabel('Error')\n",
    "    plt.legend()\n",
    "    plt.grid(True)"
   ]
  },
  {
   "cell_type": "code",
   "execution_count": 218,
   "metadata": {},
   "outputs": [
    {
     "data": {
      "image/png": "[encoded data removed]",
      "text/plain": [
       "<Figure size 432x288 with 1 Axes>"
      ]
     },
     "metadata": {
      "needs_background": "light"
     },
     "output_type": "display_data"
    }
   ],
   "source": [
    "plot_loss(history)"
   ]
  },
  {
   "cell_type": "markdown",
   "metadata": {},
   "source": [
    "## Show Model Uncertainty Range with TF Probability"
   ]
  },
  {
   "cell_type": "markdown",
   "metadata": {},
   "source": [
    "**Question 9**: Now that we have trained a model with TF Probability layers, we can extract the mean and standard deviation for each prediction. Please fill in the answer for the m and s variables below. The code for getting the predictions is provided for you below."
   ]
  },
  {
   "cell_type": "code",
   "execution_count": 219,
   "metadata": {},
   "outputs": [],
   "source": [
    "feature_list = student_categorical_col_list + student_numerical_col_list\n",
    "diabetes_x_tst = dict(d_test[feature_list])\n",
    "diabetes_yhat = diabetes_model(diabetes_x_tst)\n",
    "preds = diabetes_model.predict(diabetes_test_ds)"
   ]
  },
  {
   "cell_type": "code",
   "execution_count": 220,
   "metadata": {},
   "outputs": [],
   "source": [
    "%autoreload 2\n",
    "from student_utils import get_mean_std_from_preds\n",
    "m, s = get_mean_std_from_preds(diabetes_yhat)"
   ]
  },
  {
   "cell_type": "markdown",
   "metadata": {},
   "source": [
    "## Show Prediction Output "
   ]
  },
  {
   "cell_type": "code",
   "execution_count": 221,
   "metadata": {},
   "outputs": [],
   "source": [
    "prob_outputs = {\n",
    "    \"pred\": preds.flatten(),\n",
    "    \"actual_value\": d_test['time_in_hospital'].values,\n",
    "    \"pred_mean\": m.numpy().flatten(),\n",
    "    \"pred_std\": s.numpy().flatten()\n",
    "}\n",
    "prob_output_df = pd.DataFrame(prob_outputs)"
   ]
  },
  {
   "cell_type": "code",
   "execution_count": 222,
   "metadata": {},
   "outputs": [
    {
     "data": {
      "text/html": [
       "<div>\n",
       "<style scoped>\n",
       "    .dataframe tbody tr th:only-of-type {\n",
       "        vertical-align: middle;\n",
       "    }\n",
       "\n",
       "    .dataframe tbody tr th {\n",
       "        vertical-align: top;\n",
       "    }\n",
       "\n",
       "    .dataframe thead th {\n",
       "        text-align: right;\n",
       "    }\n",
       "</style>\n",
       "<table border=\"1\" class=\"dataframe\">\n",
       "  <thead>\n",
       "    <tr style=\"text-align: right;\">\n",
       "      <th></th>\n",
       "      <th>pred</th>\n",
       "      <th>actual_value</th>\n",
       "      <th>pred_mean</th>\n",
       "      <th>pred_std</th>\n",
       "    </tr>\n",
       "  </thead>\n",
       "  <tbody>\n",
       "    <tr>\n",
       "      <th>0</th>\n",
       "      <td>3.418628</td>\n",
       "      <td>6.0</td>\n",
       "      <td>4.089248</td>\n",
       "      <td>0.862768</td>\n",
       "    </tr>\n",
       "    <tr>\n",
       "      <th>1</th>\n",
       "      <td>4.313499</td>\n",
       "      <td>4.0</td>\n",
       "      <td>4.089248</td>\n",
       "      <td>0.862768</td>\n",
       "    </tr>\n",
       "    <tr>\n",
       "      <th>2</th>\n",
       "      <td>3.550664</td>\n",
       "      <td>2.0</td>\n",
       "      <td>4.089248</td>\n",
       "      <td>0.862768</td>\n",
       "    </tr>\n",
       "    <tr>\n",
       "      <th>3</th>\n",
       "      <td>4.062811</td>\n",
       "      <td>6.0</td>\n",
       "      <td>4.089248</td>\n",
       "      <td>0.862768</td>\n",
       "    </tr>\n",
       "    <tr>\n",
       "      <th>4</th>\n",
       "      <td>5.516274</td>\n",
       "      <td>3.0</td>\n",
       "      <td>4.089248</td>\n",
       "      <td>0.862768</td>\n",
       "    </tr>\n",
       "    <tr>\n",
       "      <th>...</th>\n",
       "      <td>...</td>\n",
       "      <td>...</td>\n",
       "      <td>...</td>\n",
       "      <td>...</td>\n",
       "    </tr>\n",
       "    <tr>\n",
       "      <th>180</th>\n",
       "      <td>3.484530</td>\n",
       "      <td>5.0</td>\n",
       "      <td>4.089248</td>\n",
       "      <td>0.862768</td>\n",
       "    </tr>\n",
       "    <tr>\n",
       "      <th>181</th>\n",
       "      <td>3.054685</td>\n",
       "      <td>2.0</td>\n",
       "      <td>4.089248</td>\n",
       "      <td>0.862768</td>\n",
       "    </tr>\n",
       "    <tr>\n",
       "      <th>182</th>\n",
       "      <td>3.333057</td>\n",
       "      <td>6.0</td>\n",
       "      <td>4.089248</td>\n",
       "      <td>0.862768</td>\n",
       "    </tr>\n",
       "    <tr>\n",
       "      <th>183</th>\n",
       "      <td>3.557742</td>\n",
       "      <td>14.0</td>\n",
       "      <td>4.089248</td>\n",
       "      <td>0.862768</td>\n",
       "    </tr>\n",
       "    <tr>\n",
       "      <th>184</th>\n",
       "      <td>2.953095</td>\n",
       "      <td>3.0</td>\n",
       "      <td>4.089248</td>\n",
       "      <td>0.862768</td>\n",
       "    </tr>\n",
       "  </tbody>\n",
       "</table>\n",
       "<p>185 rows × 4 columns</p>\n",
       "</div>"
      ],
      "text/plain": [
       "         pred  actual_value  pred_mean  pred_std\n",
       "0    3.418628           6.0   4.089248  0.862768\n",
       "1    4.313499           4.0   4.089248  0.862768\n",
       "2    3.550664           2.0   4.089248  0.862768\n",
       "3    4.062811           6.0   4.089248  0.862768\n",
       "4    5.516274           3.0   4.089248  0.862768\n",
       "..        ...           ...        ...       ...\n",
       "180  3.484530           5.0   4.089248  0.862768\n",
       "181  3.054685           2.0   4.089248  0.862768\n",
       "182  3.333057           6.0   4.089248  0.862768\n",
       "183  3.557742          14.0   4.089248  0.862768\n",
       "184  2.953095           3.0   4.089248  0.862768\n",
       "\n",
       "[185 rows x 4 columns]"
      ]
     },
     "execution_count": 222,
     "metadata": {},
     "output_type": "execute_result"
    }
   ],
   "source": [
    "prob_output_df"
   ]
  },
  {
   "cell_type": "markdown",
   "metadata": {},
   "source": [
    "## Convert Regression Output to Classification Output for Patient Selection"
   ]
  },
  {
   "cell_type": "markdown",
   "metadata": {},
   "source": [
    "**Question 10**: Given the output predictions, convert it to a binary label for whether the patient meets the time criteria or does not (HINT: use the mean prediction numpy array). The expected output is a numpy array with a 1 or 0 based off if the prediction meets or doesnt meet the criteria."
   ]
  },
  {
   "cell_type": "code",
   "execution_count": 156,
   "metadata": {},
   "outputs": [],
   "source": [
    "from student_utils import get_student_binary_prediction\n",
    "student_binary_prediction = get_student_binary_prediction(prob_output_df, 'pred_mean', thr=4)"
   ]
  },
  {
   "cell_type": "markdown",
   "metadata": {},
   "source": [
    "### Add Binary Prediction to Test Dataframe"
   ]
  },
  {
   "cell_type": "markdown",
   "metadata": {},
   "source": [
    "Using the student_binary_prediction output that is a numpy array with binary labels, we can use this to add to a dataframe to better visualize and also to prepare the data for the Aequitas toolkit. The Aequitas toolkit requires that the predictions be mapped to a binary label for the predictions (called 'score' field) and the actual value (called 'label_value')."
   ]
  },
  {
   "cell_type": "code",
   "execution_count": 157,
   "metadata": {},
   "outputs": [],
   "source": [
    "def add_pred_to_test(test_df, pred_np, demo_col_list):\n",
    "    for c in demo_col_list:\n",
    "        test_df[c] = test_df[c].astype(str)\n",
    "    test_df['score'] = pred_np\n",
    "    test_df['label_value'] = test_df['time_in_hospital'].apply(lambda x: 1 if x >=5 else 0)\n",
    "    return test_df\n",
    "\n",
    "pred_test_df = add_pred_to_test(d_test, student_binary_prediction, ['race', 'gender'])"
   ]
  },
  {
   "cell_type": "code",
   "execution_count": 158,
   "metadata": {},
   "outputs": [
    {
     "data": {
      "text/html": [
       "<div>\n",
       "<style scoped>\n",
       "    .dataframe tbody tr th:only-of-type {\n",
       "        vertical-align: middle;\n",
       "    }\n",
       "\n",
       "    .dataframe tbody tr th {\n",
       "        vertical-align: top;\n",
       "    }\n",
       "\n",
       "    .dataframe thead th {\n",
       "        text-align: right;\n",
       "    }\n",
       "</style>\n",
       "<table border=\"1\" class=\"dataframe\">\n",
       "  <thead>\n",
       "    <tr style=\"text-align: right;\">\n",
       "      <th></th>\n",
       "      <th>patient_nbr</th>\n",
       "      <th>gender</th>\n",
       "      <th>race</th>\n",
       "      <th>time_in_hospital</th>\n",
       "      <th>score</th>\n",
       "      <th>label_value</th>\n",
       "    </tr>\n",
       "  </thead>\n",
       "  <tbody>\n",
       "    <tr>\n",
       "      <th>0</th>\n",
       "      <td>102998124</td>\n",
       "      <td>Male</td>\n",
       "      <td>Caucasian</td>\n",
       "      <td>6.0</td>\n",
       "      <td>1</td>\n",
       "      <td>1</td>\n",
       "    </tr>\n",
       "    <tr>\n",
       "      <th>1</th>\n",
       "      <td>72877500</td>\n",
       "      <td>Female</td>\n",
       "      <td>AfricanAmerican</td>\n",
       "      <td>4.0</td>\n",
       "      <td>1</td>\n",
       "      <td>0</td>\n",
       "    </tr>\n",
       "    <tr>\n",
       "      <th>2</th>\n",
       "      <td>88084233</td>\n",
       "      <td>Female</td>\n",
       "      <td>Caucasian</td>\n",
       "      <td>2.0</td>\n",
       "      <td>1</td>\n",
       "      <td>0</td>\n",
       "    </tr>\n",
       "    <tr>\n",
       "      <th>3</th>\n",
       "      <td>53829720</td>\n",
       "      <td>Male</td>\n",
       "      <td>Caucasian</td>\n",
       "      <td>6.0</td>\n",
       "      <td>1</td>\n",
       "      <td>1</td>\n",
       "    </tr>\n",
       "    <tr>\n",
       "      <th>4</th>\n",
       "      <td>88245207</td>\n",
       "      <td>Male</td>\n",
       "      <td>Caucasian</td>\n",
       "      <td>3.0</td>\n",
       "      <td>1</td>\n",
       "      <td>0</td>\n",
       "    </tr>\n",
       "  </tbody>\n",
       "</table>\n",
       "</div>"
      ],
      "text/plain": [
       "   patient_nbr  gender             race  time_in_hospital  score  label_value\n",
       "0    102998124    Male        Caucasian               6.0      1            1\n",
       "1     72877500  Female  AfricanAmerican               4.0      1            0\n",
       "2     88084233  Female        Caucasian               2.0      1            0\n",
       "3     53829720    Male        Caucasian               6.0      1            1\n",
       "4     88245207    Male        Caucasian               3.0      1            0"
      ]
     },
     "execution_count": 158,
     "metadata": {},
     "output_type": "execute_result"
    }
   ],
   "source": [
    "pred_test_df[['patient_nbr', 'gender', 'race', 'time_in_hospital', 'score', 'label_value']].head()"
   ]
  },
  {
   "cell_type": "code",
   "execution_count": 161,
   "metadata": {},
   "outputs": [
    {
     "data": {
      "text/plain": [
       "1    185\n",
       "Name: score, dtype: int64"
      ]
     },
     "execution_count": 161,
     "metadata": {},
     "output_type": "execute_result"
    }
   ],
   "source": [
    "pred_test_df['score'].value_counts()"
   ]
  },
  {
   "cell_type": "markdown",
   "metadata": {},
   "source": [
    "## Model Evaluation Metrics "
   ]
  },
  {
   "cell_type": "markdown",
   "metadata": {},
   "source": [
    "**Question 11**: Now it is time to use the newly created binary labels in the 'pred_test_df' dataframe to evaluate the model with some common classification metrics. Please create a report summary of the performance of the model and be sure to give the ROC AUC, F1 score(weighted), class precision and recall scores. "
   ]
  },
  {
   "cell_type": "markdown",
   "metadata": {},
   "source": [
    "For the report please be sure to include the following three parts:\n",
    "- With a non-technical audience in mind, explain the precision-recall tradeoff in regard to how you have optimized your model.\n",
    "\n",
    "- What are some areas of improvement for future iterations?"
   ]
  },
  {
   "cell_type": "code",
   "execution_count": null,
   "metadata": {},
   "outputs": [],
   "source": [
    "# AUC, F1, precision and recall\n",
    "# Summary"
   ]
  },
  {
   "cell_type": "markdown",
   "metadata": {},
   "source": [
    "# 7. Evaluating Potential Model Biases with Aequitas Toolkit"
   ]
  },
  {
   "cell_type": "markdown",
   "metadata": {},
   "source": [
    "## Prepare Data For Aequitas Bias Toolkit "
   ]
  },
  {
   "cell_type": "markdown",
   "metadata": {},
   "source": [
    "Using the gender and race fields, we will prepare the data for the Aequitas Toolkit."
   ]
  },
  {
   "cell_type": "code",
   "execution_count": null,
   "metadata": {},
   "outputs": [],
   "source": [
    "# Aequitas\n",
    "from aequitas.preprocessing import preprocess_input_df\n",
    "from aequitas.group import Group\n",
    "from aequitas.plotting import Plot\n",
    "from aequitas.bias import Bias\n",
    "from aequitas.fairness import Fairness\n",
    "\n",
    "ae_subset_df = pred_test_df[['race', 'gender', 'score', 'label_value']]\n",
    "ae_df, _ = preprocess_input_df(ae_subset_df)\n",
    "g = Group()\n",
    "xtab, _ = g.get_crosstabs(ae_df)\n",
    "absolute_metrics = g.list_absolute_metrics(xtab)\n",
    "clean_xtab = xtab.fillna(-1)\n",
    "aqp = Plot()\n",
    "b = Bias()\n"
   ]
  },
  {
   "cell_type": "markdown",
   "metadata": {},
   "source": [
    "## Reference Group Selection"
   ]
  },
  {
   "cell_type": "markdown",
   "metadata": {},
   "source": [
    "Below we have chosen the reference group for our analysis but feel free to select another one."
   ]
  },
  {
   "cell_type": "code",
   "execution_count": null,
   "metadata": {},
   "outputs": [],
   "source": [
    "# test reference group with Caucasian Male\n",
    "bdf = b.get_disparity_predefined_groups(clean_xtab, \n",
    "                    original_df=ae_df, \n",
    "                    ref_groups_dict={'race':'Caucasian', 'gender':'Male'\n",
    "                                     }, \n",
    "                    alpha=0.05, \n",
    "                    check_significance=False)\n",
    "\n",
    "\n",
    "f = Fairness()\n",
    "fdf = f.get_group_value_fairness(bdf)"
   ]
  },
  {
   "cell_type": "markdown",
   "metadata": {},
   "source": [
    "## Race and Gender Bias Analysis for Patient Selection"
   ]
  },
  {
   "cell_type": "markdown",
   "metadata": {},
   "source": [
    "**Question 12**: For the gender and race fields, please plot two metrics that are important for patient selection below and state whether there is a significant bias in your model across any of the groups along with justification for your statement."
   ]
  },
  {
   "cell_type": "code",
   "execution_count": null,
   "metadata": {},
   "outputs": [],
   "source": [
    "# Plot two metrics\n",
    "\n",
    "# Is there significant bias in your model for either race or gender?"
   ]
  },
  {
   "cell_type": "markdown",
   "metadata": {},
   "source": [
    "## Fairness Analysis Example - Relative to a Reference Group "
   ]
  },
  {
   "cell_type": "markdown",
   "metadata": {},
   "source": [
    "**Question 13**: Earlier we defined our reference group and then calculated disparity metrics relative to this grouping. Please provide a visualization of the fairness evaluation for this reference group and analyze whether there is disparity."
   ]
  },
  {
   "cell_type": "code",
   "execution_count": null,
   "metadata": {},
   "outputs": [],
   "source": [
    "# Reference group fairness plot"
   ]
  }
 ],
 "metadata": {
  "kernelspec": {
   "display_name": "Python 3",
   "language": "python",
   "name": "python3"
  },
  "language_info": {
   "codemirror_mode": {
    "name": "ipython",
    "version": 3
   },
   "file_extension": ".py",
   "mimetype": "text/x-python",
   "name": "python",
   "nbconvert_exporter": "python",
   "pygments_lexer": "ipython3",
   "version": "3.7.6"
  }
 },
 "nbformat": 4,
 "nbformat_minor": 2
}
